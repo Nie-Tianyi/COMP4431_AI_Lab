{
 "cells": [
  {
   "cell_type": "code",
   "execution_count": 258,
   "id": "dfd55326",
   "metadata": {
    "ExecuteTime": {
     "end_time": "2023-10-10T12:52:17.681926800Z",
     "start_time": "2023-10-10T12:52:17.617748200Z"
    }
   },
   "outputs": [],
   "source": [
    "import networkx as nx\n",
    "from typing import List\n",
    "\n",
    "def solve(transmissions: List[List[int]], num_servers: int) -> int:\n",
    "    \"\"\"Your solution to the problem goes in this function.\n",
    "    \n",
    "    :param: transmissions (List[List[int]]): The permitted transmission \n",
    "    between servers, \n",
    "    e.g., [[1, 0], [3, 1], [1, 2], [4,0], [4,5]]\n",
    "    :param: num_servers (int): The number of servers in the network, \n",
    "    e.g., 6\n",
    "    :return: int: the minimum number of transmission changes required, \n",
    "    or -1 if it is not possible to ensure that all servers can reach the\n",
    "    central server, or -2 if the input is invalid,\n",
    "    e.g., 2\n",
    "    \"\"\"\n",
    "    # Check if the number of servers is at least 2\n",
    "    if num_servers < 2:\n",
    "        print(\"The number of servers should be >= 2\")\n",
    "        return -2\n",
    "\n",
    "    # Check if the number of directed transmissions is less than the number of servers\n",
    "    if len(transmissions) >= num_servers:\n",
    "        print(\"The number of directed transmissions should be < n\")\n",
    "        return -2\n",
    "    \n",
    "    G = nx.DiGraph()\n",
    "    for i in range(num_servers):\n",
    "        G.add_node(i)\n",
    "    for u, v in transmissions:\n",
    "        G.add_edge(u, v)\n",
    "    \n",
    "    # if the graph is not connected -> not feasible -> directly return -1\n",
    "    if not nx.is_weakly_connected(G):\n",
    "        return -1\n",
    "\n",
    "    return max(search(G, num_servers), search_reverse(G, num_servers))\n",
    "\n",
    "def search(G, num_servers):\n",
    "    # if the graph is connected & num of edge is n-1 -> it is a tree -> do the dijkstra search \n",
    "    changes = 0\n",
    "    for node in range(1, num_servers):  # Exclude the central server\n",
    "        try: # Try to find a path from node to the central server\n",
    "            _ = nx.shortest_path(G, node, 0)  \n",
    "        except nx.NetworkXNoPath: \n",
    "            # If there's no path, change the direction of an edge from a predecessor of node\n",
    "            predecessor = next(G.predecessors(node))\n",
    "        \n",
    "            if predecessor is not None:       # If there's no predecessor -> it is a leaf -> go to next node\n",
    "                G.remove_edge(predecessor, node)\n",
    "                G.add_edge(node, predecessor)\n",
    "                changes += 1\n",
    "\n",
    "    # Check if all servers can now reach the central server\n",
    "    for node in range(1, num_servers):  # Exclude the central server\n",
    "        try:\n",
    "            _ = nx.shortest_path(G, node, 0)  # Try to find a path from node to the central server\n",
    "        except nx.NetworkXNoPath:\n",
    "            return -1  # If a server cannot reach the central server, return -1\n",
    "    return changes\n",
    "\n",
    "\n",
    "def search_reverse(G, num_servers):\n",
    "    # if the graph is connected & num of edge is n-1 -> it is a tree -> do the dijkstra search \n",
    "    changes = 0\n",
    "    nodes = list(range(1,num_servers))\n",
    "    nodes.reverse()\n",
    "    print(nodes)\n",
    "    for node in nodes:  # Exclude the central server\n",
    "        try: # Try to find a path from node to the central server\n",
    "            _ = nx.shortest_path(G, node, 0)  \n",
    "        except nx.NetworkXNoPath: \n",
    "            # If there's no path, change the direction of an edge from a predecessor of node\n",
    "            predecessor = next(G.predecessors(node))\n",
    "        \n",
    "            if predecessor is not None:       # If there's no predecessor -> it is a leaf -> go to next node\n",
    "                G.remove_edge(predecessor, node)\n",
    "                G.add_edge(node, predecessor)\n",
    "                changes += 1\n",
    "\n",
    "    # Check if all servers can now reach the central server\n",
    "    for node in nodes:  # Exclude the central server\n",
    "        try:\n",
    "            _ = nx.shortest_path(G, node, 0)  # Try to find a path from node to the central server\n",
    "        except nx.NetworkXNoPath:\n",
    "            return -1  # If a server cannot reach the central server, return -1\n",
    "    return changes\n",
    "\n",
    "    "
   ]
  },
  {
   "cell_type": "code",
   "execution_count": 259,
   "id": "d5655abf",
   "metadata": {
    "ExecuteTime": {
     "end_time": "2023-10-10T12:52:17.682926700Z",
     "start_time": "2023-10-10T12:52:17.621816900Z"
    }
   },
   "outputs": [
    {
     "name": "stdout",
     "output_type": "stream",
     "text": [
      "[5, 4, 3, 2, 1]\n",
      "Passed test case 1(1)...\n"
     ]
    }
   ],
   "source": [
    "# test case 1.1: n>2 & connected & changes at leaf nodes \n",
    "transmissions = [[1, 0], [3, 1], [1, 2], [4,0], [4,5]]\n",
    "num_servers = 6\n",
    "answer = 2\n",
    "result = solve(transmissions, num_servers)\n",
    "assert result == answer, f\"Test case 1: expected {answer}, got {result}\"\n",
    "print('Passed test case 1(1)...')"
   ]
  },
  {
   "cell_type": "code",
   "execution_count": 260,
   "id": "815102b8",
   "metadata": {
    "ExecuteTime": {
     "end_time": "2023-10-10T12:52:17.682926700Z",
     "start_time": "2023-10-10T12:52:17.625057200Z"
    }
   },
   "outputs": [
    {
     "name": "stdout",
     "output_type": "stream",
     "text": [
      "[5, 4, 3, 2, 1]\n",
      "Passed test case 1(2)...\n"
     ]
    }
   ],
   "source": [
    "# test case 1.2: n>2 & connected & changes at inner nodes \n",
    "transmissions = [[0, 1], [3, 1], [2, 1], [4, 0], [5, 4]]\n",
    "num_servers = 6\n",
    "answer = 1\n",
    "result = solve(transmissions, num_servers)\n",
    "assert result == answer, f\"Test case 1: expected {answer}, got {result}\"\n",
    "print('Passed test case 1(2)...')"
   ]
  },
  {
   "cell_type": "code",
   "execution_count": 261,
   "id": "436847ca",
   "metadata": {
    "ExecuteTime": {
     "end_time": "2023-10-10T12:52:17.686718300Z",
     "start_time": "2023-10-10T12:52:17.627540400Z"
    }
   },
   "outputs": [
    {
     "name": "stdout",
     "output_type": "stream",
     "text": [
      "[5, 4, 3, 2, 1]\n",
      "Passed test case 1(3)...\n"
     ]
    }
   ],
   "source": [
    "# test case 1.3: n>2 & connected & changes at inner nodes \n",
    "transmissions = [[1, 0], [3, 1], [2, 1], [0, 4], [5, 4]]\n",
    "num_servers = 6\n",
    "answer = 1\n",
    "result = solve(transmissions, num_servers)\n",
    "assert result == answer, f\"Test case 1: expected {answer}, got {result}\"\n",
    "print('Passed test case 1(3)...')"
   ]
  },
  {
   "cell_type": "code",
   "execution_count": 262,
   "id": "6a94efcc",
   "metadata": {
    "ExecuteTime": {
     "end_time": "2023-10-10T12:52:17.686718300Z",
     "start_time": "2023-10-10T12:52:17.630318900Z"
    }
   },
   "outputs": [
    {
     "name": "stdout",
     "output_type": "stream",
     "text": [
      "[5, 4, 3, 2, 1]\n",
      "Passed test case 1(4)...\n"
     ]
    }
   ],
   "source": [
    "# test case 1.4: n>2 & connected & changes at inner nodes \n",
    "transmissions = [[0, 1], [3, 1], [2, 1], [0, 4], [5, 4]]\n",
    "num_servers = 6\n",
    "answer = 2\n",
    "result = solve(transmissions, num_servers)\n",
    "assert result == answer, f\"Test case 1: expected {answer}, got {result}\"\n",
    "print('Passed test case 1(4)...')"
   ]
  },
  {
   "cell_type": "code",
   "execution_count": 263,
   "id": "5e80a6f5",
   "metadata": {
    "ExecuteTime": {
     "end_time": "2023-10-10T12:52:17.686718300Z",
     "start_time": "2023-10-10T12:52:17.633073100Z"
    }
   },
   "outputs": [
    {
     "name": "stdout",
     "output_type": "stream",
     "text": [
      "[5, 4, 3, 2, 1]\n",
      "Passed test case 1(5)...\n"
     ]
    }
   ],
   "source": [
    "# test case 1.5: n>2 & connected & changes at both inner nodes and leaf nodes\n",
    "transmissions = [[0, 1], [3, 1], [1, 2], [4, 0], [5, 4]]\n",
    "num_servers = 6\n",
    "answer = 2\n",
    "result = solve(transmissions, num_servers)\n",
    "assert result == answer, f\"Test case 1: expected {answer}, got {result}\"\n",
    "print('Passed test case 1(5)...')"
   ]
  },
  {
   "cell_type": "code",
   "execution_count": 264,
   "id": "679845bb",
   "metadata": {
    "ExecuteTime": {
     "end_time": "2023-10-10T12:52:17.686718300Z",
     "start_time": "2023-10-10T12:52:17.635659400Z"
    }
   },
   "outputs": [
    {
     "name": "stdout",
     "output_type": "stream",
     "text": [
      "[5, 4, 3, 2, 1]\n",
      "Passed test case 1(6)...\n"
     ]
    }
   ],
   "source": [
    "# test case 1.6: n>2 & connected & changes at both inner nodes and leaf nodes\n",
    "transmissions = [[0, 1], [3, 1], [1, 2], [4, 0], [4, 5]]\n",
    "num_servers = 6\n",
    "answer = 3\n",
    "result = solve(transmissions, num_servers)\n",
    "assert result == answer, f\"Test case 1: expected {answer}, got {result}\"\n",
    "print('Passed test case 1(6)...')"
   ]
  },
  {
   "cell_type": "code",
   "execution_count": 265,
   "id": "9bc38cff",
   "metadata": {
    "ExecuteTime": {
     "end_time": "2023-10-10T12:52:17.686718300Z",
     "start_time": "2023-10-10T12:52:17.637559200Z"
    }
   },
   "outputs": [
    {
     "name": "stdout",
     "output_type": "stream",
     "text": [
      "[3, 2, 1]\n",
      "Passed test case 2...\n"
     ]
    }
   ],
   "source": [
    "# test case 2: n>2 & connected & no change\n",
    "transmissions = [[1, 0], [3, 1], [2, 3]]\n",
    "num_servers = 4\n",
    "answer = 0\n",
    "result = solve(transmissions, num_servers)\n",
    "assert result == answer, f\"Test case 2: expected {answer}, got {result}\"\n",
    "print('Passed test case 2...')"
   ]
  },
  {
   "cell_type": "code",
   "execution_count": 266,
   "id": "0a1490a8",
   "metadata": {
    "ExecuteTime": {
     "end_time": "2023-10-10T12:52:17.686718300Z",
     "start_time": "2023-10-10T12:52:17.640325800Z"
    }
   },
   "outputs": [
    {
     "name": "stdout",
     "output_type": "stream",
     "text": [
      "[3, 2, 1]\n",
      "Passed test case 3...\n"
     ]
    }
   ],
   "source": [
    "# Test case 3: n>2 & connected & no change\n",
    "transmissions = [[1, 0], [2, 0], [3, 0]]\n",
    "num_servers = 4\n",
    "answer = 0\n",
    "result = solve(transmissions, num_servers)\n",
    "assert result == answer, f\"Test case 3: expected {answer}, got {result}\"\n",
    "print('Passed test case 3...')"
   ]
  },
  {
   "cell_type": "code",
   "execution_count": 267,
   "id": "67d21733",
   "metadata": {
    "ExecuteTime": {
     "end_time": "2023-10-10T12:52:17.686718300Z",
     "start_time": "2023-10-10T12:52:17.642742100Z"
    }
   },
   "outputs": [
    {
     "name": "stdout",
     "output_type": "stream",
     "text": [
      "Passed test case 4...\n"
     ]
    }
   ],
   "source": [
    "# Test case 4: n>2 & not connected\n",
    "transmissions = [[1, 2], [2, 3], [3, 4]]\n",
    "num_servers = 5\n",
    "answer = -1\n",
    "result = solve(transmissions, num_servers)\n",
    "assert result == answer, f\"Test case 4: expected {answer}, got {result}\"\n",
    "print('Passed test case 4...')"
   ]
  },
  {
   "cell_type": "code",
   "execution_count": 268,
   "id": "7e7d3b87",
   "metadata": {
    "ExecuteTime": {
     "end_time": "2023-10-10T12:52:17.687718200Z",
     "start_time": "2023-10-10T12:52:17.644977900Z"
    }
   },
   "outputs": [
    {
     "name": "stdout",
     "output_type": "stream",
     "text": [
      "[1]\n",
      "Passed test case 5...\n"
     ]
    }
   ],
   "source": [
    "# Test case 5: n=2 & connected & changes\n",
    "transmissions = [[0, 1]]\n",
    "num_servers = 2\n",
    "answer = 1\n",
    "result = solve(transmissions, num_servers)\n",
    "assert result == answer, f\"Test case 5: expected {answer}, got {result}\"\n",
    "print('Passed test case 5...')"
   ]
  },
  {
   "cell_type": "code",
   "execution_count": 269,
   "id": "4b4bf648",
   "metadata": {
    "ExecuteTime": {
     "end_time": "2023-10-10T12:52:17.713717900Z",
     "start_time": "2023-10-10T12:52:17.647321700Z"
    }
   },
   "outputs": [
    {
     "name": "stdout",
     "output_type": "stream",
     "text": [
      "[1]\n",
      "Passed test case 6...\n"
     ]
    }
   ],
   "source": [
    "# Test case 6: n=2 & connected & no change\n",
    "transmissions = [[1, 0]]\n",
    "num_servers = 2\n",
    "answer = 0\n",
    "result = solve(transmissions, num_servers)\n",
    "assert result == answer, f\"Test case 6: expected {answer}, got {result}\"\n",
    "print('Passed test case 6...')"
   ]
  },
  {
   "cell_type": "code",
   "execution_count": 270,
   "id": "b3982731",
   "metadata": {
    "ExecuteTime": {
     "end_time": "2023-10-10T12:52:17.713717900Z",
     "start_time": "2023-10-10T12:52:17.649492800Z"
    }
   },
   "outputs": [
    {
     "name": "stdout",
     "output_type": "stream",
     "text": [
      "Passed test case 7...\n"
     ]
    }
   ],
   "source": [
    "# Test case 7: n=2 & not connected\n",
    "transmissions = []\n",
    "num_servers = 2\n",
    "answer = -1\n",
    "result = solve(transmissions, num_servers)\n",
    "assert result == answer, f\"Test case 7: expected {answer}, got {result}\"\n",
    "print('Passed test case 7...')"
   ]
  },
  {
   "cell_type": "code",
   "execution_count": 271,
   "id": "9b95959f",
   "metadata": {
    "ExecuteTime": {
     "end_time": "2023-10-10T12:52:17.713717900Z",
     "start_time": "2023-10-10T12:52:17.651921Z"
    }
   },
   "outputs": [
    {
     "name": "stdout",
     "output_type": "stream",
     "text": [
      "The number of servers should be >= 2\n",
      "Passed test case 8...\n"
     ]
    }
   ],
   "source": [
    "# Test case 8: n=1\n",
    "transmissions = []\n",
    "num_servers = 1\n",
    "answer = -2\n",
    "result = solve(transmissions, num_servers)\n",
    "assert result == answer, f\"Test case 8: expected {answer}, got {result}\"\n",
    "print('Passed test case 8...')"
   ]
  },
  {
   "cell_type": "code",
   "execution_count": 272,
   "id": "692a8513",
   "metadata": {
    "ExecuteTime": {
     "end_time": "2023-10-10T12:52:17.713717900Z",
     "start_time": "2023-10-10T12:52:17.654744100Z"
    }
   },
   "outputs": [
    {
     "name": "stdout",
     "output_type": "stream",
     "text": [
      "The number of directed transmissions should be < n\n",
      "Passed test case 9...\n"
     ]
    }
   ],
   "source": [
    "# Test case 9: transmission>=n\n",
    "transmissions = [[0,1],[1,0]]\n",
    "num_servers = 2\n",
    "answer = -2\n",
    "result = solve(transmissions, num_servers)\n",
    "assert result == answer, f\"Test case 9: expected {answer}, got {result}\"\n",
    "print('Passed test case 9...')"
   ]
  },
  {
   "cell_type": "code",
   "execution_count": 273,
   "id": "4c2dd59d",
   "metadata": {
    "ExecuteTime": {
     "end_time": "2023-10-10T12:52:17.713717900Z",
     "start_time": "2023-10-10T12:52:17.657182900Z"
    }
   },
   "outputs": [
    {
     "name": "stdout",
     "output_type": "stream",
     "text": [
      "[2, 1]\n",
      "Passed test case 10...\n"
     ]
    }
   ],
   "source": [
    "# Test case 10: n=3 & connected & no change\n",
    "transmissions = [[0, 2], [2, 1]]\n",
    "num_servers = 3\n",
    "answer = 2\n",
    "result = solve(transmissions, num_servers)\n",
    "assert result == answer, f\"Test case 10: expected {answer}, got {result}\"\n",
    "print('Passed test case 10...')\n"
   ]
  },
  {
   "cell_type": "code",
   "execution_count": 274,
   "outputs": [
    {
     "name": "stdout",
     "output_type": "stream",
     "text": [
      "The number of directed transmissions should be < n\n",
      "Passed test case 11...\n"
     ]
    }
   ],
   "source": [
    "# Test case 11: n=4 & connected & no change\n",
    "transmissions = [[0, 2], [2, 1], [1, 3], [2, 3]]\n",
    "num_servers = 4\n",
    "answer = -2\n",
    "result = solve(transmissions, num_servers)\n",
    "assert result == answer, f\"Test case 11: expected {answer}, got {result}\"\n",
    "print('Passed test case 11...')"
   ],
   "metadata": {
    "collapsed": false,
    "ExecuteTime": {
     "end_time": "2023-10-10T12:52:17.713717900Z",
     "start_time": "2023-10-10T12:52:17.659490Z"
    }
   },
   "id": "2bc487c02205552b"
  },
  {
   "cell_type": "code",
   "execution_count": 275,
   "outputs": [
    {
     "name": "stdout",
     "output_type": "stream",
     "text": [
      "[3, 2, 1]\n",
      "Passed test case 12...\n"
     ]
    }
   ],
   "source": [
    "# Test case 12: n=4 & connected & no change\n",
    "transmissions = [[1, 0], [2, 1], [2, 3]]\n",
    "num_servers = 4\n",
    "answer = 1\n",
    "result = solve(transmissions, num_servers)\n",
    "assert result == answer, f\"Test case 12: expected {answer}, got {result}\"\n",
    "print('Passed test case 12...')"
   ],
   "metadata": {
    "collapsed": false,
    "ExecuteTime": {
     "end_time": "2023-10-10T12:52:17.713717900Z",
     "start_time": "2023-10-10T12:52:17.661816500Z"
    }
   },
   "id": "dee2236ef480c9cd"
  },
  {
   "cell_type": "code",
   "execution_count": 276,
   "outputs": [
    {
     "name": "stdout",
     "output_type": "stream",
     "text": [
      "Passed test case 13...\n"
     ]
    }
   ],
   "source": [
    "# Test case 13: n=7 & connected & no change\n",
    "transmissions = [[0, 1], [1, 2], [2, 3],[3, 4], [1,4]]\n",
    "num_servers = 7\n",
    "answer = -1\n",
    "result = solve(transmissions, num_servers)\n",
    "assert result == answer, f\"Test case 13: expected {answer}, got {result}\"\n",
    "print('Passed test case 13...')"
   ],
   "metadata": {
    "collapsed": false,
    "ExecuteTime": {
     "end_time": "2023-10-10T12:52:17.714717600Z",
     "start_time": "2023-10-10T12:52:17.664011500Z"
    }
   },
   "id": "cd6a8e958eba1195"
  },
  {
   "cell_type": "code",
   "execution_count": 277,
   "outputs": [
    {
     "name": "stdout",
     "output_type": "stream",
     "text": [
      "Passed test case 14...\n"
     ]
    }
   ],
   "source": [
    "# Test case 14: n=3 & connected & no change\n",
    "transmissions = [[0, 1], [1, 0]]\n",
    "num_servers = 3\n",
    "answer = -1\n",
    "result = solve(transmissions, num_servers)\n",
    "assert result == answer, f\"Test case 14: expected {answer}, got {result}\"\n",
    "print('Passed test case 14...')"
   ],
   "metadata": {
    "collapsed": false,
    "ExecuteTime": {
     "end_time": "2023-10-10T12:52:17.714717600Z",
     "start_time": "2023-10-10T12:52:17.666444400Z"
    }
   },
   "id": "e128ad9595741950"
  },
  {
   "cell_type": "code",
   "execution_count": 278,
   "outputs": [
    {
     "name": "stdout",
     "output_type": "stream",
     "text": [
      "Passed test case 15...\n"
     ]
    }
   ],
   "source": [
    "# Test case 15: n=4 & connected & no change\n",
    "transmissions = [[1, 3], [2, 3]]\n",
    "num_servers = 4\n",
    "answer = -1\n",
    "result = solve(transmissions, num_servers)\n",
    "assert result == answer, f\"Test case 15: expected {answer}, got {result}\"\n",
    "print('Passed test case 15...')"
   ],
   "metadata": {
    "collapsed": false,
    "ExecuteTime": {
     "end_time": "2023-10-10T12:52:17.714717600Z",
     "start_time": "2023-10-10T12:52:17.668998800Z"
    }
   },
   "id": "a607ff84873b9c2a"
  },
  {
   "cell_type": "code",
   "execution_count": 279,
   "outputs": [
    {
     "name": "stdout",
     "output_type": "stream",
     "text": [
      "[3, 2, 1]\n",
      "Passed test case 16...\n"
     ]
    }
   ],
   "source": [
    "# Test case 16: n=4 & connected & no change\n",
    "transmissions = [[0, 1], [2, 1], [2, 3]]\n",
    "num_servers = 4\n",
    "answer = 2\n",
    "result = solve(transmissions, num_servers)\n",
    "assert result == answer, f\"Test case 16: expected {answer}, got {result}\"\n",
    "print('Passed test case 16...')"
   ],
   "metadata": {
    "collapsed": false,
    "ExecuteTime": {
     "end_time": "2023-10-10T12:52:17.714717600Z",
     "start_time": "2023-10-10T12:52:17.671361100Z"
    }
   },
   "id": "c9358faf8c736d75"
  },
  {
   "cell_type": "code",
   "execution_count": 280,
   "outputs": [
    {
     "name": "stdout",
     "output_type": "stream",
     "text": [
      "[3, 2, 1]\n"
     ]
    },
    {
     "ename": "AssertionError",
     "evalue": "Test case 17: expected 2, got 1",
     "output_type": "error",
     "traceback": [
      "\u001B[1;31m---------------------------------------------------------------------------\u001B[0m",
      "\u001B[1;31mAssertionError\u001B[0m                            Traceback (most recent call last)",
      "Cell \u001B[1;32mIn[280], line 7\u001B[0m\n\u001B[0;32m      5\u001B[0m answer \u001B[38;5;241m=\u001B[39m \u001B[38;5;241m2\u001B[39m\n\u001B[0;32m      6\u001B[0m result \u001B[38;5;241m=\u001B[39m solve(transmissions, num_servers)\n\u001B[1;32m----> 7\u001B[0m \u001B[38;5;28;01massert\u001B[39;00m result \u001B[38;5;241m==\u001B[39m answer, \u001B[38;5;124mf\u001B[39m\u001B[38;5;124m\"\u001B[39m\u001B[38;5;124mTest case 17: expected \u001B[39m\u001B[38;5;132;01m{\u001B[39;00manswer\u001B[38;5;132;01m}\u001B[39;00m\u001B[38;5;124m, got \u001B[39m\u001B[38;5;132;01m{\u001B[39;00mresult\u001B[38;5;132;01m}\u001B[39;00m\u001B[38;5;124m\"\u001B[39m\n\u001B[0;32m      8\u001B[0m \u001B[38;5;28mprint\u001B[39m(\u001B[38;5;124m'\u001B[39m\u001B[38;5;124mPassed test case 17...\u001B[39m\u001B[38;5;124m'\u001B[39m)\n",
      "\u001B[1;31mAssertionError\u001B[0m: Test case 17: expected 2, got 1"
     ]
    }
   ],
   "source": [
    "# Test case 17: n=4 & connected & no change\n",
    "# 0 -> 3 <- 2 -> 1\n",
    "transmissions = [[0, 3], [2, 3], [2, 1]]\n",
    "num_servers = 4\n",
    "answer = 2\n",
    "result = solve(transmissions, num_servers)\n",
    "assert result == answer, f\"Test case 17: expected {answer}, got {result}\"\n",
    "print('Passed test case 17...')"
   ],
   "metadata": {
    "collapsed": false,
    "ExecuteTime": {
     "end_time": "2023-10-10T12:52:17.714717600Z",
     "start_time": "2023-10-10T12:52:17.673610500Z"
    }
   },
   "id": "348ab39e099105c3"
  },
  {
   "cell_type": "markdown",
   "source": [],
   "metadata": {
    "collapsed": false
   },
   "id": "a471a746b9e3a023"
  }
 ],
 "metadata": {
  "kernelspec": {
   "display_name": "Python 3 (ipykernel)",
   "language": "python",
   "name": "python3"
  },
  "language_info": {
   "codemirror_mode": {
    "name": "ipython",
    "version": 3
   },
   "file_extension": ".py",
   "mimetype": "text/x-python",
   "name": "python",
   "nbconvert_exporter": "python",
   "pygments_lexer": "ipython3",
   "version": "3.11.4"
  }
 },
 "nbformat": 4,
 "nbformat_minor": 5
}
