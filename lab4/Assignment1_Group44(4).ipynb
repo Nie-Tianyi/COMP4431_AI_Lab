{
 "cells": [
  {
   "cell_type": "code",
   "execution_count": 138,
   "id": "dfd55326",
   "metadata": {},
   "outputs": [],
   "source": [
    "import networkx as nx\n",
    "from typing import List\n",
    "from collections import deque\n",
    "\n",
    "def solve(transmissions: List[List[int]], num_servers: int) -> int:\n",
    "    # Check if the number of servers is at least 2\n",
    "    if num_servers < 2:\n",
    "        print(\"The number of servers should be >= 2\")\n",
    "        return -2\n",
    "\n",
    "    # Check if the number of directed transmissions is less than the number of servers\n",
    "    if len(transmissions) >= num_servers:\n",
    "        print(\"The number of directed transmissions should be < n\")\n",
    "        return -2\n",
    "    \n",
    "    G = nx.DiGraph()\n",
    "    for i in range(num_servers):\n",
    "        G.add_node(i)\n",
    "    for u, v in transmissions:\n",
    "        G.add_edge(u, v)\n",
    "    \n",
    "    # if the graph is not connected -> not feasible -> directly return -1\n",
    "    if not nx.is_weakly_connected(G):\n",
    "        return -1\n",
    "    \n",
    "    # Compute the nearest predecessors for each node\n",
    "    nearest_predecessors = {}\n",
    "    for node in range(num_servers):\n",
    "        predecessors = list(G.predecessors(node))\n",
    "        if predecessors:\n",
    "            # 1. Compute the shortest path from each predecessor to the node\n",
    "            predecessor_distances = [(predecessor, nx.shortest_path_length(G, source=predecessor, target=node)) \n",
    "                                     for predecessor in predecessors]\n",
    "            # 2. Sort the predecessors by the path length\n",
    "            predecessor_distances.sort(key=lambda x: x[1])\n",
    "            # 3. Keep only the (max) two nearest predecessors (0, 1, 2)\n",
    "            nearest_predecessors[node] = [predecessor for predecessor, distance in predecessor_distances \n",
    "                                          if distance == predecessor_distances[0][1]]\n",
    "        else:\n",
    "            nearest_predecessors[node] = []\n",
    "    print(nearest_predecessors)\n",
    "            \n",
    "    # Convert the graph to an undirected graph and compute the depth of each node\n",
    "    U = G.to_undirected()\n",
    "    depths = nx.single_source_shortest_path_length(U, 0)\n",
    "\n",
    "    # Create a list of nodes sorted by depth\n",
    "    nodes_sorted_by_depth = sorted(range(1, num_servers), key=depths.get)  # Exclude the central server\n",
    "\n",
    "    # if the graph is connected & num of edge is n-1 -> it is a tree -> do the BFS search \n",
    "    changes = 0\n",
    "    for node in nodes_sorted_by_depth:  # Exclude the central server, starting from smaller depth to larger depth\n",
    "        try: # Try to find a path from node to the central server\n",
    "            _ = nx.shortest_path(G, node, 0)  \n",
    "        except nx.NetworkXNoPath: # If there's no path, change the direction of an edge from a predecessor of node & smaller depth\n",
    "            predecessors = nearest_predecessors[node]\n",
    "            if len(predecessors)!=0: # If there's no predecessor -> go to next node\n",
    "                # 1. Choose the exact \"last\" predecessors list of current node\n",
    "                # 2. Choose the predecessor with the smallest depth \n",
    "                predecessor = min(predecessors, key=depths.get)\n",
    "                print(\"node: \"+str(node)+\", pre:\"+str(predecessor))\n",
    "                G.remove_edge(predecessor, node)\n",
    "                G.add_edge(node, predecessor)\n",
    "                changes += 1\n",
    "        \n",
    "    # Final Check if all servers can now reach the central server\n",
    "    for node in range(1, num_servers):  # Exclude the central server\n",
    "        try:\n",
    "            _ = nx.shortest_path(G, node, 0)  # Try to find a path from node to the central server\n",
    "        except nx.NetworkXNoPath:\n",
    "            return -1  # If a server cannot reach the central server, return -1\n",
    "\n",
    "    return changes"
   ]
  },
  {
   "cell_type": "code",
   "execution_count": 139,
   "id": "d5655abf",
   "metadata": {},
   "outputs": [
    {
     "name": "stdout",
     "output_type": "stream",
     "text": [
      "{0: [1, 4], 1: [3], 2: [1], 3: [], 4: [], 5: [4]}\n",
      "node: 2, pre:1\n",
      "node: 5, pre:4\n",
      "Passed test case 1(1)...\n"
     ]
    }
   ],
   "source": [
    "# test case 1.1: n>2 & connected & changes at leaf nodes \n",
    "transmissions = [[1, 0], [3, 1], [1, 2], [4,0], [4,5]]\n",
    "num_servers = 6\n",
    "answer = 2\n",
    "result = solve(transmissions, num_servers)\n",
    "assert result == answer, f\"Test case 1: expected {answer}, got {result}\"\n",
    "print('Passed test case 1(1)...')"
   ]
  },
  {
   "cell_type": "code",
   "execution_count": 140,
   "id": "815102b8",
   "metadata": {},
   "outputs": [
    {
     "name": "stdout",
     "output_type": "stream",
     "text": [
      "{0: [4], 1: [0, 3, 2], 2: [], 3: [], 4: [5], 5: []}\n",
      "node: 1, pre:0\n",
      "Passed test case 1(2)...\n"
     ]
    }
   ],
   "source": [
    "# test case 1.2: n>2 & connected & changes at inner nodes \n",
    "transmissions = [[0, 1], [3, 1], [2, 1], [4, 0], [5, 4]]\n",
    "num_servers = 6\n",
    "answer = 1\n",
    "result = solve(transmissions, num_servers)\n",
    "assert result == answer, f\"Test case 1: expected {answer}, got {result}\"\n",
    "print('Passed test case 1(2)...')"
   ]
  },
  {
   "cell_type": "code",
   "execution_count": 141,
   "id": "436847ca",
   "metadata": {},
   "outputs": [
    {
     "name": "stdout",
     "output_type": "stream",
     "text": [
      "{0: [1], 1: [3, 2], 2: [], 3: [], 4: [0, 5], 5: []}\n",
      "node: 4, pre:0\n",
      "Passed test case 1(3)...\n"
     ]
    }
   ],
   "source": [
    "# test case 1.3: n>2 & connected & changes at inner nodes \n",
    "transmissions = [[1, 0], [3, 1], [2, 1], [0, 4], [5, 4]]\n",
    "num_servers = 6\n",
    "answer = 1\n",
    "result = solve(transmissions, num_servers)\n",
    "assert result == answer, f\"Test case 1: expected {answer}, got {result}\"\n",
    "print('Passed test case 1(3)...')"
   ]
  },
  {
   "cell_type": "code",
   "execution_count": 142,
   "id": "6a94efcc",
   "metadata": {},
   "outputs": [
    {
     "name": "stdout",
     "output_type": "stream",
     "text": [
      "{0: [], 1: [0, 3, 2], 2: [], 3: [], 4: [0, 5], 5: []}\n",
      "node: 1, pre:0\n",
      "node: 4, pre:0\n",
      "Passed test case 1(4)...\n"
     ]
    }
   ],
   "source": [
    "# test case 1.4: n>2 & connected & changes at inner nodes \n",
    "transmissions = [[0, 1], [3, 1], [2, 1], [0, 4], [5, 4]]\n",
    "num_servers = 6\n",
    "answer = 2\n",
    "result = solve(transmissions, num_servers)\n",
    "assert result == answer, f\"Test case 1: expected {answer}, got {result}\"\n",
    "print('Passed test case 1(4)...')"
   ]
  },
  {
   "cell_type": "code",
   "execution_count": 143,
   "id": "5e80a6f5",
   "metadata": {},
   "outputs": [
    {
     "name": "stdout",
     "output_type": "stream",
     "text": [
      "{0: [4], 1: [0, 3], 2: [1], 3: [], 4: [5], 5: []}\n",
      "node: 1, pre:0\n",
      "node: 2, pre:1\n",
      "Passed test case 1(5)...\n"
     ]
    }
   ],
   "source": [
    "# test case 1.5: n>2 & connected & changes at both inner nodes and leaf nodes\n",
    "transmissions = [[0, 1], [3, 1], [1, 2], [4, 0], [5, 4]]\n",
    "num_servers = 6\n",
    "answer = 2\n",
    "result = solve(transmissions, num_servers)\n",
    "assert result == answer, f\"Test case 1: expected {answer}, got {result}\"\n",
    "print('Passed test case 1(5)...')"
   ]
  },
  {
   "cell_type": "code",
   "execution_count": 144,
   "id": "679845bb",
   "metadata": {},
   "outputs": [
    {
     "name": "stdout",
     "output_type": "stream",
     "text": [
      "{0: [4], 1: [0, 3], 2: [1], 3: [], 4: [], 5: [4]}\n",
      "node: 1, pre:0\n",
      "node: 2, pre:1\n",
      "node: 5, pre:4\n",
      "Passed test case 1(6)...\n"
     ]
    }
   ],
   "source": [
    "# test case 1.6: n>2 & connected & changes at both inner nodes and leaf nodes\n",
    "transmissions = [[0, 1], [3, 1], [1, 2], [4, 0], [4, 5]]\n",
    "num_servers = 6\n",
    "answer = 3\n",
    "result = solve(transmissions, num_servers)\n",
    "assert result == answer, f\"Test case 1: expected {answer}, got {result}\"\n",
    "print('Passed test case 1(6)...')"
   ]
  },
  {
   "cell_type": "code",
   "execution_count": 145,
   "id": "80fc584e",
   "metadata": {},
   "outputs": [
    {
     "name": "stdout",
     "output_type": "stream",
     "text": [
      "{0: [], 1: [2], 2: [], 3: [0, 2]}\n",
      "node: 3, pre:0\n",
      "node: 1, pre:2\n",
      "Passed test case 1(7)...\n"
     ]
    }
   ],
   "source": [
    "# test case 1.7: n>2 & connected & changes at both inner nodes and leaf nodes\n",
    "transmissions = [[0, 3], [2, 3], [2, 1]]\n",
    "num_servers = 4\n",
    "answer = 2\n",
    "result = solve(transmissions, num_servers)\n",
    "assert result == answer, f\"Test case 1: expected {answer}, got {result}\"\n",
    "print('Passed test case 1(7)...')"
   ]
  },
  {
   "cell_type": "code",
   "execution_count": 146,
   "id": "b9e12196",
   "metadata": {},
   "outputs": [
    {
     "name": "stdout",
     "output_type": "stream",
     "text": [
      "{0: [], 1: [], 2: [1], 3: [0, 2]}\n",
      "node: 3, pre:0\n",
      "Passed test case 1(8)...\n"
     ]
    }
   ],
   "source": [
    "# test case 1.8: n>2 & connected & changes at both inner nodes and leaf nodes\n",
    "transmissions = [[0, 3], [2, 3], [1, 2]]\n",
    "num_servers = 4\n",
    "answer = 1\n",
    "result = solve(transmissions, num_servers)\n",
    "assert result == answer, f\"Test case 1: expected {answer}, got {result}\"\n",
    "print('Passed test case 1(8)...')"
   ]
  },
  {
   "cell_type": "code",
   "execution_count": 147,
   "id": "9890a948",
   "metadata": {},
   "outputs": [
    {
     "name": "stdout",
     "output_type": "stream",
     "text": [
      "{0: [], 1: [2], 2: [3], 3: [0]}\n",
      "node: 3, pre:0\n",
      "node: 2, pre:3\n",
      "node: 1, pre:2\n",
      "Passed test case 1(9)...\n"
     ]
    }
   ],
   "source": [
    "# test case 1.9: n>2 & connected & changes at both inner nodes and leaf nodes\n",
    "transmissions = [[0, 3], [3, 2], [2, 1]]\n",
    "num_servers = 4\n",
    "answer = 3\n",
    "result = solve(transmissions, num_servers)\n",
    "assert result == answer, f\"Test case 1: expected {answer}, got {result}\"\n",
    "print('Passed test case 1(9)...')"
   ]
  },
  {
   "cell_type": "code",
   "execution_count": 148,
   "id": "8bc1a482",
   "metadata": {},
   "outputs": [
    {
     "name": "stdout",
     "output_type": "stream",
     "text": [
      "{0: [], 1: [], 2: [3, 1], 3: [0]}\n",
      "node: 3, pre:0\n",
      "node: 2, pre:3\n",
      "Passed test case 1(10)...\n"
     ]
    }
   ],
   "source": [
    "# test case 1.10: n>2 & connected & changes at both inner nodes and leaf nodes\n",
    "transmissions = [[0, 3], [3, 2], [1, 2]]\n",
    "num_servers = 4\n",
    "answer = 2\n",
    "result = solve(transmissions, num_servers)\n",
    "assert result == answer, f\"Test case 1: expected {answer}, got {result}\"\n",
    "print('Passed test case 1(10)...')"
   ]
  },
  {
   "cell_type": "code",
   "execution_count": 149,
   "id": "a0c2d8b9",
   "metadata": {},
   "outputs": [
    {
     "name": "stdout",
     "output_type": "stream",
     "text": [
      "{0: [3], 1: [], 2: [3, 1], 3: []}\n",
      "node: 2, pre:3\n",
      "Passed test case 1(11)...\n"
     ]
    }
   ],
   "source": [
    "# test case 1.11: n>2 & connected & changes at both inner nodes and leaf nodes\n",
    "transmissions = [[3, 0], [3, 2], [1, 2]]\n",
    "num_servers = 4\n",
    "answer = 1\n",
    "result = solve(transmissions, num_servers)\n",
    "assert result == answer, f\"Test case 1: expected {answer}, got {result}\"\n",
    "print('Passed test case 1(11)...')"
   ]
  },
  {
   "cell_type": "code",
   "execution_count": 150,
   "id": "3cd21f42",
   "metadata": {},
   "outputs": [
    {
     "name": "stdout",
     "output_type": "stream",
     "text": [
      "{0: [3], 1: [2], 2: [], 3: [2]}\n",
      "node: 1, pre:2\n",
      "Passed test case 1(12)...\n"
     ]
    }
   ],
   "source": [
    "# test case 1.12: n>2 & connected & changes at both inner nodes and leaf nodes\n",
    "transmissions = [[3, 0], [2, 3], [2, 1]]\n",
    "num_servers = 4\n",
    "answer = 1\n",
    "result = solve(transmissions, num_servers)\n",
    "assert result == answer, f\"Test case 1: expected {answer}, got {result}\"\n",
    "print('Passed test case 1(12)...')"
   ]
  },
  {
   "cell_type": "code",
   "execution_count": 151,
   "id": "3fbbd07b",
   "metadata": {},
   "outputs": [
    {
     "name": "stdout",
     "output_type": "stream",
     "text": [
      "{0: [3], 1: [2], 2: [3], 3: []}\n",
      "node: 2, pre:3\n",
      "node: 1, pre:2\n",
      "Passed test case 1(13)...\n"
     ]
    }
   ],
   "source": [
    "# test case 1.13: n>2 & connected & changes at both inner nodes and leaf nodes\n",
    "transmissions = [[3, 0], [3, 2], [2, 1]]\n",
    "num_servers = 4\n",
    "answer = 2\n",
    "result = solve(transmissions, num_servers)\n",
    "assert result == answer, f\"Test case 1: expected {answer}, got {result}\"\n",
    "print('Passed test case 1(13)...')"
   ]
  },
  {
   "cell_type": "code",
   "execution_count": 152,
   "id": "131fdb1e",
   "metadata": {},
   "outputs": [
    {
     "name": "stdout",
     "output_type": "stream",
     "text": [
      "{0: [3], 1: [], 2: [1], 3: [2]}\n",
      "Passed test case 1(14)...\n"
     ]
    }
   ],
   "source": [
    "# test case 1.14: n>2 & connected & no change\n",
    "transmissions = [[3, 0], [2, 3], [1, 2]]\n",
    "num_servers = 4\n",
    "answer = 0\n",
    "result = solve(transmissions, num_servers)\n",
    "assert result == answer, f\"Test case 1: expected {answer}, got {result}\"\n",
    "print('Passed test case 1(14)...')"
   ]
  },
  {
   "cell_type": "code",
   "execution_count": 153,
   "id": "9bc38cff",
   "metadata": {},
   "outputs": [
    {
     "name": "stdout",
     "output_type": "stream",
     "text": [
      "{0: [1], 1: [3], 2: [], 3: [2]}\n",
      "Passed test case 2...\n"
     ]
    }
   ],
   "source": [
    "# test case 2: n>2 & connected & no change\n",
    "transmissions = [[1, 0], [3, 1], [2, 3]]\n",
    "num_servers = 4\n",
    "answer = 0\n",
    "result = solve(transmissions, num_servers)\n",
    "assert result == answer, f\"Test case 2: expected {answer}, got {result}\"\n",
    "print('Passed test case 2...')"
   ]
  },
  {
   "cell_type": "code",
   "execution_count": 154,
   "id": "0a1490a8",
   "metadata": {},
   "outputs": [
    {
     "name": "stdout",
     "output_type": "stream",
     "text": [
      "{0: [1, 2, 3], 1: [], 2: [], 3: []}\n",
      "Passed test case 3...\n"
     ]
    }
   ],
   "source": [
    "# Test case 3: n>2 & connected & no change\n",
    "transmissions = [[1, 0], [2, 0], [3, 0]]\n",
    "num_servers = 4\n",
    "answer = 0\n",
    "result = solve(transmissions, num_servers)\n",
    "assert result == answer, f\"Test case 3: expected {answer}, got {result}\"\n",
    "print('Passed test case 3...')"
   ]
  },
  {
   "cell_type": "code",
   "execution_count": 155,
   "id": "67d21733",
   "metadata": {},
   "outputs": [
    {
     "name": "stdout",
     "output_type": "stream",
     "text": [
      "Passed test case 4...\n"
     ]
    }
   ],
   "source": [
    "# Test case 4: n>2 & not connected\n",
    "transmissions = [[1, 2], [2, 3], [3, 4]]\n",
    "num_servers = 5\n",
    "answer = -1\n",
    "result = solve(transmissions, num_servers)\n",
    "assert result == answer, f\"Test case 4: expected {answer}, got {result}\"\n",
    "print('Passed test case 4...')"
   ]
  },
  {
   "cell_type": "code",
   "execution_count": 156,
   "id": "7e7d3b87",
   "metadata": {},
   "outputs": [
    {
     "name": "stdout",
     "output_type": "stream",
     "text": [
      "{0: [], 1: [0]}\n",
      "node: 1, pre:0\n",
      "Passed test case 5...\n"
     ]
    }
   ],
   "source": [
    "# Test case 5: n=2 & connected & changes\n",
    "transmissions = [[0, 1]]\n",
    "num_servers = 2\n",
    "answer = 1\n",
    "result = solve(transmissions, num_servers)\n",
    "assert result == answer, f\"Test case 5: expected {answer}, got {result}\"\n",
    "print('Passed test case 5...')"
   ]
  },
  {
   "cell_type": "code",
   "execution_count": 157,
   "id": "4b4bf648",
   "metadata": {},
   "outputs": [
    {
     "name": "stdout",
     "output_type": "stream",
     "text": [
      "{0: [1], 1: []}\n",
      "Passed test case 6...\n"
     ]
    }
   ],
   "source": [
    "# Test case 6: n=2 & connected & no change\n",
    "transmissions = [[1, 0]]\n",
    "num_servers = 2\n",
    "answer = 0\n",
    "result = solve(transmissions, num_servers)\n",
    "assert result == answer, f\"Test case 6: expected {answer}, got {result}\"\n",
    "print('Passed test case 6...')"
   ]
  },
  {
   "cell_type": "code",
   "execution_count": 158,
   "id": "b3982731",
   "metadata": {},
   "outputs": [
    {
     "name": "stdout",
     "output_type": "stream",
     "text": [
      "Passed test case 7...\n"
     ]
    }
   ],
   "source": [
    "# Test case 7: n=2 & not connected\n",
    "transmissions = []\n",
    "num_servers = 2\n",
    "answer = -1\n",
    "result = solve(transmissions, num_servers)\n",
    "assert result == answer, f\"Test case 7: expected {answer}, got {result}\"\n",
    "print('Passed test case 7...')"
   ]
  },
  {
   "cell_type": "code",
   "execution_count": 159,
   "id": "9b95959f",
   "metadata": {},
   "outputs": [
    {
     "name": "stdout",
     "output_type": "stream",
     "text": [
      "The number of servers should be >= 2\n",
      "Passed test case 8...\n"
     ]
    }
   ],
   "source": [
    "# Test case 8: n=1\n",
    "transmissions = []\n",
    "num_servers = 1\n",
    "answer = -2\n",
    "result = solve(transmissions, num_servers)\n",
    "assert result == answer, f\"Test case 8: expected {answer}, got {result}\"\n",
    "print('Passed test case 8...')"
   ]
  },
  {
   "cell_type": "code",
   "execution_count": 160,
   "id": "692a8513",
   "metadata": {},
   "outputs": [
    {
     "name": "stdout",
     "output_type": "stream",
     "text": [
      "The number of directed transmissions should be < n\n",
      "Passed test case 9...\n"
     ]
    }
   ],
   "source": [
    "# Test case 9: transmission>=n\n",
    "transmissions = [[0,1],[1,0]]\n",
    "num_servers = 2\n",
    "answer = -2\n",
    "result = solve(transmissions, num_servers)\n",
    "assert result == answer, f\"Test case 9: expected {answer}, got {result}\"\n",
    "print('Passed test case 9...')"
   ]
  },
  {
   "cell_type": "code",
   "execution_count": 161,
   "id": "4c2dd59d",
   "metadata": {},
   "outputs": [
    {
     "name": "stdout",
     "output_type": "stream",
     "text": [
      "{0: [], 1: [2], 2: [0]}\n",
      "node: 2, pre:0\n",
      "node: 1, pre:2\n",
      "Passed test case 10...\n"
     ]
    }
   ],
   "source": [
    "# Test case 10: n=3 & connected & no change\n",
    "transmissions = [[0, 2], [2, 1]]\n",
    "num_servers = 3\n",
    "answer = 2\n",
    "result = solve(transmissions, num_servers)\n",
    "assert result == answer, f\"Test case 10: expected {answer}, got {result}\"\n",
    "print('Passed test case 10...')"
   ]
  },
  {
   "cell_type": "code",
   "execution_count": 162,
   "id": "b26f20e0",
   "metadata": {},
   "outputs": [
    {
     "name": "stdout",
     "output_type": "stream",
     "text": [
      "The number of directed transmissions should be < n\n",
      "Passed test case 11...\n"
     ]
    }
   ],
   "source": [
    "# Test case 11: n=4 & connected & no change\n",
    "transmissions = [[0, 2], [2, 1], [1, 3], [2, 3]]\n",
    "num_servers = 4\n",
    "answer = -2\n",
    "result = solve(transmissions, num_servers)\n",
    "assert result == answer, f\"Test case 11: expected {answer}, got {result}\"\n",
    "print('Passed test case 11...')"
   ]
  },
  {
   "cell_type": "code",
   "execution_count": 163,
   "id": "da8986aa",
   "metadata": {},
   "outputs": [
    {
     "name": "stdout",
     "output_type": "stream",
     "text": [
      "{0: [1], 1: [2], 2: [], 3: [2]}\n",
      "node: 3, pre:2\n",
      "Passed test case 12...\n"
     ]
    }
   ],
   "source": [
    "# Test case 12: n=4 & connected & no change\n",
    "transmissions = [[1, 0], [2, 1], [2, 3]]\n",
    "num_servers = 4\n",
    "answer = 1\n",
    "result = solve(transmissions, num_servers)\n",
    "assert result == answer, f\"Test case 12: expected {answer}, got {result}\"\n",
    "print('Passed test case 12...')"
   ]
  },
  {
   "cell_type": "code",
   "execution_count": 164,
   "id": "6e4191e1",
   "metadata": {},
   "outputs": [
    {
     "name": "stdout",
     "output_type": "stream",
     "text": [
      "Passed test case 13...\n"
     ]
    }
   ],
   "source": [
    "# Test case 13: n=7 & connected & no change\n",
    "transmissions = [[0, 1], [1, 2], [2, 3],[3, 4], [1,4]]\n",
    "num_servers = 7\n",
    "answer = -1\n",
    "result = solve(transmissions, num_servers)\n",
    "assert result == answer, f\"Test case 13: expected {answer}, got {result}\"\n",
    "print('Passed test case 13...')"
   ]
  },
  {
   "cell_type": "code",
   "execution_count": 165,
   "id": "fdfca7da",
   "metadata": {},
   "outputs": [
    {
     "name": "stdout",
     "output_type": "stream",
     "text": [
      "Passed test case 14...\n"
     ]
    }
   ],
   "source": [
    "# Test case 14: n=7 & connected & no change\n",
    "transmissions = [[0, 1], [1, 0]]\n",
    "num_servers = 3\n",
    "answer = -1\n",
    "result = solve(transmissions, num_servers)\n",
    "assert result == answer, f\"Test case 14: expected {answer}, got {result}\"\n",
    "print('Passed test case 14...')"
   ]
  },
  {
   "cell_type": "code",
   "execution_count": null,
   "id": "61cadc63",
   "metadata": {},
   "outputs": [],
   "source": []
  }
 ],
 "metadata": {
  "kernelspec": {
   "display_name": "Python 3 (ipykernel)",
   "language": "python",
   "name": "python3"
  },
  "language_info": {
   "codemirror_mode": {
    "name": "ipython",
    "version": 3
   },
   "file_extension": ".py",
   "mimetype": "text/x-python",
   "name": "python",
   "nbconvert_exporter": "python",
   "pygments_lexer": "ipython3",
   "version": "3.11.4"
  }
 },
 "nbformat": 4,
 "nbformat_minor": 5
}
