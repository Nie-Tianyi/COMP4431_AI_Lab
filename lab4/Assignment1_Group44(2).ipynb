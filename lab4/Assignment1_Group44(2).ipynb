{
 "cells": [
  {
   "cell_type": "code",
   "execution_count": 1,
   "id": "dfd55326",
   "metadata": {
    "ExecuteTime": {
     "end_time": "2023-10-10T11:34:15.135367Z",
     "start_time": "2023-10-10T11:34:15.060285600Z"
    }
   },
   "outputs": [],
   "source": [
    "import networkx as nx\n",
    "from typing import List\n",
    "from collections import deque\n",
    "\n",
    "def solve(transmissions: List[List[int]], num_servers: int) -> int:\n",
    "    # Check if the number of servers is at least 2\n",
    "    if num_servers < 2:\n",
    "        print(\"The number of servers should be >= 2\")\n",
    "        return -2\n",
    "\n",
    "    # Check if the number of directed transmissions is less than the number of servers\n",
    "    if len(transmissions) >= num_servers:\n",
    "        print(\"The number of directed transmissions should be < n\")\n",
    "        return -2\n",
    "    \n",
    "    G = nx.DiGraph()\n",
    "    for i in range(num_servers):\n",
    "        G.add_node(i)\n",
    "    for u, v in transmissions:\n",
    "        G.add_edge(u, v)\n",
    "    \n",
    "    # if the graph is not connected -> not feasible -> directly return -1\n",
    "    if not nx.is_weakly_connected(G):\n",
    "        return -1\n",
    "    \n",
    "    # Convert the graph to an undirected graph and compute the depth of each node\n",
    "    U = G.to_undirected()\n",
    "    depths = nx.single_source_shortest_path_length(U, 0)\n",
    "\n",
    "    # if the graph is connected & num of edge is n-1 -> it is a tree -> do the BFS search \n",
    "    changes = 0\n",
    "    for node in range(1, num_servers):  # Exclude the central server\n",
    "        try: # Try to find a path from node to the central server\n",
    "            _ = nx.shortest_path(G, node, 0)  \n",
    "        except nx.NetworkXNoPath: # If there's no path, change the direction of an edge from a predecessor of node & smaller depth\n",
    "            predecessors = list(G.predecessors(node))\n",
    "            # If there's no predecessor -> go to next node\n",
    "            if predecessors: \n",
    "                # Choose the predecessor with the smallest depth (1 predecessor vs. 2 predecessors)\n",
    "                predecessor = min(predecessors, key=depths.get)\n",
    "                G.remove_edge(predecessor, node)\n",
    "                G.add_edge(node, predecessor)\n",
    "                changes += 1\n",
    "\n",
    "    # Check if all servers can now reach the central server\n",
    "    for node in range(1, num_servers):  # Exclude the central server\n",
    "        try:\n",
    "            _ = nx.shortest_path(G, node, 0)  # Try to find a path from node to the central server\n",
    "        except nx.NetworkXNoPath:\n",
    "            return -1  # If a server cannot reach the central server, return -1\n",
    "\n",
    "    return changes"
   ]
  },
  {
   "cell_type": "code",
   "execution_count": 2,
   "id": "d5655abf",
   "metadata": {
    "ExecuteTime": {
     "end_time": "2023-10-10T11:34:15.140765700Z",
     "start_time": "2023-10-10T11:34:15.137368600Z"
    }
   },
   "outputs": [
    {
     "name": "stdout",
     "output_type": "stream",
     "text": [
      "Passed test case 1(1)...\n"
     ]
    }
   ],
   "source": [
    "# test case 1.1: n>2 & connected & changes at leaf nodes \n",
    "transmissions = [[1, 0], [3, 1], [1, 2], [4,0], [4,5]]\n",
    "num_servers = 6\n",
    "answer = 2\n",
    "result = solve(transmissions, num_servers)\n",
    "assert result == answer, f\"Test case 1: expected {answer}, got {result}\"\n",
    "print('Passed test case 1(1)...')"
   ]
  },
  {
   "cell_type": "code",
   "execution_count": 3,
   "id": "815102b8",
   "metadata": {
    "ExecuteTime": {
     "end_time": "2023-10-10T11:34:15.143579500Z",
     "start_time": "2023-10-10T11:34:15.142075800Z"
    }
   },
   "outputs": [
    {
     "name": "stdout",
     "output_type": "stream",
     "text": [
      "Passed test case 1(2)...\n"
     ]
    }
   ],
   "source": [
    "# test case 1.2: n>2 & connected & changes at inner nodes \n",
    "transmissions = [[0, 1], [3, 1], [2, 1], [4, 0], [5, 4]]\n",
    "num_servers = 6\n",
    "answer = 1\n",
    "result = solve(transmissions, num_servers)\n",
    "assert result == answer, f\"Test case 1: expected {answer}, got {result}\"\n",
    "print('Passed test case 1(2)...')"
   ]
  },
  {
   "cell_type": "code",
   "execution_count": 4,
   "id": "436847ca",
   "metadata": {
    "ExecuteTime": {
     "end_time": "2023-10-10T11:34:15.146151200Z",
     "start_time": "2023-10-10T11:34:15.144647900Z"
    }
   },
   "outputs": [
    {
     "name": "stdout",
     "output_type": "stream",
     "text": [
      "Passed test case 1(3)...\n"
     ]
    }
   ],
   "source": [
    "# test case 1.3: n>2 & connected & changes at inner nodes \n",
    "transmissions = [[1, 0], [3, 1], [2, 1], [0, 4], [5, 4]]\n",
    "num_servers = 6\n",
    "answer = 1\n",
    "result = solve(transmissions, num_servers)\n",
    "assert result == answer, f\"Test case 1: expected {answer}, got {result}\"\n",
    "print('Passed test case 1(3)...')"
   ]
  },
  {
   "cell_type": "code",
   "execution_count": 5,
   "id": "6a94efcc",
   "metadata": {
    "ExecuteTime": {
     "end_time": "2023-10-10T11:34:15.148262200Z",
     "start_time": "2023-10-10T11:34:15.147151400Z"
    }
   },
   "outputs": [
    {
     "name": "stdout",
     "output_type": "stream",
     "text": [
      "Passed test case 1(4)...\n"
     ]
    }
   ],
   "source": [
    "# test case 1.4: n>2 & connected & changes at inner nodes \n",
    "transmissions = [[0, 1], [3, 1], [2, 1], [0, 4], [5, 4]]\n",
    "num_servers = 6\n",
    "answer = 2\n",
    "result = solve(transmissions, num_servers)\n",
    "assert result == answer, f\"Test case 1: expected {answer}, got {result}\"\n",
    "print('Passed test case 1(4)...')"
   ]
  },
  {
   "cell_type": "code",
   "execution_count": 6,
   "id": "5e80a6f5",
   "metadata": {
    "ExecuteTime": {
     "end_time": "2023-10-10T11:34:15.151932600Z",
     "start_time": "2023-10-10T11:34:15.149263500Z"
    }
   },
   "outputs": [
    {
     "name": "stdout",
     "output_type": "stream",
     "text": [
      "Passed test case 1(5)...\n"
     ]
    }
   ],
   "source": [
    "# test case 1.5: n>2 & connected & changes at both inner nodes and leaf nodes\n",
    "transmissions = [[0, 1], [3, 1], [1, 2], [4, 0], [5, 4]]\n",
    "num_servers = 6\n",
    "answer = 2\n",
    "result = solve(transmissions, num_servers)\n",
    "assert result == answer, f\"Test case 1: expected {answer}, got {result}\"\n",
    "print('Passed test case 1(5)...')"
   ]
  },
  {
   "cell_type": "code",
   "execution_count": 7,
   "id": "679845bb",
   "metadata": {
    "ExecuteTime": {
     "end_time": "2023-10-10T11:34:15.155692300Z",
     "start_time": "2023-10-10T11:34:15.151932600Z"
    }
   },
   "outputs": [
    {
     "name": "stdout",
     "output_type": "stream",
     "text": [
      "Passed test case 1(6)...\n"
     ]
    }
   ],
   "source": [
    "# test case 1.6: n>2 & connected & changes at both inner nodes and leaf nodes\n",
    "transmissions = [[0, 1], [3, 1], [1, 2], [4, 0], [4, 5]]\n",
    "num_servers = 6\n",
    "answer = 3\n",
    "result = solve(transmissions, num_servers)\n",
    "assert result == answer, f\"Test case 1: expected {answer}, got {result}\"\n",
    "print('Passed test case 1(6)...')"
   ]
  },
  {
   "cell_type": "code",
   "execution_count": 8,
   "id": "9bc38cff",
   "metadata": {
    "ExecuteTime": {
     "end_time": "2023-10-10T11:34:15.157195100Z",
     "start_time": "2023-10-10T11:34:15.154528400Z"
    }
   },
   "outputs": [
    {
     "name": "stdout",
     "output_type": "stream",
     "text": [
      "Passed test case 2...\n"
     ]
    }
   ],
   "source": [
    "# test case 2: n>2 & connected & no change\n",
    "transmissions = [[1, 0], [3, 1], [2, 3]]\n",
    "num_servers = 4\n",
    "answer = 0\n",
    "result = solve(transmissions, num_servers)\n",
    "assert result == answer, f\"Test case 2: expected {answer}, got {result}\"\n",
    "print('Passed test case 2...')"
   ]
  },
  {
   "cell_type": "code",
   "execution_count": 9,
   "id": "0a1490a8",
   "metadata": {
    "ExecuteTime": {
     "end_time": "2023-10-10T11:34:15.160258200Z",
     "start_time": "2023-10-10T11:34:15.157195100Z"
    }
   },
   "outputs": [
    {
     "name": "stdout",
     "output_type": "stream",
     "text": [
      "Passed test case 3...\n"
     ]
    }
   ],
   "source": [
    "# Test case 3: n>2 & connected & no change\n",
    "transmissions = [[1, 0], [2, 0], [3, 0]]\n",
    "num_servers = 4\n",
    "answer = 0\n",
    "result = solve(transmissions, num_servers)\n",
    "assert result == answer, f\"Test case 3: expected {answer}, got {result}\"\n",
    "print('Passed test case 3...')"
   ]
  },
  {
   "cell_type": "code",
   "execution_count": 10,
   "id": "67d21733",
   "metadata": {
    "ExecuteTime": {
     "end_time": "2023-10-10T11:34:15.163895900Z",
     "start_time": "2023-10-10T11:34:15.160258200Z"
    }
   },
   "outputs": [
    {
     "name": "stdout",
     "output_type": "stream",
     "text": [
      "Passed test case 4...\n"
     ]
    }
   ],
   "source": [
    "# Test case 4: n>2 & not connected\n",
    "transmissions = [[1, 2], [2, 3], [3, 4]]\n",
    "num_servers = 5\n",
    "answer = -1\n",
    "result = solve(transmissions, num_servers)\n",
    "assert result == answer, f\"Test case 4: expected {answer}, got {result}\"\n",
    "print('Passed test case 4...')"
   ]
  },
  {
   "cell_type": "code",
   "execution_count": 11,
   "id": "7e7d3b87",
   "metadata": {
    "ExecuteTime": {
     "end_time": "2023-10-10T11:34:15.218413400Z",
     "start_time": "2023-10-10T11:34:15.163100300Z"
    }
   },
   "outputs": [
    {
     "name": "stdout",
     "output_type": "stream",
     "text": [
      "Passed test case 5...\n"
     ]
    }
   ],
   "source": [
    "# Test case 5: n=2 & connected & changes\n",
    "transmissions = [[0, 1]]\n",
    "num_servers = 2\n",
    "answer = 1\n",
    "result = solve(transmissions, num_servers)\n",
    "assert result == answer, f\"Test case 5: expected {answer}, got {result}\"\n",
    "print('Passed test case 5...')"
   ]
  },
  {
   "cell_type": "code",
   "execution_count": 12,
   "id": "4b4bf648",
   "metadata": {
    "ExecuteTime": {
     "end_time": "2023-10-10T11:34:15.219414100Z",
     "start_time": "2023-10-10T11:34:15.165399500Z"
    }
   },
   "outputs": [
    {
     "name": "stdout",
     "output_type": "stream",
     "text": [
      "Passed test case 6...\n"
     ]
    }
   ],
   "source": [
    "# Test case 6: n=2 & connected & no change\n",
    "transmissions = [[1, 0]]\n",
    "num_servers = 2\n",
    "answer = 0\n",
    "result = solve(transmissions, num_servers)\n",
    "assert result == answer, f\"Test case 6: expected {answer}, got {result}\"\n",
    "print('Passed test case 6...')"
   ]
  },
  {
   "cell_type": "code",
   "execution_count": 13,
   "id": "b3982731",
   "metadata": {
    "ExecuteTime": {
     "end_time": "2023-10-10T11:34:15.219414100Z",
     "start_time": "2023-10-10T11:34:15.168842900Z"
    }
   },
   "outputs": [
    {
     "name": "stdout",
     "output_type": "stream",
     "text": [
      "Passed test case 7...\n"
     ]
    }
   ],
   "source": [
    "# Test case 7: n=2 & not connected\n",
    "transmissions = []\n",
    "num_servers = 2\n",
    "answer = -1\n",
    "result = solve(transmissions, num_servers)\n",
    "assert result == answer, f\"Test case 7: expected {answer}, got {result}\"\n",
    "print('Passed test case 7...')"
   ]
  },
  {
   "cell_type": "code",
   "execution_count": 14,
   "id": "9b95959f",
   "metadata": {
    "ExecuteTime": {
     "end_time": "2023-10-10T11:34:15.219414100Z",
     "start_time": "2023-10-10T11:34:15.171842400Z"
    }
   },
   "outputs": [
    {
     "name": "stdout",
     "output_type": "stream",
     "text": [
      "The number of servers should be >= 2\n",
      "Passed test case 8...\n"
     ]
    }
   ],
   "source": [
    "# Test case 8: n=1\n",
    "transmissions = []\n",
    "num_servers = 1\n",
    "answer = -2\n",
    "result = solve(transmissions, num_servers)\n",
    "assert result == answer, f\"Test case 8: expected {answer}, got {result}\"\n",
    "print('Passed test case 8...')"
   ]
  },
  {
   "cell_type": "code",
   "execution_count": 15,
   "id": "692a8513",
   "metadata": {
    "ExecuteTime": {
     "end_time": "2023-10-10T11:34:15.219414100Z",
     "start_time": "2023-10-10T11:34:15.174346300Z"
    }
   },
   "outputs": [
    {
     "name": "stdout",
     "output_type": "stream",
     "text": [
      "The number of directed transmissions should be < n\n",
      "Passed test case 9...\n"
     ]
    }
   ],
   "source": [
    "# Test case 9: transmission>=n\n",
    "transmissions = [[0,1],[1,0]]\n",
    "num_servers = 2\n",
    "answer = -2\n",
    "result = solve(transmissions, num_servers)\n",
    "assert result == answer, f\"Test case 9: expected {answer}, got {result}\"\n",
    "print('Passed test case 9...')"
   ]
  },
  {
   "cell_type": "code",
   "execution_count": 16,
   "id": "4c2dd59d",
   "metadata": {
    "ExecuteTime": {
     "end_time": "2023-10-10T11:34:15.318521700Z",
     "start_time": "2023-10-10T11:34:15.176014700Z"
    }
   },
   "outputs": [
    {
     "ename": "AssertionError",
     "evalue": "Test case 17: expected 2, got -1",
     "output_type": "error",
     "traceback": [
      "\u001B[1;31m---------------------------------------------------------------------------\u001B[0m",
      "\u001B[1;31mAssertionError\u001B[0m                            Traceback (most recent call last)",
      "Cell \u001B[1;32mIn[16], line 7\u001B[0m\n\u001B[0;32m      5\u001B[0m answer \u001B[38;5;241m=\u001B[39m \u001B[38;5;241m2\u001B[39m\n\u001B[0;32m      6\u001B[0m result \u001B[38;5;241m=\u001B[39m solve(transmissions, num_servers)\n\u001B[1;32m----> 7\u001B[0m \u001B[38;5;28;01massert\u001B[39;00m result \u001B[38;5;241m==\u001B[39m answer, \u001B[38;5;124mf\u001B[39m\u001B[38;5;124m\"\u001B[39m\u001B[38;5;124mTest case 17: expected \u001B[39m\u001B[38;5;132;01m{\u001B[39;00manswer\u001B[38;5;132;01m}\u001B[39;00m\u001B[38;5;124m, got \u001B[39m\u001B[38;5;132;01m{\u001B[39;00mresult\u001B[38;5;132;01m}\u001B[39;00m\u001B[38;5;124m\"\u001B[39m\n\u001B[0;32m      8\u001B[0m \u001B[38;5;28mprint\u001B[39m(\u001B[38;5;124m'\u001B[39m\u001B[38;5;124mPassed test case 17...\u001B[39m\u001B[38;5;124m'\u001B[39m)\n",
      "\u001B[1;31mAssertionError\u001B[0m: Test case 17: expected 2, got -1"
     ]
    }
   ],
   "source": [
    "# Test case 10: n=4 & connected & no change\n",
    "# 0 -> 3 <- 2 -> 1\n",
    "transmissions = [[0, 3], [2, 3], [2, 1]]\n",
    "num_servers = 4\n",
    "answer = 2\n",
    "result = solve(transmissions, num_servers)\n",
    "assert result == answer, f\"Test case 17: expected {answer}, got {result}\"\n",
    "print('Passed test case 17...')"
   ]
  }
 ],
 "metadata": {
  "kernelspec": {
   "display_name": "Python 3 (ipykernel)",
   "language": "python",
   "name": "python3"
  },
  "language_info": {
   "codemirror_mode": {
    "name": "ipython",
    "version": 3
   },
   "file_extension": ".py",
   "mimetype": "text/x-python",
   "name": "python",
   "nbconvert_exporter": "python",
   "pygments_lexer": "ipython3",
   "version": "3.11.4"
  }
 },
 "nbformat": 4,
 "nbformat_minor": 5
}
