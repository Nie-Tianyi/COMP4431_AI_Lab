{
 "cells": [
  {
   "cell_type": "markdown",
   "id": "584ded1d",
   "metadata": {},
   "source": [
    "#### Tips of using this notebook:\n",
    "\n",
    "- Try to solve the problem yourself first with the help of ChatGPT.\n",
    "- Then check the reference code and the example prompt. The example prompt will be given in the slides.\n",
    "- Always check the reliability of the generated answers and be responsible for them."
   ]
  },
  {
   "attachments": {},
   "cell_type": "markdown",
   "id": "e5555a67",
   "metadata": {},
   "source": [
    "# Excercise 1: Access ChatGPT and try various usages.\n",
    "\n",
    "Access to PolyU GenAI (ChatGPT):\n",
    "- Will be used in all lab demos\n",
    "- Read the guidelines first via https://www.polyu.edu.hk/ar/students-in-taught-programmes/use-of-genai/\n",
    "- Use the ChatGPT model via https://genai.polyu.edu.hk/\n",
    "- Be aware of the quota per month (500k) and save quotas for real needs\n",
    "\n",
    "Usages of ChatGPT:\n",
    "- Chatting, getting advice, etc.\n",
    "- Search engine\n",
    "- Translating\n",
    "- Writing and revising all kinds of essays: novels, poems, emails, reports, etc.\n",
    "- Write, debug, and explain code\n",
    "- ...\n",
    "\n",
    "DO’s and DON’Ts:\n",
    "- DO’s\n",
    "    - Use GenAI for brainstorming\n",
    "    - Check for factual accuracy of AI-generated content\n",
    "    - Use AI-generated content in conjunction with other sources to ensure your work is reliable and well informed\n",
    "    - Include any GenAI assistance in your reference list \n",
    "\n",
    "- DON’Ts\n",
    "    - Do NOT rely solely on AI-generated content as the source of information\n",
    "    - Do NOT ask GenAI software to write your essays\n",
    "    - Do NOT input any personal details or confidential information when using GenAI tools"
   ]
  },
  {
   "cell_type": "code",
   "execution_count": null,
   "id": "ee0782e6",
   "metadata": {},
   "outputs": [],
   "source": []
  },
  {
   "cell_type": "markdown",
   "id": "f305f77d",
   "metadata": {},
   "source": [
    "# Exercise 2: Ask ChatGPT to write code to solve the below problem.\n",
    "\n",
    "Given an integer array of prices, where prices[i] represents the price of a stock on the ith day.\n",
    "You can decide whether to buy or sell it each day. You can only hold one stock at most at any one time.\n",
    "Return to the maximum profit you can get.\n",
    "\n",
    "Test your code with the examples:\n",
    "- [7,1,5,3,6,4] (Answer: 7)\n",
    "- [7,6,4,3,1] (Answer: 0)\n",
    "- [1,2,3,4,5] (Answer: 4)"
   ]
  },
  {
   "cell_type": "markdown",
   "id": "4e5002d2",
   "metadata": {},
   "source": [
    "Your answer here (the prompt and the code):"
   ]
  },
  {
   "cell_type": "code",
   "execution_count": null,
   "id": "015ceb41",
   "metadata": {},
   "outputs": [],
   "source": []
  },
  {
   "cell_type": "markdown",
   "id": "7ea574c9",
   "metadata": {},
   "source": [
    "Reference code (Check the sildes for example prompt):"
   ]
  },
  {
   "cell_type": "code",
   "execution_count": 1,
   "id": "aad5165d",
   "metadata": {
    "ExecuteTime": {
     "end_time": "2023-10-10T08:50:52.634194Z",
     "start_time": "2023-10-10T08:50:52.618018900Z"
    }
   },
   "outputs": [
    {
     "name": "stdout",
     "output_type": "stream",
     "text": [
      "7\n",
      "0\n",
      "4\n"
     ]
    }
   ],
   "source": [
    "def maxProfit(prices):\n",
    "    if len(prices) < 2:\n",
    "        return 0\n",
    "    \n",
    "    maxProfit = 0\n",
    "    \n",
    "    for i in range(1, len(prices)):\n",
    "        if prices[i] > prices[i-1]:\n",
    "            maxProfit += prices[i] - prices[i-1]\n",
    "    \n",
    "    return maxProfit\n",
    "\n",
    "\n",
    "prices1 = [7,1,5,3,6,4]\n",
    "prices2 = [7,6,4,3,1]\n",
    "prices3 = [1,2,3,4,5] \n",
    "print(maxProfit(prices1))\n",
    "print(maxProfit(prices2))\n",
    "print(maxProfit(prices3))"
   ]
  },
  {
   "cell_type": "markdown",
   "id": "7f4cf851",
   "metadata": {},
   "source": [
    "# Exercise 3: Ask ChatGPT to write code to solve the below problem.\n",
    "\n",
    "- At a gift store, each gift costs `$50`.\n",
    "- Customers are standing in a queue to buy from you and order one at a time (in the order specified by the array \"bills\"). \n",
    "- Each customer will only buy one gift and pay with either a `$50`, `$100`, or `$500` bill. \n",
    "- You must provide the correct change to each customer so that the net transaction is that the customer pays `$50`.\n",
    "\n",
    "Note that you do not have any change in hand at first. \n",
    "\n",
    "Given an integer array \"bills\" where bills[i] is the bill the ith customer pays, return true if you can provide every customer with the correct change, or false otherwise.\n",
    "\n",
    "Test your code with the examples:\n",
    "- [50, 50, 50, 50, 100, 100, 50, 50, 100, 500] (True)\n",
    "- [50, 50, 50, 50, 100, 100, 50, 50, 500, 50] (False)"
   ]
  },
  {
   "cell_type": "markdown",
   "id": "a41acba5",
   "metadata": {},
   "source": [
    "Your answer here (the prompt and the code):"
   ]
  },
  {
   "cell_type": "code",
   "execution_count": null,
   "id": "98c251f5",
   "metadata": {},
   "outputs": [],
   "source": []
  },
  {
   "cell_type": "markdown",
   "id": "80c855ec",
   "metadata": {},
   "source": [
    "Reference code (Check the sildes for example prompt):"
   ]
  },
  {
   "cell_type": "code",
   "execution_count": 2,
   "id": "5a62856e",
   "metadata": {},
   "outputs": [
    {
     "name": "stdout",
     "output_type": "stream",
     "text": [
      "True\n",
      "False\n"
     ]
    }
   ],
   "source": [
    "def provide_change(bills):\n",
    "    # Initialize variables to keep track of available bills for each denomination\n",
    "    change_50 = 0\n",
    "    change_100 = 0\n",
    "    change_500 = 0\n",
    "\n",
    "    # Iterate through the bills array representing each customer's payment\n",
    "    for bill in bills:\n",
    "        if bill == 50:\n",
    "            # Increment change_50 by 1\n",
    "            change_50 += 1\n",
    "        elif bill == 100:\n",
    "            if change_50 >= 1:\n",
    "                # Decrement change_50 by 1 and increment change_100 by 1\n",
    "                change_50 -= 1\n",
    "                change_100 += 1\n",
    "            else:\n",
    "                # Unable to provide change, return False\n",
    "                return False\n",
    "        elif bill == 500:\n",
    "            if change_100 >= 4 and change_50 >= 1:\n",
    "                # Decrement change_100 by 4, decrement change_50 by 1, and increment change_500 by 1\n",
    "                change_100 -= 4\n",
    "                change_50 -= 1\n",
    "                change_500 += 1\n",
    "            elif change_100 >= 3 and change_50 >= 3:\n",
    "                # Decrement change_100 by 3, decrement change_50 by 3, and increment change_500 by 1\n",
    "                change_100 -= 3\n",
    "                change_50 -= 3\n",
    "                change_500 += 1\n",
    "            elif change_100 >= 2 and change_50 >= 5:\n",
    "                # Decrement change_100 by 2, decrement change_50 by 5, and increment change_500 by 1\n",
    "                change_100 -= 2\n",
    "                change_50 -= 5\n",
    "                change_500 += 1\n",
    "            elif change_100 >= 1 and change_50 >= 7:\n",
    "                # Decrement change_100 by 1, decrement change_50 by 7, and increment change_500 by 1\n",
    "                change_100 -= 1\n",
    "                change_50 -= 7\n",
    "                change_500 += 1\n",
    "            else:\n",
    "                # Unable to provide change, return False\n",
    "                return False\n",
    "\n",
    "    # Able to provide change to all customers, return True\n",
    "    return True\n",
    "\n",
    "bills = [50, 50, 50, 50, 100, 100, 50, 50, 100, 500] \n",
    "print(provide_change(bills)) \n",
    "bills = [50, 50, 50, 50, 100, 100, 50, 50, 500, 50]  \n",
    "print(provide_change(bills)) "
   ]
  }
 ],
 "metadata": {
  "kernelspec": {
   "display_name": "Python 3 (ipykernel)",
   "language": "python",
   "name": "python3"
  },
  "language_info": {
   "codemirror_mode": {
    "name": "ipython",
    "version": 3
   },
   "file_extension": ".py",
   "mimetype": "text/x-python",
   "name": "python",
   "nbconvert_exporter": "python",
   "pygments_lexer": "ipython3",
   "version": "3.9.13"
  }
 },
 "nbformat": 4,
 "nbformat_minor": 5
}
