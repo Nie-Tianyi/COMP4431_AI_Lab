{
 "cells": [
  {
   "cell_type": "code",
   "execution_count": 2,
   "outputs": [
    {
     "name": "stdout",
     "output_type": "stream",
     "text": [
      "Shape of X_public: (30000, 58)\n",
      "Shape of y_public: (30000,)\n"
     ]
    }
   ],
   "source": [
    "import pandas as pd\n",
    "import os\n",
    "\n",
    "def read_data_from_csv(path):\n",
    "    \"\"\"Load datasets from CSV files.\n",
    "    Args:\n",
    "        path (str): Path to the CSV file.\n",
    "    Returns:\n",
    "        X (np.ndarray): Features of samples.\n",
    "        y (np.ndarray): Labels of samples, only provided in the public datasets.\n",
    "    \"\"\"\n",
    "    assert os.path.exists(path), f'File not found: {path}!'\n",
    "    assert os.path.splitext(path)[-1] == '.csv', f'Unsupported file type {os.path.splitext(path)[-1]}!'\n",
    "\n",
    "    data = pd.read_csv(path)\n",
    "    column_list = data.columns.values.tolist()\n",
    "\n",
    "    if 'Label' in column_list:\n",
    "        # for the public dataset, label column is provided.\n",
    "        column_list.remove('Label')\n",
    "        X = data[column_list].values\n",
    "        y = data['Label'].astype('int').values\n",
    "        return X, y\n",
    "    else:\n",
    "        # for the private dataset, label column is not provided.\n",
    "        X = data[column_list].values\n",
    "        return X\n",
    "    \n",
    "\n",
    "X_public, y_public = read_data_from_csv('assignment_5_public.csv')\n",
    "print('Shape of X_public:', X_public.shape)  # n_sample, m_feature (30000, 58)\n",
    "print('Shape of y_public:', y_public.shape)  # n_sample (30000,)\n"
   ],
   "metadata": {
    "collapsed": false,
    "ExecuteTime": {
     "end_time": "2023-11-08T08:40:21.585073700Z",
     "start_time": "2023-11-08T08:40:21.478788900Z"
    }
   },
   "id": "ca885aab99e3a005"
  },
  {
   "cell_type": "markdown",
   "source": [
    "# Training the model and make predictions.\n",
    "Here is the steps:\n",
    " 1. Feature selection\n",
    " 2. Feature scaling\n",
    " 3. Training & cross-validation\n",
    " 4. Parameter tuning\n",
    " 5. Make predictions \n"
   ],
   "metadata": {
    "collapsed": false
   },
   "id": "4811b7379f4d0353"
  },
  {
   "cell_type": "markdown",
   "source": [
    "\n",
    "## which model should I use Decision Tree/K-Nearest Neighbor/Support Vector Machine ?\n",
    "\n",
    "Decision Tree is easy to understand and analyze, no need for data preprocessing.\n",
    "but it is easy to overfitting and not suitable for high dimensional data.\n",
    "The current dataset has high dimensionality, and at the same time there are both continuous and discontinuous features in the features.\n",
    "So Decision Tress is not applicable.\n",
    "\n",
    "KNN does not require data preprocessing and is not applicable for high dimensional data,\n",
    "So KNN is not applicable.\n",
    "\n",
    "SVM is suitable for high latitude data and can handle both continuous and discontinuous features.\n",
    "This dataset has high dimensionality, while there are both continuous and discontinuous features in the features.\n",
    "Also this prediction result is a binary classification problem.\n",
    "Therefore SVM model is chosen.\n",
    "But SVM does not support missing data.\n",
    "\n",
    "Within the dataset `Feature 18 Min. shares of worst keyword` has a large amount of missing data (data value is -1, i believe this represent the missing data).\n",
    "\n",
    "Therefore, the columns of data should be removed during training.\n",
    "\n"
   ],
   "metadata": {
    "collapsed": false
   },
   "id": "e5f2de25677fd0a4"
  },
  {
   "cell_type": "markdown",
   "source": [
    "# Feature selection\n",
    "\n",
    "use correlation matrix select the features:\n",
    "- remove the features that have a high correlation with each other.\n",
    "- remove the features that have a low correlation with the label."
   ],
   "metadata": {
    "collapsed": false
   },
   "id": "9a5050faf7aee299"
  },
  {
   "cell_type": "code",
   "execution_count": 3,
   "outputs": [
    {
     "name": "stdout",
     "output_type": "stream",
     "text": [
      "<class 'pandas.core.frame.DataFrame'>\n",
      "RangeIndex: 30000 entries, 0 to 29999\n",
      "Data columns (total 59 columns):\n",
      " #   Column      Non-Null Count  Dtype  \n",
      "---  ------      --------------  -----  \n",
      " 0   Feature 1   30000 non-null  float64\n",
      " 1   Feature 2   30000 non-null  float64\n",
      " 2   Feature 3   30000 non-null  float64\n",
      " 3   Feature 4   30000 non-null  float64\n",
      " 4   Feature 5   30000 non-null  float64\n",
      " 5   Feature 6   30000 non-null  float64\n",
      " 6   Feature 7   30000 non-null  float64\n",
      " 7   Feature 8   30000 non-null  float64\n",
      " 8   Feature 9   30000 non-null  float64\n",
      " 9   Feature 10  30000 non-null  float64\n",
      " 10  Feature 11  30000 non-null  float64\n",
      " 11  Feature 12  30000 non-null  float64\n",
      " 12  Feature 13  30000 non-null  float64\n",
      " 13  Feature 14  30000 non-null  float64\n",
      " 14  Feature 15  30000 non-null  float64\n",
      " 15  Feature 16  30000 non-null  float64\n",
      " 16  Feature 17  30000 non-null  float64\n",
      " 17  Feature 18  30000 non-null  float64\n",
      " 18  Feature 19  30000 non-null  float64\n",
      " 19  Feature 20  30000 non-null  float64\n",
      " 20  Feature 21  30000 non-null  float64\n",
      " 21  Feature 22  30000 non-null  float64\n",
      " 22  Feature 23  30000 non-null  float64\n",
      " 23  Feature 24  30000 non-null  float64\n",
      " 24  Feature 25  30000 non-null  float64\n",
      " 25  Feature 26  30000 non-null  float64\n",
      " 26  Feature 27  30000 non-null  float64\n",
      " 27  Feature 28  30000 non-null  float64\n",
      " 28  Feature 29  30000 non-null  float64\n",
      " 29  Feature 30  30000 non-null  float64\n",
      " 30  Feature 31  30000 non-null  float64\n",
      " 31  Feature 32  30000 non-null  float64\n",
      " 32  Feature 33  30000 non-null  float64\n",
      " 33  Feature 34  30000 non-null  float64\n",
      " 34  Feature 35  30000 non-null  float64\n",
      " 35  Feature 36  30000 non-null  float64\n",
      " 36  Feature 37  30000 non-null  float64\n",
      " 37  Feature 38  30000 non-null  float64\n",
      " 38  Feature 39  30000 non-null  float64\n",
      " 39  Feature 40  30000 non-null  float64\n",
      " 40  Feature 41  30000 non-null  float64\n",
      " 41  Feature 42  30000 non-null  float64\n",
      " 42  Feature 43  30000 non-null  float64\n",
      " 43  Feature 44  30000 non-null  float64\n",
      " 44  Feature 45  30000 non-null  float64\n",
      " 45  Feature 46  30000 non-null  float64\n",
      " 46  Feature 47  30000 non-null  float64\n",
      " 47  Feature 48  30000 non-null  float64\n",
      " 48  Feature 49  30000 non-null  float64\n",
      " 49  Feature 50  30000 non-null  float64\n",
      " 50  Feature 51  30000 non-null  float64\n",
      " 51  Feature 52  30000 non-null  float64\n",
      " 52  Feature 53  30000 non-null  float64\n",
      " 53  Feature 54  30000 non-null  float64\n",
      " 54  Feature 55  30000 non-null  float64\n",
      " 55  Feature 56  30000 non-null  float64\n",
      " 56  Feature 57  30000 non-null  float64\n",
      " 57  Feature 58  30000 non-null  float64\n",
      " 58  Label       30000 non-null  int64  \n",
      "dtypes: float64(58), int64(1)\n",
      "memory usage: 13.5 MB\n"
     ]
    },
    {
     "data": {
      "text/plain": "(None,\n    Feature 1  Feature 2  Feature 3  Feature 4  Feature 5  Feature 6  \\\n 0        8.0      206.0   0.637306        1.0   0.702899       15.0   \n 1        8.0      210.0   0.666667        1.0   0.868852        6.0   \n 2        9.0      264.0   0.566265        1.0   0.668675        9.0   \n 3        8.0      146.0   0.746479        1.0   0.941176        4.0   \n 4       14.0     1267.0   0.398872        1.0   0.574099       39.0   \n \n    Feature 7  Feature 8  Feature 9  Feature 10  ...  Feature 50  Feature 51  \\\n 0        2.0       11.0        1.0    4.699029  ...    0.166667         0.8   \n 1        4.0        0.0        0.0    4.580952  ...    0.100000         0.5   \n 2        4.0        1.0        0.0    4.719697  ...    0.136364         0.5   \n 3        4.0        1.0        2.0    4.328767  ...    0.100000         0.6   \n 4        7.0       11.0        0.0    4.719021  ...    0.033333         0.8   \n \n    Feature 52  Feature 53  Feature 54  Feature 55  Feature 56  Feature 57  \\\n 0   -0.726984       -0.80   -0.666667         1.0         0.8         0.5   \n 1   -0.475000       -0.70   -0.125000         0.0         0.0         0.5   \n 2   -0.149242       -0.40   -0.050000         0.0         0.0         0.5   \n 3   -0.250000       -0.25   -0.250000         0.0         0.0         0.5   \n 4   -0.215351       -1.00   -0.050000         0.0         0.0         0.5   \n \n    Feature 58  Label  \n 0         0.8      0  \n 1         0.0      0  \n 2         0.0      1  \n 3         0.0      1  \n 4         0.0      0  \n \n [5 rows x 59 columns])"
     },
     "execution_count": 3,
     "metadata": {},
     "output_type": "execute_result"
    }
   ],
   "source": [
    "# Load the dataset\n",
    "df = pd.read_csv('assignment_5_public.csv')\n",
    "\n",
    "# Display the basic info and the first few rows of the dataframe\n",
    "df.info(), df.head()"
   ],
   "metadata": {
    "collapsed": false,
    "ExecuteTime": {
     "end_time": "2023-11-08T08:40:23.849668600Z",
     "start_time": "2023-11-08T08:40:23.747426Z"
    }
   },
   "id": "909f950c8e1de044"
  },
  {
   "cell_type": "code",
   "execution_count": 4,
   "outputs": [
    {
     "data": {
      "text/plain": "<Figure size 1000x800 with 2 Axes>",
      "image/png": "[encoded data removed]"
     },
     "metadata": {},
     "output_type": "display_data"
    },
    {
     "data": {
      "text/plain": "'correlation_heatmap.png'"
     },
     "execution_count": 4,
     "metadata": {},
     "output_type": "execute_result"
    }
   ],
   "source": [
    "import matplotlib.pyplot as plt\n",
    "import seaborn as sns\n",
    "\n",
    "# Calculate the correlation matrix\n",
    "correlation_matrix = df.corr()\n",
    "\n",
    "# Set up the matplotlib figure\n",
    "f, ax = plt.subplots(figsize=(10, 8))\n",
    "\n",
    "# Draw the heatmap\n",
    "sns.heatmap(correlation_matrix, annot=False, cmap='coolwarm', fmt='.2f', ax=ax)\n",
    "\n",
    "# Save the heatmap to a file\n",
    "heatmap_path = 'correlation_heatmap.png'\n",
    "plt.savefig(heatmap_path)\n",
    "\n",
    "# Show the heatmap\n",
    "plt.show()\n",
    "\n",
    "heatmap_path\n"
   ],
   "metadata": {
    "collapsed": false,
    "ExecuteTime": {
     "end_time": "2023-11-08T08:40:27.203986Z",
     "start_time": "2023-11-08T08:40:26.632433100Z"
    }
   },
   "id": "5c745d2bd90e01ee"
  },
  {
   "cell_type": "markdown",
   "source": [
    "According to the correlation matrix:\n",
    "- Feature 3,4,5,9,14,21,23,52,53,54,57 have low correlation (|x|<0.01) with the label.\n",
    "- Feature 19,3,5,48 have high correlation with each other.\n",
    "\n",
    "so the features 3,4,5,9,14,19,21,23,48,52,53,54,57 should be removed.\n",
    "as well as the feature 18, because it has a large amount of missing data, as mentioned above."
   ],
   "metadata": {
    "collapsed": false
   },
   "id": "e481854ed9f50cbe"
  },
  {
   "cell_type": "markdown",
   "source": [
    "# Data preprocessing & Data Scaling\n",
    "- remove features 3,4,5,9,14,18,19,21,23,48,52,53,54,57\n",
    "- standardize the continuous features ( mean = 0, variance = 1 )"
   ],
   "metadata": {
    "collapsed": false
   },
   "id": "e78166c2a07f808d"
  },
  {
   "cell_type": "code",
   "execution_count": 5,
   "outputs": [
    {
     "data": {
      "text/plain": "array([[-1.12898494, -0.75941078,  0.32941165, ...,  2.2096176 ,\n         2.75283476,  2.85185039],\n       [-1.12898494, -0.75086648, -0.45913659, ..., -0.86845351,\n        -0.26416154, -0.68681989],\n       [-0.65508613, -0.63551833, -0.19628718, ..., -0.86845351,\n        -0.26416154, -0.68681989],\n       ...,\n       [-0.65508613, -0.50521764, -0.45913659, ..., -0.86845351,\n        -0.26416154, -0.68681989],\n       [ 0.2927115 ,  2.06448283,  1.55604224, ..., -0.48369462,\n        -0.26416154, -0.68681989],\n       [-0.18118731, -0.92816086, -0.72198601, ...,  0.8244856 ,\n         1.05577434,  0.86134836]])"
     },
     "execution_count": 5,
     "metadata": {},
     "output_type": "execute_result"
    }
   ],
   "source": [
    "from sklearn.preprocessing import StandardScaler\n",
    "import numpy as np\n",
    "def preprocessing(array):\n",
    "    \"\"\"Preprocess the data.\n",
    "    Args:\n",
    "        array (np.ndarray): Data to be preprocessed.\n",
    "    Returns:\n",
    "        array (np.ndarray): Preprocessed data.\n",
    "    \"\"\"\n",
    "    # remove features 3,4,5,9,14,18,19,21,23,48,52,53,54,57\n",
    "    array = np.delete(array, [2,3,4,8,13,17,18,20,22,47,51,52,53,56], axis=1)\n",
    "    # standardize the continuous features\n",
    "    # after the delete the index changed, now the continuous feature's indexes are 0,1,2,3,4,5,6,12,13,14,15,16,17,18,19,28,29,30,31,32,33,34,35,36,37,38,39,40,41,42,43\n",
    "    # 完美！\n",
    "    columns_to_scale = [0,1,2,3,4,5,6,12,13,14,15,16,17,18,19,28,29,30,31,32,33,34,35,36,37,38,39,40,41,42,43]\n",
    "    scaler = StandardScaler()\n",
    "    array[:,columns_to_scale] = scaler.fit_transform(array[:,columns_to_scale])\n",
    "    return array\n",
    "\n",
    "X_public_scaled = preprocessing(X_public)\n",
    "\n",
    "preprocessing(X_public)"
   ],
   "metadata": {
    "collapsed": false,
    "ExecuteTime": {
     "end_time": "2023-11-08T08:40:29.482279600Z",
     "start_time": "2023-11-08T08:40:29.453766700Z"
    }
   },
   "id": "80d64797a59da16e"
  },
  {
   "cell_type": "markdown",
   "source": [
    "# Training & cross-validation & Parameter tuning\n",
    "\n",
    "SVM normally has two parameters: kernel function and C value.\n",
    "- kernel function: linear, polynomial, sigmoid, rbf\n",
    "- C value: 0.01, 0.1, 1, 10, 100\n",
    "\n",
    "Test different kernel functions and different C values."
   ],
   "metadata": {
    "collapsed": false
   },
   "id": "f24d6ab2f1c68d4f"
  },
  {
   "cell_type": "markdown",
   "source": [
    "using sigmoid as the kernel function:"
   ],
   "metadata": {
    "collapsed": false
   },
   "id": "307a477512d9a1c7"
  },
  {
   "cell_type": "code",
   "execution_count": 6,
   "outputs": [
    {
     "data": {
      "text/plain": "(array([0.586     , 0.59016667, 0.5885    , 0.58933333, 0.595     ]), 0.5898)"
     },
     "execution_count": 6,
     "metadata": {},
     "output_type": "execute_result"
    }
   ],
   "source": [
    "# train the SVM model and cross-validation\n",
    "from sklearn.svm import SVC\n",
    "from sklearn.model_selection import cross_val_score\n",
    "\n",
    "svm_sigmoid = SVC(kernel='sigmoid', C=0.1, random_state=1)\n",
    "scores = cross_val_score(estimator=svm_sigmoid, X=X_public_scaled, y=y_public, cv=5, n_jobs=1)\n",
    "\n",
    "scores, np.mean(scores)"
   ],
   "metadata": {
    "collapsed": false,
    "ExecuteTime": {
     "end_time": "2023-11-08T08:41:33.823810600Z",
     "start_time": "2023-11-08T08:40:32.210738900Z"
    }
   },
   "id": "2b8dd038ccb60fd9"
  },
  {
   "cell_type": "markdown",
   "source": [
    "use rbf as the kernel function:"
   ],
   "metadata": {
    "collapsed": false
   },
   "id": "3afe81951c19c61"
  },
  {
   "cell_type": "code",
   "execution_count": 8,
   "outputs": [
    {
     "data": {
      "text/plain": "(array([0.6635    , 0.66533333, 0.6585    , 0.65566667, 0.66783333]),\n 0.6621666666666666)"
     },
     "execution_count": 8,
     "metadata": {},
     "output_type": "execute_result"
    }
   ],
   "source": [
    "svm_rbf = SVC(kernel='rbf', C=1.0, random_state=1)\n",
    "scores = cross_val_score(estimator=svm_rbf, X=X_public_scaled, y=y_public, cv=5, n_jobs=1)\n",
    "\n",
    "scores, np.mean(scores)"
   ],
   "metadata": {
    "collapsed": false,
    "ExecuteTime": {
     "end_time": "2023-11-08T08:47:59.822114600Z",
     "start_time": "2023-11-08T08:46:41.230091300Z"
    }
   },
   "id": "7233a3e67a1a0b72"
  },
  {
   "cell_type": "markdown",
   "source": [
    "use linear as the kernel function:"
   ],
   "metadata": {
    "collapsed": false
   },
   "id": "777345be582be23d"
  },
  {
   "cell_type": "code",
   "execution_count": 9,
   "outputs": [
    {
     "data": {
      "text/plain": "(array([0.65283333, 0.64716667, 0.64916667, 0.64383333, 0.65533333]),\n 0.6496666666666666)"
     },
     "execution_count": 9,
     "metadata": {},
     "output_type": "execute_result"
    }
   ],
   "source": [
    "svm_linear = SVC(kernel='linear', C=1.0, random_state=1)\n",
    "scores = cross_val_score(estimator=svm_linear, X=X_public_scaled, y=y_public, cv=5, n_jobs=1)\n",
    "\n",
    "scores, np.mean(scores)"
   ],
   "metadata": {
    "collapsed": false,
    "ExecuteTime": {
     "end_time": "2023-11-08T08:51:12.997023Z",
     "start_time": "2023-11-08T08:48:20.671442100Z"
    }
   },
   "id": "65c2240c3e679fbd"
  },
  {
   "cell_type": "markdown",
   "source": [
    "use polynomial as the kernel function:"
   ],
   "metadata": {
    "collapsed": false
   },
   "id": "a51f41c13909efce"
  },
  {
   "cell_type": "code",
   "execution_count": 10,
   "outputs": [
    {
     "data": {
      "text/plain": "(array([0.64883333, 0.65033333, 0.647     , 0.63833333, 0.64783333]),\n 0.6464666666666667)"
     },
     "execution_count": 10,
     "metadata": {},
     "output_type": "execute_result"
    }
   ],
   "source": [
    "svm_poly = SVC(kernel='poly', C=1.0, random_state=1)\n",
    "scores = cross_val_score(estimator=svm_poly, X=X_public_scaled, y=y_public, cv=5, n_jobs=1)\n",
    "\n",
    "scores, np.mean(scores)"
   ],
   "metadata": {
    "collapsed": false,
    "ExecuteTime": {
     "end_time": "2023-11-08T08:52:34.345241100Z",
     "start_time": "2023-11-08T08:51:32.967129800Z"
    }
   },
   "id": "b7f01d4973ddcb2"
  },
  {
   "cell_type": "markdown",
   "source": [
    "SVM's performance is not good, so I try to use other models.\n",
    "KNN performance:\n",
    "\n",
    "| n_neighbors | scores |\n",
    "|-------------|--------|\n",
    "| 3           | 0.5897 |\n",
    "| 5           | 0.5979 |\n",
    "| 7           | 0.6039 |\n",
    "| 9           | 0.6103 |\n",
    "| 11          | 0.6143 |\n",
    "| 101         | 0.6343 |\n",
    "| 1001        | 0.6272 |"
   ],
   "metadata": {
    "collapsed": false
   },
   "id": "5b98ea26acc8d09d"
  },
  {
   "cell_type": "code",
   "execution_count": 11,
   "outputs": [
    {
     "data": {
      "text/plain": "(array([0.6365    , 0.63366667, 0.63466667, 0.62466667, 0.64183333]),\n 0.6342666666666668)"
     },
     "execution_count": 11,
     "metadata": {},
     "output_type": "execute_result"
    }
   ],
   "source": [
    "from sklearn.neighbors import KNeighborsClassifier\n",
    "\n",
    "knn = KNeighborsClassifier(n_neighbors=101, p=2, metric='minkowski')\n",
    "scores = cross_val_score(estimator=knn, X=X_public_scaled, y=y_public, cv=5, n_jobs=1)\n",
    "\n",
    "scores, np.mean(scores)"
   ],
   "metadata": {
    "collapsed": false,
    "ExecuteTime": {
     "end_time": "2023-11-08T08:53:08.451827700Z",
     "start_time": "2023-11-08T08:53:07.182063Z"
    }
   },
   "id": "e427afcf9a49dbde"
  },
  {
   "cell_type": "markdown",
   "source": [
    "the performance is not good as well, why this is happening?"
   ],
   "metadata": {
    "collapsed": false
   },
   "id": "e5f594e4c49c7ebe"
  },
  {
   "cell_type": "markdown",
   "source": [
    "Decision Tree:"
   ],
   "metadata": {
    "collapsed": false
   },
   "id": "a1a6c26fc3edb015"
  },
  {
   "cell_type": "code",
   "execution_count": 12,
   "outputs": [
    {
     "data": {
      "text/plain": "(array([0.641     , 0.62783333, 0.62083333, 0.63633333, 0.63633333]),\n 0.6324666666666666)"
     },
     "execution_count": 12,
     "metadata": {},
     "output_type": "execute_result"
    }
   ],
   "source": [
    "from sklearn.tree import DecisionTreeClassifier\n",
    "\n",
    "tree = DecisionTreeClassifier(criterion='entropy', max_depth=10, random_state=1)\n",
    "scores = cross_val_score(estimator=tree, X=X_public_scaled, y=y_public, cv=5, n_jobs=1)\n",
    "\n",
    "scores, np.mean(scores)"
   ],
   "metadata": {
    "collapsed": false,
    "ExecuteTime": {
     "end_time": "2023-11-08T08:53:14.725526100Z",
     "start_time": "2023-11-08T08:53:11.189693800Z"
    }
   },
   "id": "474b8fcf4ba89c98"
  },
  {
   "cell_type": "markdown",
   "source": [
    "Neural Network:"
   ],
   "metadata": {
    "collapsed": false
   },
   "id": "4829a12d0b8105d5"
  },
  {
   "cell_type": "code",
   "execution_count": 7,
   "outputs": [
    {
     "data": {
      "text/plain": "(array([0.5965    , 0.5925    , 0.58683333, 0.60783333, 0.60133333]), 0.597)"
     },
     "execution_count": 7,
     "metadata": {},
     "output_type": "execute_result"
    }
   ],
   "source": [
    "from sklearn.neural_network import MLPClassifier\n",
    "\n",
    "mlp = MLPClassifier(hidden_layer_sizes=(100, 100, 100), activation='relu', solver='adam', max_iter=1000, random_state=1)\n",
    "\n",
    "scores = cross_val_score(estimator=mlp, X=X_public_scaled, y=y_public, cv=5, n_jobs=1)\n",
    "\n",
    "scores, np.mean(scores)"
   ],
   "metadata": {
    "collapsed": false,
    "ExecuteTime": {
     "end_time": "2023-11-08T08:45:32.948145700Z",
     "start_time": "2023-11-08T08:42:15.520677Z"
    }
   },
   "id": "4b6bd48bace31f73"
  },
  {
   "cell_type": "markdown",
   "source": [
    "# Ensemble learning\n",
    "choose svm_rbf, svm_linear, svm_poly, knn, tree as the base models."
   ],
   "metadata": {
    "collapsed": false
   },
   "id": "cfc4361e34812bcb"
  },
  {
   "cell_type": "code",
   "execution_count": 14,
   "outputs": [],
   "source": [
    "from sklearn.ensemble import VotingClassifier\n",
    "\n",
    "ensemble = VotingClassifier(estimators=[('svm_rbf', svm_rbf),('svm_linear', svm_linear),('svm_poly',svm_poly),('knn',knn),('tree',tree)], voting='hard')"
   ],
   "metadata": {
    "collapsed": false,
    "ExecuteTime": {
     "end_time": "2023-11-08T09:04:38.143160800Z",
     "start_time": "2023-11-08T09:04:38.109772400Z"
    }
   },
   "id": "46da8b2930ecf407"
  },
  {
   "cell_type": "markdown",
   "source": [
    "# Make prediction"
   ],
   "metadata": {
    "collapsed": false
   },
   "id": "287054348fc07de"
  },
  {
   "cell_type": "markdown",
   "source": [],
   "metadata": {
    "collapsed": false
   },
   "id": "e4e9049f2bcda50b"
  },
  {
   "cell_type": "code",
   "execution_count": 15,
   "outputs": [
    {
     "name": "stdout",
     "output_type": "stream",
     "text": [
      "0       -0.114033\n",
      "1        0.408814\n",
      "2        0.931660\n",
      "3        0.931660\n",
      "4        1.454507\n",
      "           ...   \n",
      "29995    0.408814\n",
      "29996    0.931660\n",
      "29997   -1.682572\n",
      "29998    1.454507\n",
      "29999   -0.636879\n",
      "Name: 10, Length: 30000, dtype: float64\n",
      "Shape of X_private: (5000, 58)\n",
      "Accuracy: 0.6986\n"
     ]
    }
   ],
   "source": [
    "# standardize the continuous features\n",
    "from sklearn.preprocessing import StandardScaler\n",
    "scaler = StandardScaler()\n",
    "X_public = scaler.fit_transform(X_public)\n",
    "X_public = pd.DataFrame(X_public)\n",
    "print(X_public[10])\n",
    "\n",
    "X_private = read_data_from_csv('assignment_5_private.csv')\n",
    "print('Shape of X_private:', X_private.shape)  # k_sample, m_feature (5000, 58)\n",
    "\n",
    "import numpy as np\n",
    "\n",
    "# fit data\n",
    "ensemble.fit(X_public_scaled, y_public)\n",
    "\n",
    "# evaluate the model\n",
    "print('Accuracy:', ensemble.score(X_public_scaled, y_public))"
   ],
   "metadata": {
    "collapsed": false,
    "ExecuteTime": {
     "end_time": "2023-11-08T09:07:00.762229500Z",
     "start_time": "2023-11-08T09:04:40.854834Z"
    }
   },
   "id": "d6de9bda7cf6fa0f"
  },
  {
   "cell_type": "code",
   "execution_count": 16,
   "outputs": [],
   "source": [
    "# remove and make your own predictions.\n",
    "preds = ensemble.predict(preprocessing(X_private))\n",
    "'''\n",
    "CODE HERE!\n",
    "e.g.,\n",
    "preds = np.full(len(X_private), -1, dtype=int)\n",
    "'''\n",
    "\n",
    "submission = pd.DataFrame({'Label': preds})\n",
    "submission.to_csv('assignment_5.csv', index=True, index_label='Id')"
   ],
   "metadata": {
    "collapsed": false,
    "ExecuteTime": {
     "end_time": "2023-11-08T09:08:07.247874600Z",
     "start_time": "2023-11-08T09:07:59.787005200Z"
    }
   },
   "id": "4141e55d3eb5fd61"
  },
  {
   "cell_type": "markdown",
   "source": [],
   "metadata": {
    "collapsed": false
   },
   "id": "d09b917c083fb8d0"
  }
 ],
 "metadata": {
  "kernelspec": {
   "display_name": "Python 3",
   "language": "python",
   "name": "python3"
  },
  "language_info": {
   "codemirror_mode": {
    "name": "ipython",
    "version": 2
   },
   "file_extension": ".py",
   "mimetype": "text/x-python",
   "name": "python",
   "nbconvert_exporter": "python",
   "pygments_lexer": "ipython2",
   "version": "2.7.6"
  }
 },
 "nbformat": 4,
 "nbformat_minor": 5
}
