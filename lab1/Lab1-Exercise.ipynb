{
 "cells": [
  {
   "cell_type": "markdown",
   "id": "56d68155",
   "metadata": {},
   "source": [
    "# Part 1: Exercises of Python basics"
   ]
  },
  {
   "cell_type": "markdown",
   "id": "e5555a67",
   "metadata": {},
   "source": [
    "### Excercise 1: Data types\n",
    "- Use the assignment operator (=) to assign values to variables\n",
    "- Try different data types\n",
    "- Find more properties and operations of different data types through the online document https://www.w3schools.com/python/"
   ]
  },
  {
   "cell_type": "markdown",
   "id": "ca944b54",
   "metadata": {},
   "source": [
    "Python has several built-in data types that you can use to store and manipulate data. These include:\n",
    "\n",
    "**Numeric types**: `int`, `float`, and `complex`. These are used to represent numbers. For example, you can create them like this:"
   ]
  },
  {
   "cell_type": "code",
   "execution_count": null,
   "id": "c50b76ec",
   "metadata": {},
   "outputs": [],
   "source": [
    "my_int = 5\n",
    "my_int"
   ]
  },
  {
   "cell_type": "code",
   "execution_count": null,
   "id": "5be20a68",
   "metadata": {},
   "outputs": [],
   "source": [
    "my_float = 3.14\n",
    "my_float"
   ]
  },
  {
   "cell_type": "code",
   "execution_count": null,
   "id": "cb9290e2",
   "metadata": {},
   "outputs": [],
   "source": [
    "my_complex = 3 + 4j\n",
    "my_complex"
   ]
  },
  {
   "cell_type": "markdown",
   "id": "26a142a2",
   "metadata": {},
   "source": [
    "**Boolean type**: `bool`. This is used to represent truth values, either `True` or `False`. For example, you can create a boolean variable like this:"
   ]
  },
  {
   "cell_type": "code",
   "execution_count": null,
   "id": "b8641572",
   "metadata": {},
   "outputs": [],
   "source": [
    "my_bool = True\n",
    "my_bool"
   ]
  },
  {
   "cell_type": "markdown",
   "id": "932fe737",
   "metadata": {},
   "source": [
    "**String type**: `str`. This is used to represent text. You can create a string variable by enclosing text in quotation marks, like this:"
   ]
  },
  {
   "cell_type": "code",
   "execution_count": null,
   "id": "03fe28a0",
   "metadata": {},
   "outputs": [],
   "source": [
    "my_string = \"Hello, World!\"\n",
    "my_string"
   ]
  },
  {
   "cell_type": "markdown",
   "id": "69fab582",
   "metadata": {},
   "source": [
    "**List type**: `list`. This is used to represent an ordered collection of items. You can create a list by enclosing a comma-separated list of items in square brackets, like this:"
   ]
  },
  {
   "cell_type": "code",
   "execution_count": null,
   "id": "01d1657d",
   "metadata": {},
   "outputs": [],
   "source": [
    "list1 = [1,'str', True]\n",
    "print(list1[1])\n",
    "list1.append(3.14)\n",
    "print(list1)"
   ]
  },
  {
   "cell_type": "markdown",
   "id": "192fd1a5",
   "metadata": {},
   "source": [
    "**Tuple type**: `tuple`. This is similar to a list, but it is immutable, which means you cannot change its contents once it is created. You can create a tuple by enclosing a comma-separated list of items in parentheses, like this:"
   ]
  },
  {
   "cell_type": "code",
   "execution_count": null,
   "id": "85e2939a",
   "metadata": {},
   "outputs": [],
   "source": [
    "tuple1 = (1,'str', True)\n",
    "print(tuple1[0])"
   ]
  },
  {
   "cell_type": "markdown",
   "id": "1caee139",
   "metadata": {},
   "source": [
    "**Set type**: `set`. This is used to represent an unordered collection of unique items. You can create a set by enclosing a comma-separated list of items in curly braces, like this:"
   ]
  },
  {
   "cell_type": "code",
   "execution_count": null,
   "id": "527c88b3",
   "metadata": {},
   "outputs": [],
   "source": [
    "set1 = {\"18\",\"19\",True,32}\n",
    "set1"
   ]
  },
  {
   "cell_type": "markdown",
   "id": "e199e2cb",
   "metadata": {},
   "source": [
    "Sets have several useful methods for performing set operations, such as union and intersection."
   ]
  },
  {
   "cell_type": "code",
   "execution_count": null,
   "id": "24111fa8",
   "metadata": {},
   "outputs": [],
   "source": [
    "# Create two sets\n",
    "A = {1, 2, 3, 4}\n",
    "B = {3, 4, 5, 6}\n",
    "\n",
    "# Union of A and B\n",
    "union_AB = A.union(B)\n",
    "print(f\"Union of A and B: {union_AB}\")\n",
    "\n",
    "# Intersection of A and B\n",
    "intersection_AB = A.intersection(B)\n",
    "print(f\"Intersection of A and B: {intersection_AB}\")"
   ]
  },
  {
   "cell_type": "markdown",
   "id": "4c02216b",
   "metadata": {},
   "source": [
    "**Dictionary type**: `dict`. This is used to represent a collection of key-value pairs. You can create a dictionary by enclosing a comma-separated list of key-value pairs in curly braces, like this:"
   ]
  },
  {
   "cell_type": "code",
   "execution_count": null,
   "id": "2bdad283",
   "metadata": {},
   "outputs": [],
   "source": [
    "dict1 = {\n",
    "  \"brand\": \"Ford\",\n",
    "  \"electric\": False,\n",
    "  \"year\": 1964,\n",
    "  \"colors\": [\"red\", \"white\", \"blue\"]\n",
    "}\n",
    "dict1"
   ]
  },
  {
   "cell_type": "markdown",
   "id": "e1e99ceb",
   "metadata": {},
   "source": [
    "You can access the value associated with a key using square brackets:"
   ]
  },
  {
   "cell_type": "code",
   "execution_count": null,
   "id": "c5891ad0",
   "metadata": {},
   "outputs": [],
   "source": [
    "value = dict1[\"year\"]\n",
    "print(value)"
   ]
  },
  {
   "cell_type": "markdown",
   "id": "a9947996",
   "metadata": {},
   "source": [
    "### Excercise 2: Loops\n",
    "- Calculate the sum from 1 to 100.\n",
    "- Calculate the sum of the even numbers from 1 to 100.\n",
    "- Try both \"for loop\" and \"while loop\""
   ]
  },
  {
   "cell_type": "code",
   "execution_count": null,
   "id": "0b9cfd78",
   "metadata": {},
   "outputs": [],
   "source": [
    "# Calculate the sum from 1 to 100\n",
    "sum = 0\n",
    "for i in range(1, 101):\n",
    "    sum += i\n",
    "print(f\"The sum from 1 to 100 is: {sum}\")\n",
    "\n",
    "# Calculate the sum of the even numbers from 1 to 100\n",
    "even_sum = 0\n",
    "for i in range(2, 101, 2):\n",
    "    even_sum += i\n",
    "print(f\"The sum of the even numbers from 1 to 100 is: {even_sum}\")"
   ]
  },
  {
   "cell_type": "code",
   "execution_count": null,
   "id": "90f2d239",
   "metadata": {},
   "outputs": [],
   "source": [
    "# Calculate the sum from 1 to 100\n",
    "sum = 0\n",
    "i = 1\n",
    "while i <= 100:\n",
    "    sum += i\n",
    "    i += 1\n",
    "print(f\"The sum from 1 to 100 is: {sum}\")\n",
    "\n",
    "# Calculate the sum of the even numbers from 1 to 100\n",
    "even_sum = 0\n",
    "i = 2\n",
    "while i <= 100:\n",
    "    even_sum += i\n",
    "    i += 2\n",
    "print(f\"The sum of the even numbers from 1 to 100 is: {even_sum}\")"
   ]
  },
  {
   "cell_type": "markdown",
   "id": "a3e4287f",
   "metadata": {},
   "source": [
    "### Excercise 3: Write a function\n",
    "- Write a function to calculate the area of a rectangle\n",
    "- It takes two arguments, length and width, and returns the area of a rectangle with the given dimensions\n",
    "- The function should check if the input values are positive numbers and print an Error message if they are not."
   ]
  },
  {
   "cell_type": "code",
   "execution_count": null,
   "id": "ce90afe0",
   "metadata": {},
   "outputs": [],
   "source": [
    "def rectangle_area(length, width):\n",
    "    if length <= 0 or width <= 0:\n",
    "        print(\"Length and width must be positive numbers\")\n",
    "        return\n",
    "    return length * width"
   ]
  },
  {
   "cell_type": "code",
   "execution_count": null,
   "id": "148fee43",
   "metadata": {},
   "outputs": [],
   "source": [
    "rectangle_area(2,4)"
   ]
  },
  {
   "cell_type": "code",
   "execution_count": null,
   "id": "83a1db7b",
   "metadata": {},
   "outputs": [],
   "source": [
    "rectangle_area(1,-1)"
   ]
  },
  {
   "cell_type": "markdown",
   "id": "1a1af66a",
   "metadata": {},
   "source": [
    "### Excercise 4: File operations\n",
    "- Create a new file\n",
    "- Write to the file\n",
    "- Close the file\n",
    "- Read the contents of the file"
   ]
  },
  {
   "cell_type": "code",
   "execution_count": null,
   "id": "717f9b95",
   "metadata": {},
   "outputs": [],
   "source": [
    "# Step 1: Create a new file\n",
    "file = open(\"example.txt\", \"w\")\n",
    "\n",
    "# Step 2: Write to the file\n",
    "file.write(\"This is an example of writing to a file using Python.\\n\")\n",
    "file.write(\"We can write multiple lines by calling the write method multiple times.\\n\")\n",
    "file.write(\"Don't forget to close the file when you're done!\\n\")\n",
    "\n",
    "# Step 3: Close the file\n",
    "file.close()\n",
    "\n",
    "# Step 4: Read the contents of the file\n",
    "file = open(\"example.txt\", \"r\")\n",
    "contents = file.read()\n",
    "print(contents)\n",
    "file.close()"
   ]
  },
  {
   "cell_type": "markdown",
   "id": "7153e822",
   "metadata": {},
   "source": [
    "# Part 2: Tutorials on some Python packages we will encounter\n",
    "\n",
    "Please visit the official documents to learn deeper.\n",
    "- Numpy: https://numpy.org/doc/stable/\n",
    "- Pandas: https://pandas.pydata.org/pandas-docs/stable/\n",
    "- Matplotlib: https://matplotlib.org/stable/users/index\n",
    "- NetworkX: https://networkx.org/documentation/stable/reference/index.html#"
   ]
  },
  {
   "cell_type": "markdown",
   "id": "013e31ba",
   "metadata": {},
   "source": [
    "# 1. NumPy\n",
    "\n",
    "### 1.1 Introduction\n",
    "\n",
    "NumPy, short for Numerical Python, is a library for the Python programming language, adding support for large, multi-dimensional arrays and matrices, along with a large collection of high-level mathematical functions to operate on these arrays.\n",
    "\n",
    "The main feature of NumPy is the array object class called ndarray which provides much more efficient storage and data operations as the size of the data increases. It is up to 50x faster than traditional Python lists with a lot of supporting functions that make working with ndarray very easy.\n",
    "\n",
    "Unlike tuples and list, ndarrays can only store objects of the same type (e.g. only floats or only ints).\n",
    "\n",
    "### 1.2 Get started\n",
    "\n",
    "NumPy can be installed using pip: `pip install numpy`.\n",
    "\n",
    "Then import it into your Python script or notebook with `import numpy as np`."
   ]
  },
  {
   "cell_type": "code",
   "execution_count": null,
   "id": "0da29350",
   "metadata": {},
   "outputs": [],
   "source": [
    "import numpy as np  # This is how we usually import numpy"
   ]
  },
  {
   "cell_type": "markdown",
   "id": "2e9779b2",
   "metadata": {},
   "source": [
    "### 1.3 Array Creation\n",
    "\n",
    "Arrays can be created from lists using numpy.array(), or using various other methods like numpy.zeros(), numpy.ones(), numpy.arange(), numpy.linspace(), etc."
   ]
  },
  {
   "cell_type": "code",
   "execution_count": null,
   "id": "4533b43d",
   "metadata": {},
   "outputs": [],
   "source": [
    "arr = np.array([1, 2, 3])\n",
    "print(f\"Array: {arr}\")"
   ]
  },
  {
   "cell_type": "markdown",
   "id": "1c74cb0b",
   "metadata": {},
   "source": [
    "Using numpy.arange() to create an array of evenly spaced values within a given interval."
   ]
  },
  {
   "cell_type": "code",
   "execution_count": null,
   "id": "e97d3099",
   "metadata": {},
   "outputs": [],
   "source": [
    "# Create an array of 10 values from 0 to 9\n",
    "arr = np.arange(10)\n",
    "print(arr)"
   ]
  },
  {
   "cell_type": "markdown",
   "id": "e7349168",
   "metadata": {},
   "source": [
    "Using numpy.linspace() to create an array of evenly spaced values over a specified interval."
   ]
  },
  {
   "cell_type": "code",
   "execution_count": null,
   "id": "71f2d0c1",
   "metadata": {},
   "outputs": [],
   "source": [
    "# Create an array of 5 values from 0 to 1\n",
    "arr = np.linspace(0, 1, 5)\n",
    "print(arr)"
   ]
  },
  {
   "cell_type": "markdown",
   "id": "0336222c",
   "metadata": {},
   "source": [
    "Using numpy.zeros() to create an array of all zeros with a given shape."
   ]
  },
  {
   "cell_type": "code",
   "execution_count": null,
   "id": "6cc77c16",
   "metadata": {},
   "outputs": [],
   "source": [
    "# Create a 3x3 array of zeros\n",
    "arr = np.zeros((3, 3))\n",
    "print(arr)"
   ]
  },
  {
   "cell_type": "markdown",
   "id": "a1db04af",
   "metadata": {},
   "source": [
    "Using numpy.ones() to create an array of all ones with a given shape."
   ]
  },
  {
   "cell_type": "code",
   "execution_count": null,
   "id": "f4439dc7",
   "metadata": {},
   "outputs": [],
   "source": [
    "# Create a 2x4 array of ones\n",
    "arr = np.ones((2, 4))\n",
    "print(arr)"
   ]
  },
  {
   "cell_type": "markdown",
   "id": "c3002772",
   "metadata": {},
   "source": [
    "Using numpy.random.rand() to create an array of random numbers from a uniform distribution over [0, 1)."
   ]
  },
  {
   "cell_type": "code",
   "execution_count": null,
   "id": "84dff86b",
   "metadata": {},
   "outputs": [],
   "source": [
    "# Create a 4x4 array of random numbers\n",
    "arr = np.random.rand(4, 4)\n",
    "print(arr)"
   ]
  },
  {
   "cell_type": "markdown",
   "id": "14dd9979",
   "metadata": {},
   "source": [
    "Using numpy.random.randn() to create an array of random numbers from a standard normal distribution."
   ]
  },
  {
   "cell_type": "code",
   "execution_count": null,
   "id": "11b1f3d5",
   "metadata": {},
   "outputs": [],
   "source": [
    "# Create a 2x3 array of random numbers\n",
    "arr = np.random.randn(2, 3)\n",
    "print(arr)"
   ]
  },
  {
   "cell_type": "markdown",
   "id": "cbac611f",
   "metadata": {},
   "source": [
    "### 1.4 Array Operations\n",
    "\n",
    "Standard mathematical operations can be performed on arrays which applies elementwise. This includes addition, subtraction, multiplication, division and more.\n"
   ]
  },
  {
   "cell_type": "code",
   "execution_count": null,
   "id": "a9b54198",
   "metadata": {},
   "outputs": [],
   "source": [
    "a = np.array([1, 2, 3])\n",
    "b = np.array([4, 5, 6])\n",
    "\n",
    "print(f\"a + b: {a + b}\")\n",
    "print(f\"a - b: {a - b}\")\n",
    "print(f\"a * b: {a * b}\")\n",
    "print(f\"a / b: {a / b}\")"
   ]
  },
  {
   "cell_type": "markdown",
   "id": "03e51a48",
   "metadata": {},
   "source": [
    "### 1.5 Indexing and Slicing\n",
    "\n",
    "Elements in NumPy arrays can be accessed by index. Slicing is also possible in NumPy arrays, similar to Python lists."
   ]
  },
  {
   "cell_type": "code",
   "execution_count": null,
   "id": "92fe69f0",
   "metadata": {},
   "outputs": [],
   "source": [
    "arr = np.array([1, 2, 3, 4])\n",
    "print(\"First element:\", arr[0])\n",
    "print(\"Second element:\", arr[1])\n",
    "print(\"Last element:\", arr[-1])"
   ]
  },
  {
   "cell_type": "code",
   "execution_count": null,
   "id": "0f6aa6f2",
   "metadata": {
    "scrolled": true
   },
   "outputs": [],
   "source": [
    "arr = np.array([1, 2, 3, 4, 5, 6, 7])\n",
    "print(\"Array from index 1 to index 5:\", arr[1:5])"
   ]
  },
  {
   "cell_type": "markdown",
   "id": "1ffd062b",
   "metadata": {},
   "source": [
    "### 1.6 Advanced Array Manipulation\n",
    "\n",
    "There are many advanced ways you can manipulate arrays such as changing the shape of arrays, stacking multiple arrays, and more.\n"
   ]
  },
  {
   "cell_type": "code",
   "execution_count": null,
   "id": "01d6707a",
   "metadata": {},
   "outputs": [],
   "source": [
    "arr = np.array([1, 2, 3, 4, 5])\n",
    "reshaped_arr = arr.reshape((5, 1))\n",
    "stacked_arr = np.hstack((arr, arr))\n",
    "\n",
    "print(f\"Reshaped array: \\n{reshaped_arr}\")\n",
    "print(f\"Stacked array: \\n{stacked_arr}\")"
   ]
  },
  {
   "cell_type": "markdown",
   "id": "bf5cba98",
   "metadata": {},
   "source": [
    "### 1.7 Mathematical Functions\n",
    "\n",
    "NumPy provides a variety of mathematical functions that can be performed on arrays such as trigonometric functions, exponential and logarithmic functions, etc."
   ]
  },
  {
   "cell_type": "code",
   "execution_count": null,
   "id": "288aa582",
   "metadata": {},
   "outputs": [],
   "source": [
    "arr = np.array([1, 2, 3])\n",
    "\n",
    "print(f\"np.sin(arr): {np.sin(arr)}\")\n",
    "print(f\"np.exp(arr): {np.exp(arr)}\")\n",
    "print(f\"np.log(arr): {np.log(arr)}\")"
   ]
  },
  {
   "cell_type": "markdown",
   "id": "fe264b43",
   "metadata": {},
   "source": [
    "### 1.8 Linear Algebra in NumPy\n",
    "\n",
    "NumPy provides many functions to perform linear algebra operations like dot product, matrix multiplication, finding determinants, solving linear equations and more."
   ]
  },
  {
   "cell_type": "code",
   "execution_count": null,
   "id": "800d8226",
   "metadata": {},
   "outputs": [],
   "source": [
    "a = np.array([[1, 2], [3, 4]])\n",
    "b = np.array([[5, 6], [7, 8]])\n",
    "print(f\"a: \\n{a}\")\n",
    "print(f\"b: \\n{b}\")\n",
    "\n",
    "dot_product = np.dot(a, b)\n",
    "matrix_multiplication = a @ b\n",
    "determinant = np.linalg.det(a)\n",
    "\n",
    "print(f\"Dot product: \\n{dot_product}\")\n",
    "print(f\"Matrix multiplication: \\n{matrix_multiplication}\")\n",
    "print(f\"Determinant of a: {determinant}\")"
   ]
  },
  {
   "cell_type": "markdown",
   "id": "13dfffa6",
   "metadata": {},
   "source": [
    "# 2. Pandas\n",
    "\n",
    "### 2.1 Introduction\n",
    "\n",
    "Pandas is a software library written for the Python programming language for data manipulation and analysis. In particular, it offers data structures and operations for manipulating numerical tables.\n",
    "\n",
    "Core Components of Pandas:\n",
    "- Series: It's a one-dimensional array holding data of any type.\n",
    "- DataFrame: It's a two-dimensional table of data with rows and columns.\n",
    "\n",
    "### 2.2 Get started\n",
    "\n",
    "Install pandas using pip package manager by running ```pip install pandas``` and  import pandas in your python script using ```import pandas as pd```"
   ]
  },
  {
   "cell_type": "code",
   "execution_count": null,
   "id": "c503f3e7",
   "metadata": {},
   "outputs": [],
   "source": [
    "import pandas as pd"
   ]
  },
  {
   "cell_type": "markdown",
   "id": "e8d999ed",
   "metadata": {},
   "source": [
    "### 2.3  Creating a DataFrame\n",
    "\n",
    "You can create a DataFrame from dictionary like so. Each key-value pair in the dictionary corresponds to a column in the DataFrame."
   ]
  },
  {
   "cell_type": "code",
   "execution_count": null,
   "id": "8d91b84f",
   "metadata": {},
   "outputs": [],
   "source": [
    "data = {'Name':['Tom', 'Tom', 'Steve', 'Steve', 'Jack', 'Jack', 'Emma', 'Emma', 'Oliver', 'Oliver'],\n",
    "        'Age':[28, 28, 29, 29, 34, 34, 30, 30, 32, 32],\n",
    "        'Score':[9.1, 8.5, 8.7, 8.9, 9.3, 8.8, 9.0, 8.6, 9.2, 8.7],\n",
    "        'Subject':['Math', 'Science', 'Math', 'Science', 'Math', 'Science', 'Math', 'Science', 'Math', 'Science']}\n",
    "df = pd.DataFrame(data)\n",
    "print(df)"
   ]
  },
  {
   "cell_type": "markdown",
   "id": "e4073e13",
   "metadata": {},
   "source": [
    "Or you can read data from a CSV file using the `read_csv` function."
   ]
  },
  {
   "cell_type": "code",
   "execution_count": null,
   "id": "c6dc827a",
   "metadata": {},
   "outputs": [],
   "source": [
    "# df = pd.read_csv('file.csv')\n",
    "# print(df.head())"
   ]
  },
  {
   "cell_type": "markdown",
   "id": "f3fa6fe1",
   "metadata": {},
   "source": [
    "Then, you can write data to a CSV file using the `to_csv` function."
   ]
  },
  {
   "cell_type": "code",
   "execution_count": null,
   "id": "157a66ea",
   "metadata": {},
   "outputs": [],
   "source": [
    "# df.to_csv('file.csv')"
   ]
  },
  {
   "cell_type": "markdown",
   "id": "0c1b8971",
   "metadata": {},
   "source": [
    "### 2.4 Dataframe Manipulation"
   ]
  },
  {
   "cell_type": "markdown",
   "id": "ed703e96",
   "metadata": {},
   "source": [
    "The index of a DataFrame is like an address that’s how any data point across the DataFrame or Series can be accessed.\n",
    "\n",
    "This is how to display the index of the DataFrame."
   ]
  },
  {
   "cell_type": "code",
   "execution_count": null,
   "id": "2a26fe0a",
   "metadata": {},
   "outputs": [],
   "source": [
    "print(\"DataFrame Index: \", df.index)"
   ]
  },
  {
   "cell_type": "markdown",
   "id": "ff60adbd",
   "metadata": {},
   "source": [
    "You can also display the column names of the DataFrame."
   ]
  },
  {
   "cell_type": "code",
   "execution_count": null,
   "id": "4115aedf",
   "metadata": {},
   "outputs": [],
   "source": [
    "print(\"DataFrame Columns: \", df.columns)"
   ]
  },
  {
   "cell_type": "markdown",
   "id": "48f3ad76",
   "metadata": {},
   "source": [
    "You can select part of the data via index or multi-index."
   ]
  },
  {
   "cell_type": "code",
   "execution_count": null,
   "id": "c787b4f5",
   "metadata": {},
   "outputs": [],
   "source": [
    "print(df.loc[0]) # Selects the first row"
   ]
  },
  {
   "cell_type": "code",
   "execution_count": null,
   "id": "b937de08",
   "metadata": {},
   "outputs": [],
   "source": [
    "print(df.loc[[0,3]]) "
   ]
  },
  {
   "cell_type": "markdown",
   "id": "5cffeedc",
   "metadata": {},
   "source": [
    "You can sum the selected column."
   ]
  },
  {
   "cell_type": "code",
   "execution_count": null,
   "id": "04143d8a",
   "metadata": {},
   "outputs": [],
   "source": [
    "# Sum per column\n",
    "print(df['Age'].sum())"
   ]
  },
  {
   "cell_type": "markdown",
   "id": "529d5e3f",
   "metadata": {},
   "source": [
    "You can add a new column directly."
   ]
  },
  {
   "cell_type": "code",
   "execution_count": null,
   "id": "21e5141b",
   "metadata": {},
   "outputs": [],
   "source": [
    "df['NewColumn'] = range(1, len(df) + 1)\n",
    "print(df)"
   ]
  },
  {
   "cell_type": "markdown",
   "id": "7e82cf54",
   "metadata": {},
   "source": [
    "Or you can add a new column by a Series."
   ]
  },
  {
   "cell_type": "code",
   "execution_count": null,
   "id": "21f5a8a9",
   "metadata": {
    "scrolled": true
   },
   "outputs": [],
   "source": [
    "df['NewColumn2'] = pd.Series(range(len(df), 0, -1),index =[0,1,2,3,4,9,8,7,6,5])\n",
    "df"
   ]
  },
  {
   "cell_type": "markdown",
   "id": "79f17987",
   "metadata": {},
   "source": [
    "You can add a new object to the dataframe."
   ]
  },
  {
   "cell_type": "code",
   "execution_count": null,
   "id": "f2348768",
   "metadata": {},
   "outputs": [],
   "source": [
    "df.reset_index(inplace=True)\n",
    "new_data = {'Name':'John', 'Age':31, 'Score':8.9, 'Subject':'Math', \n",
    "            'NewColumn':11, 'NewColumn2':0}\n",
    "df = df.append(new_data, ignore_index=True)\n",
    "print(df)"
   ]
  },
  {
   "cell_type": "markdown",
   "id": "891d24ab",
   "metadata": {},
   "source": [
    "You can select and filter data based on conditions. For example, to select rows where Age is greater than 30:"
   ]
  },
  {
   "cell_type": "code",
   "execution_count": null,
   "id": "25351d76",
   "metadata": {},
   "outputs": [],
   "source": [
    "print(df[df['Age'] > 30])"
   ]
  },
  {
   "cell_type": "markdown",
   "id": "ec3f9f38",
   "metadata": {},
   "source": [
    "You can sort data like this:"
   ]
  },
  {
   "cell_type": "code",
   "execution_count": null,
   "id": "3e3fc43f",
   "metadata": {},
   "outputs": [],
   "source": [
    "print(df.sort_values('Age'))"
   ]
  },
  {
   "cell_type": "markdown",
   "id": "450b0732",
   "metadata": {},
   "source": [
    "You can group rows of data together based on some column value:"
   ]
  },
  {
   "cell_type": "code",
   "execution_count": null,
   "id": "1c4fd962",
   "metadata": {},
   "outputs": [],
   "source": [
    "# Grouping data by 'Name' and calculating mean score\n",
    "grouped = df.groupby(['Name'])['Score'].mean()\n",
    "print(grouped.to_frame())"
   ]
  },
  {
   "cell_type": "markdown",
   "id": "d1706ead",
   "metadata": {},
   "source": [
    "Combine DataFrames together:\n",
    "\n",
    "- The join() function is used to combine two DataFrames on a common index or column. For example, suppose we have two DataFrames, df1 and df2, that have the same index but different columns:"
   ]
  },
  {
   "cell_type": "code",
   "execution_count": null,
   "id": "ba50f96c",
   "metadata": {},
   "outputs": [],
   "source": [
    "# Create two dataframes with some common and some different columns\n",
    "df1 = pd.DataFrame({'name': ['Alice', 'Bob', 'Charlie', 'David'],\n",
    "                    'age': [25, 30, 35, 40],\n",
    "                    'gender': ['F', 'M', 'M', 'M']})\n",
    "\n",
    "df2 = pd.DataFrame({'name': ['Alice', 'Bob', 'Eve', 'Frank'],\n",
    "                    'height': [160, 170, 165, 180],\n",
    "                    'weight': [50, 70, 55, 80]})\n",
    "\n",
    "print(f\"df1: \\n{df1}\\n\")\n",
    "print(f\"df2: \\n{df2}\\n\")\n",
    "\n",
    "# Perform an outer join on the two dataframes using the name column as the key\n",
    "# This will include all rows from both dataframes, and fill missing values with NaN\n",
    "outer_join = df1.join(df2.set_index('name'), on='name', how='outer')\n",
    "print(f\"Outer join result:\\n{outer_join}\\n\")\n",
    "\n",
    "# Perform an inner join on the two dataframes using the name column as the key\n",
    "# This will include only rows that have a matching value in the name column in both dataframes\n",
    "inner_join = df1.join(df2.set_index('name'), on='name', how='inner')\n",
    "print(f\"Inner join result:\\n{inner_join}\\n\")"
   ]
  },
  {
   "cell_type": "markdown",
   "id": "3a2d00b2",
   "metadata": {},
   "source": [
    "- The concat() function is used to combine two or more DataFrames along a specified axis. For example, suppose we have two DataFrames, df3 and df4, that have the same columns but different rows:"
   ]
  },
  {
   "cell_type": "code",
   "execution_count": null,
   "id": "ea862645",
   "metadata": {},
   "outputs": [],
   "source": [
    "import pandas as pd\n",
    "\n",
    "# create two sample DataFrames\n",
    "df1 = pd.DataFrame({\"name\": [\"Alice\", \"Bob\", \"Charlie\"], \"age\": [25, 30, 35]})\n",
    "df2 = pd.DataFrame({\"name\": [\"David\", \"Eve\", \"Frank\"], \"age\": [40, 45, 50]})\n",
    "print(f\"df1: \\n{df1}\\n\")\n",
    "print(f\"df2: \\n{df2}\\n\")\n",
    "\n",
    "\n",
    "# concatenate them along the 0-axis\n",
    "result = pd.concat([df1, df2], axis=0, ignore_index=True)\n",
    "\n",
    "# print the result\n",
    "print(f\"result: \\n{result}\\n\")\n"
   ]
  },
  {
   "cell_type": "markdown",
   "id": "c37b2766",
   "metadata": {},
   "source": [
    "### 2.5 Handling Missing Data (Detecting, Dropping, and Filling)\n",
    "\n",
    "This is a DataFrame with some missing values. "
   ]
  },
  {
   "cell_type": "code",
   "execution_count": null,
   "id": "4534e212",
   "metadata": {},
   "outputs": [],
   "source": [
    "import numpy as np\n",
    "\n",
    "data = {'A':[1, 2, np.nan], 'B':[5, np.nan, np.nan], 'C':[1, 2, 3]}\n",
    "df = pd.DataFrame(data)\n",
    "\n",
    "print(df)"
   ]
  },
  {
   "cell_type": "markdown",
   "id": "f6b3f237",
   "metadata": {},
   "source": [
    "The `isnull` function returns a DataFrame where each cell is either True or False depending on that cell's null status."
   ]
  },
  {
   "cell_type": "code",
   "execution_count": null,
   "id": "b3907e12",
   "metadata": {},
   "outputs": [],
   "source": [
    "print(df.isnull())"
   ]
  },
  {
   "cell_type": "markdown",
   "id": "044994a3",
   "metadata": {},
   "source": [
    "The `dropna` function removes missing values. By default, it removes any row which contains at least one missing value."
   ]
  },
  {
   "cell_type": "code",
   "execution_count": null,
   "id": "c56d8fd9",
   "metadata": {},
   "outputs": [],
   "source": [
    "print(df.dropna())"
   ]
  },
  {
   "cell_type": "markdown",
   "id": "c00f6de1",
   "metadata": {},
   "source": [
    "You can also remove columns which contain at least one missing value by setting the `axis` parameter to 1."
   ]
  },
  {
   "cell_type": "code",
   "execution_count": null,
   "id": "30893086",
   "metadata": {},
   "outputs": [],
   "source": [
    "print(df.dropna(axis=1))"
   ]
  },
  {
   "cell_type": "markdown",
   "id": "1c982e66",
   "metadata": {},
   "source": [
    "The `fillna` function fills the missing values with a value you specify.\n",
    "\n",
    "For example, you can fill all missing values with the mean of the non-missing values in the same column:"
   ]
  },
  {
   "cell_type": "code",
   "execution_count": null,
   "id": "d4e365ee",
   "metadata": {},
   "outputs": [],
   "source": [
    "print(df.fillna(value=df.mean()))"
   ]
  },
  {
   "cell_type": "markdown",
   "id": "79171995",
   "metadata": {},
   "source": [
    "# 3. Matplotlib"
   ]
  },
  {
   "cell_type": "markdown",
   "id": "19ccfa9c",
   "metadata": {},
   "source": [
    "### 3.1 Introduction to Matplotlib\n",
    "Matplotlib is a powerful data visualization library for the Python programming language. It provides an object-oriented API for creating a wide range of static, animated, and interactive visualizations. Matplotlib is built on top of NumPy, a fundamental library for scientific computing in Python, and can be used in conjunction with other Python libraries such as SciPy and Pandas. With Matplotlib, you can create high-quality figures and graphs that can be customized to your needs. It is widely used in academia and industry for data analysis and presentation.\n",
    "\n",
    "### 3.2 Get started\n",
    "Import it into your Python script or notebook with `import matplotlib.pyplot as plt`."
   ]
  },
  {
   "cell_type": "code",
   "execution_count": null,
   "id": "7b841e19",
   "metadata": {},
   "outputs": [],
   "source": [
    "import matplotlib.pyplot as plt\n",
    "import numpy as np"
   ]
  },
  {
   "cell_type": "markdown",
   "id": "3444bc35",
   "metadata": {},
   "source": [
    "### 3.3 Plotting different charts\n",
    "Matplotlib can create a wide variety of plots, including line plots, scatter plots, bar plots, pie charts, and histograms. To create a plot, you need to use the appropriate plotting function."
   ]
  },
  {
   "cell_type": "code",
   "execution_count": null,
   "id": "32eaff43",
   "metadata": {},
   "outputs": [],
   "source": [
    "# Line plot\n",
    "x = np.arange(10)\n",
    "y = np.random.rand(10)\n",
    "plt.plot(x, y)\n",
    "plt.show()"
   ]
  },
  {
   "cell_type": "code",
   "execution_count": null,
   "id": "b4823f72",
   "metadata": {},
   "outputs": [],
   "source": [
    "# Scatter plot\n",
    "x = np.random.rand(100)\n",
    "y = np.random.rand(100)\n",
    "plt.scatter(x, y)\n",
    "plt.show()"
   ]
  },
  {
   "cell_type": "code",
   "execution_count": null,
   "id": "260970ea",
   "metadata": {},
   "outputs": [],
   "source": [
    "# Bar plot\n",
    "x = ['A', 'B', 'C']\n",
    "y = [3, 1, 4]\n",
    "plt.bar(x, y)\n",
    "plt.show()"
   ]
  },
  {
   "cell_type": "code",
   "execution_count": null,
   "id": "bfc308a8",
   "metadata": {},
   "outputs": [],
   "source": [
    "# Pie chart\n",
    "x = ['A', 'B', 'C']\n",
    "y = [3, 1, 4]\n",
    "plt.pie(y, labels=x)\n",
    "plt.show()"
   ]
  },
  {
   "cell_type": "code",
   "execution_count": null,
   "id": "78b9f9b7",
   "metadata": {},
   "outputs": [],
   "source": [
    "# Histogram\n",
    "x = np.random.randn(1000)\n",
    "plt.hist(x)\n",
    "plt.show()"
   ]
  },
  {
   "cell_type": "markdown",
   "id": "948b60ec",
   "metadata": {},
   "source": [
    "### 3.4 Customizing display attributes\n",
    "You can change the appearance of your plots by customizing the display attributes."
   ]
  },
  {
   "cell_type": "markdown",
   "id": "0a8af75a",
   "metadata": {},
   "source": [
    "Change the color and marker style of a line plot."
   ]
  },
  {
   "cell_type": "code",
   "execution_count": null,
   "id": "7b08afb1",
   "metadata": {},
   "outputs": [],
   "source": [
    "x = np.linspace(0, 10, 100)\n",
    "y = np.sin(x)\n",
    "plt.plot(x, y, color='red', marker='o')\n",
    "plt.show()"
   ]
  },
  {
   "cell_type": "markdown",
   "id": "f63014b0",
   "metadata": {},
   "source": [
    "### 3.5 Adding labels and titles\n",
    "You can add labels to the x- and y-axes of your plot using the `xlabel` and `ylabel` functions. You can also add a title to your plot using the `title` function."
   ]
  },
  {
   "cell_type": "code",
   "execution_count": null,
   "id": "41175758",
   "metadata": {},
   "outputs": [],
   "source": [
    "# Adding labels and titles\n",
    "x = np.linspace(0, 10, 100)\n",
    "y = np.sin(x)\n",
    "plt.plot(x, y)\n",
    "plt.xlabel('x')\n",
    "plt.ylabel('sin(x)')\n",
    "plt.title('A simple line plot')\n",
    "plt.show()"
   ]
  },
  {
   "cell_type": "markdown",
   "id": "518f8312",
   "metadata": {},
   "source": [
    "### 3.6 Multiple plotting\n",
    "You can plot multiple lines on the same graph by calling the plotting function multiple times before calling `show`."
   ]
  },
  {
   "cell_type": "code",
   "execution_count": null,
   "id": "3a702105",
   "metadata": {},
   "outputs": [],
   "source": [
    "x = np.linspace(0, 10, 100)\n",
    "y1 = np.sin(x)\n",
    "y2 = np.cos(x)\n",
    "plt.plot(x, y1)\n",
    "plt.plot(x, y2)\n",
    "plt.show()"
   ]
  },
  {
   "cell_type": "markdown",
   "id": "fef230bc",
   "metadata": {},
   "source": [
    "### 3.7 Legends\n",
    "You can add a legend to your plot to label the different lines. To do this, you need to pass the `label` argument to the plotting function when creating each line and then call the `legend` function before calling `show`."
   ]
  },
  {
   "cell_type": "code",
   "execution_count": null,
   "id": "797c16a5",
   "metadata": {},
   "outputs": [],
   "source": [
    "x = np.linspace(0, 10, 100)\n",
    "y1 = np.sin(x)\n",
    "y2 = np.cos(x)\n",
    "plt.plot(x, y1, label='sin(x)')\n",
    "plt.plot(x, y2, label='cos(x)')\n",
    "plt.legend()\n",
    "plt.show()"
   ]
  },
  {
   "cell_type": "markdown",
   "id": "c9015b87",
   "metadata": {},
   "source": [
    "## 4. NetworkX"
   ]
  },
  {
   "cell_type": "markdown",
   "id": "8345e397",
   "metadata": {},
   "source": [
    "### 4.1 Introduction to NetworkX\n",
    "NetworkX is a Python package for the creation, manipulation, and study of the structure, dynamics, and functions of complex networks. It provides tools for working with graphs and networks, including classes for graph objects, generators to create standard graphs, IO routines for reading in existing datasets, algorithms to analyze the resulting networks and some basic drawing tools.\n",
    "\n",
    "### 4.2 Get started\n",
    "To get started with NetworkX, you'll need to install it by running `!pip install networkx` in your Jupyter notebook or command line. Then, you can import it into your Python script or notebook with `import networkx as nx`."
   ]
  },
  {
   "cell_type": "markdown",
   "id": "103f7e90",
   "metadata": {},
   "source": [
    "### 4.3 Creating a Graph\n",
    "\n",
    "You can create an empty graph with no nodes and no edges using the `Graph` class:"
   ]
  },
  {
   "cell_type": "code",
   "execution_count": null,
   "id": "780d4722",
   "metadata": {},
   "outputs": [],
   "source": [
    "import networkx as nx\n",
    "G = nx.Graph()"
   ]
  },
  {
   "cell_type": "markdown",
   "id": "32f6a7e7",
   "metadata": {},
   "source": [
    "By definition, a Graph is a collection of nodes (vertices) along with identified pairs of nodes (called edges, links, etc). In NetworkX, nodes can be any hashable object e.g., a text string, an image, an XML object, another Graph, a customized node object, etc."
   ]
  },
  {
   "cell_type": "code",
   "execution_count": null,
   "id": "40fb6257",
   "metadata": {},
   "outputs": [],
   "source": [
    "import math\n",
    "g = nx.Graph()\n",
    "g. add_node ('string')\n",
    "g. add_node (math.cos) # cosine function\n",
    "f = open ('temp.txt' , 'w') # file handle\n",
    "g. add_node (f)\n",
    "print (g.nodes())"
   ]
  },
  {
   "cell_type": "markdown",
   "id": "119be3ac",
   "metadata": {},
   "source": [
    "### 4.4 Adding and Removing Nodes\n",
    "\n",
    "The graph `G` can be grown in several ways. You can add one node at a time:"
   ]
  },
  {
   "cell_type": "code",
   "execution_count": null,
   "id": "bfae7eca",
   "metadata": {},
   "outputs": [],
   "source": [
    "G.add_node(1)"
   ]
  },
  {
   "cell_type": "markdown",
   "id": "22e670a2",
   "metadata": {},
   "source": [
    "Or add nodes from any iterable container, such as a list:"
   ]
  },
  {
   "cell_type": "code",
   "execution_count": null,
   "id": "696d1962",
   "metadata": {},
   "outputs": [],
   "source": [
    "G.add_nodes_from([2, 3])"
   ]
  },
  {
   "cell_type": "markdown",
   "id": "22a2ae84",
   "metadata": {},
   "source": [
    "Use matplotlib to help draw the graph."
   ]
  },
  {
   "cell_type": "code",
   "execution_count": null,
   "id": "c75ccd65",
   "metadata": {},
   "outputs": [],
   "source": [
    "import matplotlib.pyplot as plt\n",
    "plt.rcParams[\"figure.figsize\"] = (4, 3) #Set the image size\n",
    "nx.draw(G, node_color='red', with_labels = True)\n",
    "plt.show()"
   ]
  },
  {
   "cell_type": "markdown",
   "id": "51ba9366",
   "metadata": {},
   "source": [
    "You can also add nodes from another graph."
   ]
  },
  {
   "cell_type": "code",
   "execution_count": null,
   "id": "8a101ed8",
   "metadata": {},
   "outputs": [],
   "source": [
    "h = nx. path_graph(5) # In a path graph, all vertices and edges lie on a single straight line\n",
    "G.add_nodes_from(h) # Add all the nodes from graph ‘h’ to graph ‘g’.\n",
    "nx.draw(G,node_color='red',with_labels = True)\n",
    "plt.show()"
   ]
  },
  {
   "cell_type": "markdown",
   "id": "f5d80c06",
   "metadata": {},
   "source": [
    "You can also remove any node of the graph."
   ]
  },
  {
   "cell_type": "code",
   "execution_count": null,
   "id": "8be9df74",
   "metadata": {},
   "outputs": [],
   "source": [
    "G.remove_node (2)\n",
    "nx.draw(G,node_color='red',with_labels = True)\n",
    "plt.show()"
   ]
  },
  {
   "cell_type": "markdown",
   "id": "dccb516a",
   "metadata": {},
   "source": [
    "### 4.5 Adding Edges"
   ]
  },
  {
   "cell_type": "markdown",
   "id": "b164f751",
   "metadata": {},
   "source": [
    "`G` can be grown by adding one edge at a time:"
   ]
  },
  {
   "cell_type": "code",
   "execution_count": null,
   "id": "4d21c687",
   "metadata": {},
   "outputs": [],
   "source": [
    "G.add_edge(1, 2)\n",
    "G.add_edge(3, 4, weight=0.1)\n",
    "nx.draw(G,node_color='red',with_labels = True)\n",
    "plt.show()"
   ]
  },
  {
   "cell_type": "markdown",
   "id": "f5e91c02",
   "metadata": {},
   "source": [
    "Or by adding a list of edges:"
   ]
  },
  {
   "cell_type": "code",
   "execution_count": null,
   "id": "070d29ad",
   "metadata": {},
   "outputs": [],
   "source": [
    "G.add_edges_from([(1, 3), (2, 4)])\n",
    "nx.draw(G,node_color='red',with_labels = True)\n",
    "plt.show()"
   ]
  },
  {
   "cell_type": "markdown",
   "id": "375d6609",
   "metadata": {},
   "source": [
    "You can add edges with weights (let's do this in a different graph G1):"
   ]
  },
  {
   "cell_type": "code",
   "execution_count": null,
   "id": "da99aecf",
   "metadata": {},
   "outputs": [],
   "source": [
    "G1 = nx.Graph()\n",
    "G1.add_edge(0, 1, weight = 0.1)\n",
    "G1.add_edge(0, 2, weight = 1.5)\n",
    "G1.add_edge(0, 3, weight = 1.0)\n",
    "G1.add_edge(0, 4, weight = 2.2)\n",
    "weights = [G1[u][v]['weight'] for u,v in G1.edges()]\n",
    "nx.draw(G1, node_color='yellow', with_labels = True, width=weights)\n",
    "plt.show()"
   ]
  },
  {
   "cell_type": "markdown",
   "id": "4629b915",
   "metadata": {},
   "source": [
    "### 4.6 Accessing nodes and edges"
   ]
  },
  {
   "cell_type": "markdown",
   "id": "4c24da13",
   "metadata": {},
   "source": [
    "Show all the nodes."
   ]
  },
  {
   "cell_type": "code",
   "execution_count": null,
   "id": "1e188406",
   "metadata": {},
   "outputs": [],
   "source": [
    "print(\"Nodes of G:\", G.nodes())"
   ]
  },
  {
   "cell_type": "markdown",
   "id": "24d50a4c",
   "metadata": {},
   "source": [
    "Show all the edges"
   ]
  },
  {
   "cell_type": "code",
   "execution_count": null,
   "id": "232332b4",
   "metadata": {},
   "outputs": [],
   "source": [
    "print(\"Edges:\", G.edges())"
   ]
  },
  {
   "cell_type": "markdown",
   "id": "0d971e6c",
   "metadata": {},
   "source": [
    "Give the number of edges and nodes"
   ]
  },
  {
   "cell_type": "code",
   "execution_count": null,
   "id": "1e7f220d",
   "metadata": {},
   "outputs": [],
   "source": [
    "print(\"Number of nodes:\", G.number_of_nodes())\n",
    "print(\"Number of edges:\", G.number_of_edges())"
   ]
  },
  {
   "cell_type": "markdown",
   "id": "561dd6b4",
   "metadata": {},
   "source": [
    "Show the neighbors of one node and give the degree of one node"
   ]
  },
  {
   "cell_type": "code",
   "execution_count": null,
   "id": "711e24bc",
   "metadata": {},
   "outputs": [],
   "source": [
    "print(\"Neighbors of the node 1:\", list(G.neighbors(1)))\n",
    "print(\"Degree of the node 1:\", G.degree(1))"
   ]
  }
 ],
 "metadata": {
  "kernelspec": {
   "display_name": "Python 3 (ipykernel)",
   "language": "python",
   "name": "python3"
  },
  "language_info": {
   "codemirror_mode": {
    "name": "ipython",
    "version": 3
   },
   "file_extension": ".py",
   "mimetype": "text/x-python",
   "name": "python",
   "nbconvert_exporter": "python",
   "pygments_lexer": "ipython3",
   "version": "3.9.13"
  }
 },
 "nbformat": 4,
 "nbformat_minor": 5
}
