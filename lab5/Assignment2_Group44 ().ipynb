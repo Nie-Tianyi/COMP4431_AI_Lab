{
 "cells": [
  {
   "cell_type": "markdown",
   "id": "e677d3dc47165e6d",
   "metadata": {},
   "source": [
    "# Assignment 2 for Group44"
   ]
  },
  {
   "cell_type": "code",
   "execution_count": 1,
   "id": "63077a7f5f05cc8e",
   "metadata": {
    "ExecuteTime": {
     "end_time": "2023-10-18T14:03:38.668053600Z",
     "start_time": "2023-10-18T14:03:38.661564200Z"
    }
   },
   "outputs": [],
   "source": [
    "from typing import List, Tuple\n",
    "import heapq\n",
    "from collections import deque\n",
    "\n",
    "def heuristic(a: Tuple[int, int], b: Tuple[int, int]) -> int:\n",
    "    return abs(a[0] - b[0]) + abs(a[1] - b[1])\n",
    "\n",
    "def get_directions() -> List[Tuple[int, int]]:\n",
    "    return [(0, 1), (0, -1), (1, 0), (-1, 0)]\n",
    "\n",
    "def neighbors(grid: List[List[str]], node: Tuple[int, int]) -> List[Tuple[int, int]]:\n",
    "    directions = get_directions()\n",
    "    neighbors = []\n",
    "    for dx, dy in directions:\n",
    "        nx, ny = node[0] + dx, node[1] + dy\n",
    "        if 0 <= nx < len(grid) and 0 <= ny < len(grid[0]) and grid[nx][ny] != \"@\" and grid[nx][ny] != \"$\":\n",
    "            neighbors.append((nx, ny))\n",
    "    return neighbors\n",
    "\n",
    "def bfs(grid: List[List[str]], start: Tuple[int, int], end: Tuple[int, int]) -> List[Tuple[int, int]]:\n",
    "    queue = deque([start])\n",
    "    visited = {start}\n",
    "    came_from = {start: None}\n",
    "    while queue:\n",
    "        node = queue.popleft()\n",
    "        if node == end:\n",
    "            path = []\n",
    "            while node is not None:\n",
    "                path.append(node)\n",
    "                node = came_from[node]\n",
    "            return path[::-1]\n",
    "        for neighbor in neighbors(grid, node):\n",
    "            if neighbor not in visited:\n",
    "                visited.add(neighbor)\n",
    "                queue.append(neighbor)\n",
    "                came_from[neighbor] = node\n",
    "    return []\n",
    "\n",
    "def solve(grid: List[List[str]]) -> int:\n",
    "    starts = []\n",
    "    items = []\n",
    "    targets = []\n",
    "    for i in range(len(grid)):\n",
    "        for j in range(len(grid[0])):\n",
    "            if grid[i][j] == \"R\":\n",
    "                start = (i, j)\n",
    "                starts.append(start)\n",
    "            elif grid[i][j] == \"$\":\n",
    "                item = (i, j)\n",
    "                items.append(item)\n",
    "            elif grid[i][j] == \"T\":\n",
    "                target = (i, j)\n",
    "                targets.append(target)\n",
    "    \n",
    "    # Invalid grid\n",
    "    if len(starts)!=1 or len(targets)==0 or len(items)!=1:\n",
    "        return -2\n",
    "    \n",
    "    start = starts[0]\n",
    "    item = items[0]\n",
    "\n",
    "    # Find all possible positions from where the robot can push the item towards the target\n",
    "    possible_positions = []\n",
    "    for dx, dy in get_directions():\n",
    "        nx, ny = item[0] + dx, item[1] + dy\n",
    "        opposite = item[0] - dx, item[1] - dy\n",
    "        if 0 <= nx < len(grid) and 0 <= ny < len(grid[0]) and 0 <= opposite[0] < len(grid) and 0 <= opposite[1] < len(grid[0]) and grid[opposite[0]][opposite[1]] != \"@\":\n",
    "            bfs_path = bfs(grid, start, (nx, ny))\n",
    "            if bfs_path:\n",
    "                possible_positions.append((opposite, bfs_path))\n",
    "\n",
    "    # A* search from item to target\n",
    "    min_distance_lists = []\n",
    "    for target in targets:\n",
    "        min_distance = float('inf')\n",
    "        path_to_target = None\n",
    "        print(f\"Target {target}:\")\n",
    "        \n",
    "        for start, bfs_path in possible_positions:\n",
    "            print(\"Path from robot to item: \", bfs_path)\n",
    "            queue = [(heuristic(start, target), 0, start, None)]\n",
    "            visited = {start: 0}\n",
    "            came_from = {start: None}\n",
    "            while queue:\n",
    "                _, g, node, _ = heapq.heappop(queue)\n",
    "                if node == target:\n",
    "                    if g < min_distance:\n",
    "                        min_distance = g\n",
    "                        path_to_target = []\n",
    "                        while node is not None:\n",
    "                            path_to_target.append(node)\n",
    "                            node = came_from[node]\n",
    "                    break\n",
    "                for neighbor in neighbors(grid, node):\n",
    "                    new_cost = g + 1\n",
    "                    if neighbor not in visited or new_cost < visited[neighbor]:\n",
    "                        visited[neighbor] = new_cost\n",
    "                        f = new_cost + heuristic(neighbor, target)\n",
    "                        heapq.heappush(queue, (f, new_cost, neighbor, node))\n",
    "                        came_from[neighbor] = node\n",
    "\n",
    "        if path_to_target is None:\n",
    "            min_distance_lists.append(-1)\n",
    "            print(\"Path from item to target: None\")\n",
    "            print(f\"Minimum: -1\")\n",
    "        else:\n",
    "            min_distance_lists.append(len(path_to_target[::-1]))\n",
    "            print(\"Path from item to target: \", path_to_target[::-1])\n",
    "            print(f\"Minimum: {len(path_to_target[::-1])}\")\n",
    "\n",
    "    print(f\"Overall minimum: {min(min_distance_lists)}\")\n",
    "    return min(min_distance_lists)\n"
   ]
  },
  {
   "cell_type": "code",
   "execution_count": 2,
   "id": "a256f113c791711",
   "metadata": {
    "ExecuteTime": {
     "end_time": "2023-10-18T14:03:40.886276900Z",
     "start_time": "2023-10-18T14:03:40.854538700Z"
    }
   },
   "outputs": [
    {
     "name": "stdout",
     "output_type": "stream",
     "text": [
      "Target (1, 4):\n",
      "Path from robot to item:  [(4, 1), (4, 2), (4, 3), (4, 4), (3, 4), (2, 4), (2, 3)]\n",
      "Path from robot to item:  [(4, 1), (3, 1), (2, 1)]\n",
      "Path from item to target:  [(2, 3), (2, 4), (1, 4)]\n",
      "Minimum: 3\n",
      "Target (5, 1):\n",
      "Path from robot to item:  [(4, 1), (4, 2), (4, 3), (4, 4), (3, 4), (2, 4), (2, 3)]\n",
      "Path from robot to item:  [(4, 1), (3, 1), (2, 1)]\n",
      "Path from item to target:  [(2, 1), (3, 1), (4, 1), (5, 1)]\n",
      "Minimum: 4\n",
      "Overall minimum: 3\n",
      "Passed test case 1...\n"
     ]
    }
   ],
   "source": [
    "# test case 1\n",
    "grid1 = [[\"@\", \"@\", \"@\", \"@\", \"@\", \"@\"],\n",
    "         [\"@\", \"@\", \"@\", \"@\", \"T\", \"@\"],\n",
    "         [\"@\", \"#\", \"$\", \"#\", \"#\", \"@\"],\n",
    "         [\"@\", \"#\", \"@\", \"@\", \"#\", \"@\"],\n",
    "         [\"@\", \"R\", \"#\", \"#\", \"#\", \"@\"],\n",
    "         [\"@\", \"T\", \"@\", \"@\", \"@\", \"@\"]]\n",
    "answer1 = 3\n",
    "result1 = solve(grid1)\n",
    "assert result1 == answer1, f\"Test case 1: expected {answer1}, got {result1}\"\n",
    "print('Passed test case 1...')"
   ]
  },
  {
   "cell_type": "code",
   "execution_count": 3,
   "id": "b8b5c9ed07be57a3",
   "metadata": {
    "ExecuteTime": {
     "end_time": "2023-10-18T14:03:42.297578100Z",
     "start_time": "2023-10-18T14:03:42.284792Z"
    }
   },
   "outputs": [
    {
     "name": "stdout",
     "output_type": "stream",
     "text": [
      "Target (0, 1):\n",
      "Path from item to target: None\n",
      "Minimum: -1\n",
      "Target (4, 4):\n",
      "Path from item to target: None\n",
      "Minimum: -1\n",
      "Overall minimum: -1\n",
      "Passed test case 2...\n"
     ]
    }
   ],
   "source": [
    "# test case 2\n",
    "grid2 = [[\"@\", \"T\", \"@\", \"@\", \"@\", \"@\"],\n",
    "         [\"@\", \"#\", \"@\", \"@\", \"@\", \"@\"],\n",
    "         [\"@\", \"#\", \"#\", \"#\", \"$\", \"@\"],\n",
    "         [\"@\", \"#\", \"@\", \"@\", \"@\", \"@\"],\n",
    "         [\"@\", \"R\", \"#\", \"#\", \"T\", \"@\"],\n",
    "         [\"@\", \"@\", \"@\", \"@\", \"@\", \"@\"]]\n",
    "answer2 = -1\n",
    "result2 = solve(grid2)\n",
    "assert result2 == answer2, f\"Test case 2: expected {answer2}, got {result2}\"\n",
    "print('Passed test case 2...')"
   ]
  },
  {
   "cell_type": "code",
   "execution_count": 4,
   "id": "31ebe6a2",
   "metadata": {
    "ExecuteTime": {
     "end_time": "2023-10-18T14:03:43.668950300Z",
     "start_time": "2023-10-18T14:03:43.654490100Z"
    }
   },
   "outputs": [
    {
     "name": "stdout",
     "output_type": "stream",
     "text": [
      "Target (0, 1):\n",
      "Path from item to target: None\n",
      "Minimum: -1\n",
      "Target (4, 4):\n",
      "Path from item to target: None\n",
      "Minimum: -1\n",
      "Overall minimum: -1\n",
      "Passed test case 3...\n"
     ]
    }
   ],
   "source": [
    "# test case 3: blocked by edges\n",
    "grid3 = [[\"@\", \"T\", \"@\", \"@\", \"@\", \"@\"],\n",
    "         [\"@\", \"#\", \"@\", \"@\", \"@\", \"#\"],\n",
    "         [\"@\", \"#\", \"#\", \"#\", \"#\", \"$\"],\n",
    "         [\"@\", \"#\", \"@\", \"@\", \"@\", \"#\"],\n",
    "         [\"@\", \"R\", \"#\", \"#\", \"T\", \"@\"],\n",
    "         [\"@\", \"@\", \"@\", \"@\", \"@\", \"@\"]]\n",
    "answer2 = -1\n",
    "result2 = solve(grid3)\n",
    "assert result2 == answer2, f\"Test case 3: expected {answer2}, got {result2}\"\n",
    "print('Passed test case 3...')"
   ]
  },
  {
   "cell_type": "code",
   "execution_count": 5,
   "id": "04875d8a",
   "metadata": {
    "ExecuteTime": {
     "end_time": "2023-10-18T14:03:44.974643600Z",
     "start_time": "2023-10-18T14:03:44.962029200Z"
    }
   },
   "outputs": [
    {
     "name": "stdout",
     "output_type": "stream",
     "text": [
      "Target (0, 1):\n",
      "Path from item to target: None\n",
      "Minimum: -1\n",
      "Target (4, 4):\n",
      "Path from item to target: None\n",
      "Minimum: -1\n",
      "Overall minimum: -1\n",
      "Passed test case 4...\n"
     ]
    }
   ],
   "source": [
    "# test case 4: blocked by edges\n",
    "grid3 = [[\"$\", \"T\", \"@\", \"@\", \"@\", \"@\"],\n",
    "         [\"#\", \"#\", \"@\", \"@\", \"@\", \"#\"],\n",
    "         [\"@\", \"#\", \"#\", \"#\", \"#\", \"#\"],\n",
    "         [\"@\", \"#\", \"@\", \"@\", \"@\", \"#\"],\n",
    "         [\"@\", \"R\", \"#\", \"#\", \"T\", \"@\"],\n",
    "         [\"@\", \"@\", \"@\", \"@\", \"@\", \"@\"]]\n",
    "answer2 = -1\n",
    "result2 = solve(grid3)\n",
    "assert result2 == answer2, f\"Test case 4: expected {answer2}, got {result2}\"\n",
    "print('Passed test case 4...')"
   ]
  },
  {
   "cell_type": "code",
   "execution_count": 6,
   "id": "d0721caf",
   "metadata": {
    "ExecuteTime": {
     "end_time": "2023-10-18T14:03:46.209349600Z",
     "start_time": "2023-10-18T14:03:46.195838100Z"
    }
   },
   "outputs": [
    {
     "name": "stdout",
     "output_type": "stream",
     "text": [
      "Target (0, 1):\n",
      "Path from item to target: None\n",
      "Minimum: -1\n",
      "Target (4, 4):\n",
      "Path from item to target: None\n",
      "Minimum: -1\n",
      "Overall minimum: -1\n",
      "Passed test case 5...\n"
     ]
    }
   ],
   "source": [
    "# test case 5: robot blocked by obstacles\n",
    "grid3 = [[\"#\", \"T\", \"@\", \"@\", \"@\", \"@\"],\n",
    "         [\"#\", \"$\", \"@\", \"@\", \"@\", \"#\"],\n",
    "         [\"@\", \"#\", \"#\", \"#\", \"#\", \"#\"],\n",
    "         [\"@\", \"@\", \"@\", \"@\", \"@\", \"#\"],\n",
    "         [\"@\", \"R\", \"#\", \"#\", \"T\", \"@\"],\n",
    "         [\"@\", \"@\", \"@\", \"@\", \"@\", \"@\"]]\n",
    "answer2 = -1\n",
    "result2 = solve(grid3)\n",
    "assert result2 == answer2, f\"Test case 5: expected {answer2}, got {result2}\"\n",
    "print('Passed test case 5...')"
   ]
  },
  {
   "cell_type": "code",
   "execution_count": 7,
   "id": "3b79d134",
   "metadata": {
    "ExecuteTime": {
     "end_time": "2023-10-18T14:03:47.457700600Z",
     "start_time": "2023-10-18T14:03:47.443565100Z"
    }
   },
   "outputs": [
    {
     "name": "stdout",
     "output_type": "stream",
     "text": [
      "Target (0, 1):\n",
      "Path from item to target: None\n",
      "Minimum: -1\n",
      "Target (4, 4):\n",
      "Path from item to target: None\n",
      "Minimum: -1\n",
      "Overall minimum: -1\n",
      "Passed test case 6...\n"
     ]
    }
   ],
   "source": [
    "# test case 6: robot blocked by obstacles\n",
    "grid3 = [[\"#\", \"T\", \"@\", \"@\", \"@\", \"@\"],\n",
    "         [\"#\", \"$\", \"@\", \"@\", \"@\", \"#\"],\n",
    "         [\"@\", \"#\", \"#\", \"#\", \"#\", \"#\"],\n",
    "         [\"@\", \"@\", \"@\", \"@\", \"@\", \"#\"],\n",
    "         [\"@\", \"R\", \"#\", \"#\", \"T\", \"@\"],\n",
    "         [\"@\", \"#\", \"@\", \"@\", \"@\", \"@\"]]\n",
    "answer2 = -1\n",
    "result2 = solve(grid3)\n",
    "assert result2 == answer2, f\"Test case 6: expected {answer2}, got {result2}\"\n",
    "print('Passed test case 6...')"
   ]
  },
  {
   "cell_type": "code",
   "execution_count": 8,
   "id": "91a78bef",
   "metadata": {
    "ExecuteTime": {
     "end_time": "2023-10-18T14:03:48.641289900Z",
     "start_time": "2023-10-18T14:03:48.627134Z"
    }
   },
   "outputs": [
    {
     "name": "stdout",
     "output_type": "stream",
     "text": [
      "Target (0, 1):\n",
      "Path from item to target: None\n",
      "Minimum: -1\n",
      "Target (4, 4):\n",
      "Path from item to target: None\n",
      "Minimum: -1\n",
      "Overall minimum: -1\n",
      "Passed test case 6...\n"
     ]
    }
   ],
   "source": [
    "# test case 6: path blocked by obstacles\n",
    "grid3 = [[\"#\", \"T\", \"@\", \"@\", \"@\", \"@\"],\n",
    "         [\"#\", \"#\", \"@\", \"@\", \"@\", \"#\"],\n",
    "         [\"@\", \"#\", \"@\", \"#\", \"$\", \"#\"],\n",
    "         [\"@\", \"#\", \"@\", \"@\", \"@\", \"#\"],\n",
    "         [\"@\", \"R\", \"#\", \"#\", \"T\", \"@\"],\n",
    "         [\"@\", \"#\", \"@\", \"@\", \"@\", \"@\"]]\n",
    "answer2 = -1\n",
    "result2 = solve(grid3)\n",
    "assert result2 == answer2, f\"Test case 6: expected {answer2}, got {result2}\"\n",
    "print('Passed test case 6...')"
   ]
  },
  {
   "cell_type": "code",
   "execution_count": 9,
   "id": "1a88787b",
   "metadata": {
    "ExecuteTime": {
     "end_time": "2023-10-18T14:03:49.782098100Z",
     "start_time": "2023-10-18T14:03:49.767605400Z"
    }
   },
   "outputs": [
    {
     "name": "stdout",
     "output_type": "stream",
     "text": [
      "Target (0, 1):\n",
      "Path from robot to item:  [(4, 1), (3, 1), (2, 1), (2, 2), (2, 3)]\n",
      "Path from item to target: None\n",
      "Minimum: -1\n",
      "Target (4, 4):\n",
      "Path from robot to item:  [(4, 1), (3, 1), (2, 1), (2, 2), (2, 3)]\n",
      "Path from item to target: None\n",
      "Minimum: -1\n",
      "Overall minimum: -1\n",
      "Passed test case 7...\n"
     ]
    }
   ],
   "source": [
    "# test case 7: path blocked by obstacles\n",
    "grid3 = [[\"#\", \"T\", \"@\", \"@\", \"@\", \"@\"],\n",
    "         [\"#\", \"#\", \"@\", \"@\", \"@\", \"#\"],\n",
    "         [\"@\", \"#\", \"#\", \"#\", \"$\", \"#\"],\n",
    "         [\"@\", \"#\", \"@\", \"@\", \"@\", \"#\"],\n",
    "         [\"@\", \"R\", \"#\", \"#\", \"T\", \"@\"],\n",
    "         [\"@\", \"#\", \"@\", \"@\", \"@\", \"@\"]]\n",
    "answer2 = -1\n",
    "result2 = solve(grid3)\n",
    "assert result2 == answer2, f\"Test case 7: expected {answer2}, got {result2}\"\n",
    "print('Passed test case 7...')"
   ]
  },
  {
   "cell_type": "code",
   "execution_count": 10,
   "id": "c921399c",
   "metadata": {
    "ExecuteTime": {
     "end_time": "2023-10-18T14:03:51.103679100Z",
     "start_time": "2023-10-18T14:03:51.070655900Z"
    }
   },
   "outputs": [
    {
     "name": "stdout",
     "output_type": "stream",
     "text": [
      "Target (0, 1):\n",
      "Path from robot to item:  [(4, 1), (4, 2), (4, 3), (4, 4), (4, 5), (3, 5), (2, 5)]\n",
      "Path from robot to item:  [(4, 1), (3, 1), (2, 1), (2, 2), (2, 3)]\n",
      "Path from item to target:  [(2, 3), (2, 2), (2, 1), (1, 1), (0, 1)]\n",
      "Minimum: 5\n",
      "Target (4, 4):\n",
      "Path from robot to item:  [(4, 1), (4, 2), (4, 3), (4, 4), (4, 5), (3, 5), (2, 5)]\n",
      "Path from robot to item:  [(4, 1), (3, 1), (2, 1), (2, 2), (2, 3)]\n",
      "Path from item to target:  [(2, 5), (3, 5), (4, 5), (4, 4)]\n",
      "Minimum: 4\n",
      "Overall minimum: 4\n",
      "Passed test case 8...\n"
     ]
    }
   ],
   "source": [
    "# test case 8: random feasible case\n",
    "grid3 = [[\"#\", \"T\", \"@\", \"@\", \"@\", \"@\"],\n",
    "         [\"#\", \"#\", \"@\", \"@\", \"@\", \"#\"],\n",
    "         [\"@\", \"#\", \"#\", \"#\", \"$\", \"#\"],\n",
    "         [\"@\", \"#\", \"@\", \"@\", \"@\", \"#\"],\n",
    "         [\"@\", \"R\", \"#\", \"#\", \"T\", \"#\"],\n",
    "         [\"@\", \"#\", \"@\", \"@\", \"@\", \"@\"]]\n",
    "answer2 = 4\n",
    "result2 = solve(grid3)\n",
    "assert result2 == answer2, f\"Test case 8: expected {answer2}, got {result2}\"\n",
    "print('Passed test case 8...')"
   ]
  },
  {
   "cell_type": "code",
   "execution_count": 11,
   "id": "f464ecf4",
   "metadata": {
    "ExecuteTime": {
     "end_time": "2023-10-18T14:03:52.533655900Z",
     "start_time": "2023-10-18T14:03:52.519631900Z"
    }
   },
   "outputs": [
    {
     "name": "stdout",
     "output_type": "stream",
     "text": [
      "Target (0, 1):\n",
      "Path from robot to item:  [(4, 1), (4, 2), (4, 3), (4, 4), (4, 5), (3, 5), (2, 5)]\n",
      "Path from robot to item:  [(4, 1), (3, 1), (2, 1), (2, 2), (2, 3)]\n",
      "Path from item to target: None\n",
      "Minimum: -1\n",
      "Target (4, 4):\n",
      "Path from robot to item:  [(4, 1), (4, 2), (4, 3), (4, 4), (4, 5), (3, 5), (2, 5)]\n",
      "Path from robot to item:  [(4, 1), (3, 1), (2, 1), (2, 2), (2, 3)]\n",
      "Path from item to target:  [(2, 5), (3, 5), (4, 5), (4, 4)]\n",
      "Minimum: 4\n",
      "Overall minimum: -1\n",
      "Passed test case 9...\n"
     ]
    }
   ],
   "source": [
    "# test case 9: T blocked by obstacles\n",
    "grid3 = [[\"#\", \"T\", \"@\", \"@\", \"@\", \"@\"],\n",
    "         [\"#\", \"@\", \"@\", \"@\", \"@\", \"#\"],\n",
    "         [\"@\", \"#\", \"#\", \"#\", \"$\", \"#\"],\n",
    "         [\"@\", \"#\", \"@\", \"@\", \"@\", \"#\"],\n",
    "         [\"@\", \"R\", \"#\", \"#\", \"T\", \"#\"],\n",
    "         [\"@\", \"#\", \"@\", \"@\", \"@\", \"@\"]]\n",
    "answer2 = -1\n",
    "result2 = solve(grid3)\n",
    "assert result2 == answer2, f\"Test case 9: expected {answer2}, got {result2}\"\n",
    "print('Passed test case 9...')"
   ]
  },
  {
   "cell_type": "code",
   "execution_count": 12,
   "id": "9316f0c0",
   "metadata": {
    "ExecuteTime": {
     "end_time": "2023-10-18T14:03:54.629416800Z",
     "start_time": "2023-10-18T14:03:54.612513300Z"
    }
   },
   "outputs": [
    {
     "name": "stdout",
     "output_type": "stream",
     "text": [
      "Target (0, 1):\n",
      "Path from robot to item:  [(4, 1), (4, 2), (4, 3), (4, 4), (4, 5), (3, 5), (2, 5)]\n",
      "Path from robot to item:  [(4, 1), (3, 1), (2, 1), (2, 2), (2, 3)]\n",
      "Path from item to target:  [(2, 3), (2, 2), (1, 2), (0, 2), (0, 1)]\n",
      "Minimum: 5\n",
      "Overall minimum: 5\n",
      "Passed test case 10...\n"
     ]
    }
   ],
   "source": [
    "# test case 10: random feasible case\n",
    "grid3 = [[\"#\", \"T\", \"#\", \"@\", \"@\", \"@\"],\n",
    "         [\"#\", \"@\", \"#\", \"@\", \"@\", \"#\"],\n",
    "         [\"@\", \"#\", \"#\", \"#\", \"$\", \"#\"],\n",
    "         [\"@\", \"#\", \"@\", \"@\", \"@\", \"#\"],\n",
    "         [\"@\", \"R\", \"#\", \"#\", \"#\", \"#\"],\n",
    "         [\"@\", \"#\", \"@\", \"@\", \"@\", \"@\"]]\n",
    "answer2 = 5\n",
    "result2 = solve(grid3)\n",
    "assert result2 == answer2, f\"Test case 10: expected {answer2}, got {result2}\"\n",
    "print('Passed test case 10...')"
   ]
  },
  {
   "cell_type": "code",
   "execution_count": 13,
   "id": "887c4ec4",
   "metadata": {
    "ExecuteTime": {
     "end_time": "2023-10-18T14:03:55.756230600Z",
     "start_time": "2023-10-18T14:03:55.741682800Z"
    }
   },
   "outputs": [
    {
     "name": "stdout",
     "output_type": "stream",
     "text": [
      "Target (0, 1):\n",
      "Path from robot to item:  [(4, 1), (4, 2), (4, 3), (4, 4), (4, 5), (3, 5), (2, 5)]\n",
      "Path from robot to item:  [(4, 1), (3, 1), (2, 1), (2, 2), (2, 3)]\n",
      "Path from item to target:  [(2, 3), (2, 2), (1, 2), (0, 2), (0, 1)]\n",
      "Minimum: 5\n",
      "Target (0, 2):\n",
      "Path from robot to item:  [(4, 1), (4, 2), (4, 3), (4, 4), (4, 5), (3, 5), (2, 5)]\n",
      "Path from robot to item:  [(4, 1), (3, 1), (2, 1), (2, 2), (2, 3)]\n",
      "Path from item to target:  [(2, 3), (2, 2), (1, 2), (0, 2)]\n",
      "Minimum: 4\n",
      "Target (1, 5):\n",
      "Path from robot to item:  [(4, 1), (4, 2), (4, 3), (4, 4), (4, 5), (3, 5), (2, 5)]\n",
      "Path from robot to item:  [(4, 1), (3, 1), (2, 1), (2, 2), (2, 3)]\n",
      "Path from item to target:  [(2, 5), (1, 5)]\n",
      "Minimum: 2\n",
      "Target (4, 2):\n",
      "Path from robot to item:  [(4, 1), (4, 2), (4, 3), (4, 4), (4, 5), (3, 5), (2, 5)]\n",
      "Path from robot to item:  [(4, 1), (3, 1), (2, 1), (2, 2), (2, 3)]\n",
      "Path from item to target:  [(2, 3), (2, 2), (2, 1), (3, 1), (4, 1), (4, 2)]\n",
      "Minimum: 6\n",
      "Overall minimum: 2\n",
      "Passed test case 11...\n"
     ]
    }
   ],
   "source": [
    "# test case 11: random feasible case - 4 targets\n",
    "grid3 = [[\"#\", \"T\", \"T\", \"@\", \"@\", \"@\"],\n",
    "         [\"#\", \"@\", \"#\", \"@\", \"@\", \"T\"],\n",
    "         [\"@\", \"#\", \"#\", \"#\", \"$\", \"#\"],\n",
    "         [\"@\", \"#\", \"@\", \"@\", \"@\", \"#\"],\n",
    "         [\"@\", \"R\", \"T\", \"#\", \"#\", \"#\"],\n",
    "         [\"@\", \"#\", \"@\", \"@\", \"@\", \"@\"]]\n",
    "answer2 =2\n",
    "result2 = solve(grid3)\n",
    "assert result2 == answer2, f\"Test case 11: expected {answer2}, got {result2}\"\n",
    "print('Passed test case 11...')"
   ]
  },
  {
   "cell_type": "code",
   "execution_count": 14,
   "id": "e1e3da36",
   "metadata": {
    "ExecuteTime": {
     "end_time": "2023-10-18T14:03:57.556219100Z",
     "start_time": "2023-10-18T14:03:57.518699500Z"
    }
   },
   "outputs": [
    {
     "name": "stdout",
     "output_type": "stream",
     "text": [
      "Target (0, 1):\n",
      "Path from robot to item:  [(4, 1), (4, 2), (4, 3), (4, 4), (4, 5), (3, 5), (2, 5)]\n",
      "Path from robot to item:  [(4, 1), (3, 1), (2, 1), (2, 2), (2, 3)]\n",
      "Path from item to target:  [(2, 3), (2, 2), (1, 2), (0, 2), (0, 1)]\n",
      "Minimum: 5\n",
      "Target (0, 2):\n",
      "Path from robot to item:  [(4, 1), (4, 2), (4, 3), (4, 4), (4, 5), (3, 5), (2, 5)]\n",
      "Path from robot to item:  [(4, 1), (3, 1), (2, 1), (2, 2), (2, 3)]\n",
      "Path from item to target:  [(2, 3), (2, 2), (1, 2), (0, 2)]\n",
      "Minimum: 4\n",
      "Target (1, 5):\n",
      "Path from robot to item:  [(4, 1), (4, 2), (4, 3), (4, 4), (4, 5), (3, 5), (2, 5)]\n",
      "Path from robot to item:  [(4, 1), (3, 1), (2, 1), (2, 2), (2, 3)]\n",
      "Path from item to target:  [(2, 5), (1, 5)]\n",
      "Minimum: 2\n",
      "Target (4, 2):\n",
      "Path from robot to item:  [(4, 1), (4, 2), (4, 3), (4, 4), (4, 5), (3, 5), (2, 5)]\n",
      "Path from robot to item:  [(4, 1), (3, 1), (2, 1), (2, 2), (2, 3)]\n",
      "Path from item to target:  [(2, 3), (2, 2), (2, 1), (3, 1), (4, 1), (4, 2)]\n",
      "Minimum: 6\n",
      "Overall minimum: 2\n",
      "Passed test case 12...\n"
     ]
    }
   ],
   "source": [
    "# test case 12: random feasible case - m=5, n=6\n",
    "grid3 = [[\"#\", \"T\", \"T\", \"@\", \"@\", \"@\"],\n",
    "         [\"#\", \"@\", \"#\", \"@\", \"@\", \"T\"],\n",
    "         [\"@\", \"#\", \"#\", \"#\", \"$\", \"#\"],\n",
    "         [\"@\", \"#\", \"@\", \"@\", \"@\", \"#\"],\n",
    "         [\"@\", \"R\", \"T\", \"#\", \"#\", \"#\"]]\n",
    "answer2 =2\n",
    "result2 = solve(grid3)\n",
    "assert result2 == answer2, f\"Test case 12: expected {answer2}, got {result2}\"\n",
    "print('Passed test case 12...')"
   ]
  },
  {
   "cell_type": "code",
   "execution_count": 15,
   "id": "a206cb80",
   "metadata": {
    "ExecuteTime": {
     "end_time": "2023-10-18T14:03:59.522187900Z",
     "start_time": "2023-10-18T14:03:59.506493200Z"
    }
   },
   "outputs": [
    {
     "name": "stdout",
     "output_type": "stream",
     "text": [
      "Passed test case 12...\n"
     ]
    }
   ],
   "source": [
    "# test case 12: invalid grid\n",
    "grid3 = [[\"#\", \"T\", \"T\", \"@\", \"@\", \"@\"],\n",
    "         [\"#\", \"@\", \"#\", \"@\", \"@\", \"T\"],\n",
    "         [\"@\", \"#\", \"#\", \"#\", \"$\", \"#\"],\n",
    "         [\"@\", \"#\", \"@\", \"@\", \"@\", \"#\"],\n",
    "         [\"@\", \"#\", \"T\", \"#\", \"#\", \"#\"],\n",
    "         [\"@\", \"#\", \"@\", \"@\", \"@\", \"@\"]]\n",
    "answer2 =-2\n",
    "result2 = solve(grid3)\n",
    "assert result2 == answer2, f\"Test case 12: expected {answer2}, got {result2}\"\n",
    "print('Passed test case 12...')"
   ]
  },
  {
   "cell_type": "code",
   "execution_count": 16,
   "id": "c52a8f4b",
   "metadata": {
    "ExecuteTime": {
     "end_time": "2023-10-18T14:04:00.670481Z",
     "start_time": "2023-10-18T14:04:00.656738400Z"
    }
   },
   "outputs": [
    {
     "name": "stdout",
     "output_type": "stream",
     "text": [
      "Passed test case 12...\n"
     ]
    }
   ],
   "source": [
    "# test case 12: invalid grid\n",
    "grid3 = [[\"#\", \"T\", \"T\", \"@\", \"@\", \"@\"],\n",
    "         [\"#\", \"@\", \"#\", \"@\", \"@\", \"T\"],\n",
    "         [\"@\", \"R\", \"#\", \"#\", \"#\", \"#\"],\n",
    "         [\"@\", \"#\", \"@\", \"@\", \"@\", \"#\"],\n",
    "         [\"@\", \"#\", \"T\", \"#\", \"#\", \"#\"],\n",
    "         [\"@\", \"#\", \"@\", \"@\", \"@\", \"@\"]]\n",
    "answer2 =-2\n",
    "result2 = solve(grid3)\n",
    "assert result2 == answer2, f\"Test case 12: expected {answer2}, got {result2}\"\n",
    "print('Passed test case 12...')"
   ]
  },
  {
   "cell_type": "code",
   "execution_count": 17,
   "id": "a7cb246d",
   "metadata": {
    "ExecuteTime": {
     "end_time": "2023-10-18T14:04:02.252858600Z",
     "start_time": "2023-10-18T14:04:02.222113500Z"
    }
   },
   "outputs": [
    {
     "name": "stdout",
     "output_type": "stream",
     "text": [
      "Passed test case 12...\n"
     ]
    }
   ],
   "source": [
    "# test case 12: invalid grid\n",
    "grid3 = [[\"#\", \"#\", \"#\", \"@\", \"@\", \"@\"],\n",
    "         [\"#\", \"@\", \"#\", \"@\", \"@\", \"#\"],\n",
    "         [\"@\", \"#\", \"#\", \"#\", \"$\", \"#\"],\n",
    "         [\"@\", \"#\", \"@\", \"@\", \"@\", \"#\"],\n",
    "         [\"@\", \"#\", \"#\", \"#\", \"#\", \"#\"],\n",
    "         [\"@\", \"#\", \"@\", \"@\", \"@\", \"@\"]]\n",
    "answer2 =-2\n",
    "result2 = solve(grid3)\n",
    "assert result2 == answer2, f\"Test case 12: expected {answer2}, got {result2}\"\n",
    "print('Passed test case 12...')"
   ]
  },
  {
   "cell_type": "code",
   "execution_count": 18,
   "id": "3c6da593",
   "metadata": {
    "ExecuteTime": {
     "end_time": "2023-10-18T14:04:03.161590700Z",
     "start_time": "2023-10-18T14:04:03.149130300Z"
    }
   },
   "outputs": [
    {
     "name": "stdout",
     "output_type": "stream",
     "text": [
      "Passed test case 12...\n"
     ]
    }
   ],
   "source": [
    "# test case 12: invalid grid\n",
    "grid3 = [[\"#\", \"#\", \"#\", \"@\", \"@\", \"@\"],\n",
    "         [\"#\", \"@\", \"#\", \"@\", \"@\", \"#\"],\n",
    "         [\"@\", \"#\", \"$\", \"#\", \"$\", \"#\"],\n",
    "         [\"@\", \"#\", \"@\", \"@\", \"@\", \"#\"],\n",
    "         [\"@\", \"#\", \"#\", \"#\", \"#\", \"#\"],\n",
    "         [\"@\", \"#\", \"@\", \"@\", \"@\", \"@\"]]\n",
    "answer2 =-2\n",
    "result2 = solve(grid3)\n",
    "assert result2 == answer2, f\"Test case 12: expected {answer2}, got {result2}\"\n",
    "print('Passed test case 12...')"
   ]
  },
  {
   "cell_type": "code",
   "execution_count": 19,
   "id": "591ecf1b",
   "metadata": {
    "ExecuteTime": {
     "end_time": "2023-10-18T14:04:04.469451200Z",
     "start_time": "2023-10-18T14:04:04.455312800Z"
    }
   },
   "outputs": [
    {
     "name": "stdout",
     "output_type": "stream",
     "text": [
      "Passed test case 12...\n"
     ]
    }
   ],
   "source": [
    "# test case 12: invalid grid\n",
    "grid3 = [[\"#\", \"#\", \"#\", \"@\", \"@\", \"@\"],\n",
    "         [\"#\", \"@\", \"#\", \"@\", \"@\", \"#\"],\n",
    "         [\"@\", \"#\", \"$\", \"#\", \"$\", \"#\"],\n",
    "         [\"@\", \"#\", \"@\", \"@\", \"@\", \"#\"],\n",
    "         [\"@\", \"#\", \"#\", \"#\", \"#\", \"#\"],\n",
    "         [\"@\", \"#\", \"@\", \"@\", \"@\", \"@\"]]\n",
    "answer2 =-2\n",
    "result2 = solve(grid3)\n",
    "assert result2 == answer2, f\"Test case 12: expected {answer2}, got {result2}\"\n",
    "print('Passed test case 12...')"
   ]
  },
  {
   "cell_type": "code",
   "execution_count": 26,
   "outputs": [
    {
     "name": "stdout",
     "output_type": "stream",
     "text": [
      "Target (1, 5):\n",
      "Path from item to target: None\n",
      "Minimum: -1\n",
      "Overall minimum: -1\n",
      "Passed test case 12...\n"
     ]
    }
   ],
   "source": [
    "# test case 12: invalid grid\n",
    "grid3 = [[\"#\", \"#\", \"#\", \"@\", \"@\", \"@\"],\n",
    "         [\"#\", \"@\", \"#\", \"@\", \"@\", \"T\"],\n",
    "         [\"@\", \"#\", \"R\", \"@\", \"$\", \"#\"],\n",
    "         [\"@\", \"#\", \"@\", \"@\", \"@\", \"#\"],\n",
    "         [\"@\", \"#\", \"#\", \"@\", \"#\", \"#\"],\n",
    "         [\"@\", \"#\", \"@\", \"@\", \"@\", \"@\"]]\n",
    "answer2 =-1\n",
    "result2 = solve(grid3)\n",
    "assert result2 == answer2, f\"Test case 12: expected {answer2}, got {result2}\"\n",
    "print('Passed test case 12...')"
   ],
   "metadata": {
    "collapsed": false,
    "ExecuteTime": {
     "end_time": "2023-10-18T14:11:41.034879800Z",
     "start_time": "2023-10-18T14:11:41.023182400Z"
    }
   },
   "id": "ef4c39bd7bb9298"
  },
  {
   "cell_type": "code",
   "execution_count": 29,
   "outputs": [
    {
     "name": "stdout",
     "output_type": "stream",
     "text": [
      "Target (1, 5):\n",
      "Path from robot to item:  [(2, 2), (2, 1), (3, 1), (4, 1), (4, 2), (4, 3), (4, 4), (4, 5), (3, 5), (2, 5)]\n",
      "Path from robot to item:  [(2, 2), (2, 3)]\n",
      "Path from item to target:  [(2, 5), (1, 5)]\n",
      "Minimum: 2\n",
      "Overall minimum: 2\n",
      "Passed test case 12...\n"
     ]
    }
   ],
   "source": [
    "# test case 12: invalid grid\n",
    "grid3 = [[\"#\", \"#\", \"#\", \"@\", \"@\", \"@\"],\n",
    "         [\"#\", \"@\", \"#\", \"@\", \"@\", \"T\"],\n",
    "         [\"@\", \"#\", \"R\", \"#\", \"$\", \"#\"],\n",
    "         [\"@\", \"#\", \"@\", \"@\", \"@\", \"#\"],\n",
    "         [\"@\", \"#\", \"#\", \"#\", \"#\", \"#\"],\n",
    "         [\"@\", \"#\", \"@\", \"@\", \"@\", \"@\"]]\n",
    "answer2 = 2\n",
    "result2 = solve(grid3)\n",
    "assert result2 == answer2, f\"Test case 12: expected {answer2}, got {result2}\"\n",
    "print('Passed test case 12...')"
   ],
   "metadata": {
    "collapsed": false,
    "ExecuteTime": {
     "end_time": "2023-10-18T14:13:55.457310500Z",
     "start_time": "2023-10-18T14:13:55.444593700Z"
    }
   },
   "id": "b6bf4183c6c9848d"
  }
 ],
 "metadata": {
  "kernelspec": {
   "display_name": "Python 3 (ipykernel)",
   "language": "python",
   "name": "python3"
  },
  "language_info": {
   "codemirror_mode": {
    "name": "ipython",
    "version": 3
   },
   "file_extension": ".py",
   "mimetype": "text/x-python",
   "name": "python",
   "nbconvert_exporter": "python",
   "pygments_lexer": "ipython3",
   "version": "3.11.4"
  }
 },
 "nbformat": 4,
 "nbformat_minor": 5
}
