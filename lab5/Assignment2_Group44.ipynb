{
 "cells": [
  {
   "cell_type": "markdown",
   "source": [
    "# Assignment 2 for Group44"
   ],
   "metadata": {
    "collapsed": false
   },
   "id": "e677d3dc47165e6d"
  },
  {
   "cell_type": "code",
   "execution_count": 19,
   "outputs": [],
   "source": [
    "from typing import List\n",
    "import heapq\n",
    "\n",
    "\n",
    "def solve(grid: List[List[str]]) -> int:\n",
    "    \"\"\"Your solution to the problem goes in this function.\n",
    "    :param:\n",
    "        grid (List[List[str]]): The warehouse layout, e.g., [[\"@\", \"@\", \"@\"], [\"@\", \"R\", \"$\"], [\"@\", \"@\", \"T\"]]\n",
    "    :return:\n",
    "        int: the minimum number of pushes required for the robot to move the item to an empty shelf.\n",
    "        return -1 if no solution\n",
    "        return -2 if invalid input\n",
    "        return the minimum number of pushes required for the robot to move the item to an empty shelf\n",
    "    \"\"\"\n",
    "    # if the input is not 2d array of strings, return -2\n",
    "    if not isinstance(grid, list) or not all(isinstance(row, list) for row in grid) or not all(\n",
    "            isinstance(item, str) for row in grid for item in row):\n",
    "        print('Invalid input: not a 2d array of strings')\n",
    "        return -2\n",
    "    # if the input is not a valid grid, contain charactors other than @#$RT return -2\n",
    "    if not all(item in ['@', '#', '$', 'R', 'T'] for row in grid for item in row):\n",
    "        print('Invalid input: not a valid grid, contain charactors other than @#$RT')\n",
    "        return -2\n",
    "    # if the input is not a valid grid, contain more than one robot return -2\n",
    "    if sum(row.count('R') for row in grid) != 1:\n",
    "        print('Invalid input: not a valid grid, contain more than one robot')\n",
    "        return -2\n",
    "    # if there are more than on item, return -2\n",
    "    if sum(row.count('$') for row in grid) != 1:\n",
    "        print('Invalid input: not a valid grid, contain more than one item')\n",
    "        return -2\n",
    "    # if there are no target shelf, return -2\n",
    "    if sum(row.count('T') for row in grid) == 0:\n",
    "        print('Invalid input: not a valid grid, contain no target shelf')\n",
    "        return -2\n",
    "    \n",
    "    # Find the robot, item, and shelves\n",
    "    robot = item = shelves = None\n",
    "    for i in range(len(grid)):\n",
    "        for j in range(len(grid[0])):\n",
    "            if grid[i][j] == 'R':\n",
    "                robot = (i, j)\n",
    "            elif grid[i][j] == '$':\n",
    "                item = (i, j)\n",
    "            elif grid[i][j] == 'T':\n",
    "                if shelves is None:\n",
    "                    shelves = []\n",
    "                shelves.append((i, j))\n",
    "\n",
    "    # if the x and y of the item is both blocked, return -1\n",
    "    if block_x(grid, item[0], item[1]) and block_y(grid, item[0], item[1]):\n",
    "        print('Invalid input: the item is blocked')\n",
    "        return -1\n",
    "\n",
    "    # if the item is surrounded by blocks, return -1\n",
    "    if surrounded_by_blocks(grid, item[0], item[1]):\n",
    "        print('Invalid input: the item is surrounded by blocks')\n",
    "        return -1\n",
    "\n",
    "    # if all the shelves are blocked, return -1\n",
    "    if all(surrounded_by_blocks(grid, shelf[0], shelf[1]) for shelf in shelves):\n",
    "        print('Invalid input: all the shelves are blocked')\n",
    "        return -1\n",
    "\n",
    "    # if the distance between the item and the target shelf is 1, return 1\n",
    "    if any(heuristic(item, shelf) == 1 for shelf in shelves):\n",
    "        return 1\n",
    "\n",
    "    return find_min_pushes(grid, robot, item, shelves)\n",
    "\n",
    "\n",
    "def surrounded_by_blocks(grid, x, y) -> bool:\n",
    "    \"\"\"\n",
    "    Check if the item is surrounded by blocks and edge of the grid\n",
    "    :param grid: 2d strings\n",
    "    :param x: x coordinate of the item\n",
    "    :param y: y coordinate of the item\n",
    "    :return: Boolean\n",
    "    \"\"\"\n",
    "    if ((grid[x - 1][y] == '@' or x - 1 < 0) and (grid[x + 1][y] == '@' or x + 1 >= len(grid))\n",
    "            and (grid[x][y - 1] == '@' or y - 1 < 0) and (grid[x][y + 1] == '@' or y + 1 >= len(grid[0]))):\n",
    "        return True\n",
    "    return False\n",
    "\n",
    "\n",
    "def block_x(grid, x, y) -> bool:\n",
    "    \"\"\"\n",
    "    Check if the item is blocked in x direction( either by blocks or edge of the grid)\n",
    "    :param grid: 2d array strings\n",
    "    :param x: x coordinate of the item\n",
    "    :param y: y coordinate of the item\n",
    "    :return: Boolean\n",
    "    \"\"\"\n",
    "    if grid[x - 1][y] == '@' or grid[x + 1][y] == '@' or x + 1 >= len(grid) or x - 1 < 0:\n",
    "        return True\n",
    "    return False\n",
    "\n",
    "\n",
    "def block_y(grid, x, y) -> bool:\n",
    "    \"\"\"\n",
    "    Check if the item is blocked in y direction( either by blocks or edge of the grid)\n",
    "    :param grid: 2d array strings\n",
    "    :param x: x coordinate of the item\n",
    "    :param y: y coordinate of the item\n",
    "    :return: Boolean\n",
    "    \"\"\"\n",
    "    if grid[x][y - 1] == '@' or grid[x][y + 1] == '@' or y + 1 >= len(grid[0]) or y - 1 < 0:\n",
    "        return True\n",
    "    return False\n",
    "\n",
    "\n",
    "def find_min_pushes(grid, _robot, item, shelves) -> int:\n",
    "    \"\"\"\n",
    "    Find the minimum pushes required for the robot to move the item to an empty shelf\n",
    "    :param grid: 2d list of strings\n",
    "    :param _robot: (x,y) coordinate of the robot\n",
    "    :param item: (x,y) coordinate of the item\n",
    "    :param shelves: a list of (x,y) coordinates of all shelves\n",
    "    :return: int, minimal steps required\n",
    "    \"\"\"\n",
    "    min_pushes = float('inf')\n",
    "    for shelf in shelves:\n",
    "        _, cost_item_to_shelf = astar(grid, item, shelf)\n",
    "        pushes = cost_item_to_shelf.get(shelf, float('inf'))\n",
    "        min_pushes = min(min_pushes, pushes)\n",
    "\n",
    "    return min_pushes if min_pushes != float('inf') else -1\n",
    "\n",
    "\n",
    "def heuristic(a, b) -> int:\n",
    "    \"\"\"\n",
    "    Manhattan distance\n",
    "    :param a: (x,y) coordinate of the item\n",
    "    :param b: (x,y) coordinate of the target\n",
    "    :return: int, Manhattan distance\n",
    "    \"\"\"\n",
    "    return abs(b[0] - a[0]) + abs(b[1] - a[1])\n",
    "\n",
    "\n",
    "def astar(grid, start, goal) -> (dict, dict):\n",
    "    \"\"\"\n",
    "    A* algorithm\n",
    "    :param grid: 2d list of strings \n",
    "    :param start: start point\n",
    "    :param goal: target point\n",
    "    :return: came_from: dict, cost_so_far: dict\n",
    "    \"\"\"\n",
    "    frontier = []\n",
    "    heapq.heappush(frontier, (0, start))\n",
    "    came_from = {start: None}\n",
    "    cost_so_far = {start: 0}\n",
    "\n",
    "    while frontier:\n",
    "        _, current = heapq.heappop(frontier)\n",
    "\n",
    "        if current == goal:\n",
    "            break\n",
    "\n",
    "        for dx, dy in [(-1, 0), (1, 0), (0, -1), (0, 1)]:\n",
    "            next = (current[0] + dx, current[1] + dy)\n",
    "            if 0 <= next[0] < len(grid) and 0 <= next[1] < len(grid[0]) and grid[next[0]][next[1]] != '@':\n",
    "                new_cost = cost_so_far[current] + 1\n",
    "                if next not in cost_so_far or new_cost < cost_so_far[next]:\n",
    "                    cost_so_far[next] = new_cost\n",
    "                    priority = new_cost + heuristic(goal, next)\n",
    "                    heapq.heappush(frontier, (priority, next))\n",
    "                    came_from[next] = current\n",
    "\n",
    "    return came_from, cost_so_far\n"
   ],
   "metadata": {
    "collapsed": false,
    "ExecuteTime": {
     "end_time": "2023-10-18T11:59:47.639729800Z",
     "start_time": "2023-10-18T11:59:47.634220100Z"
    }
   },
   "id": "63077a7f5f05cc8e"
  },
  {
   "cell_type": "code",
   "execution_count": 12,
   "outputs": [
    {
     "name": "stdout",
     "output_type": "stream",
     "text": [
      "1\n",
      "Passed test case 1...\n"
     ]
    }
   ],
   "source": [
    "# test case 1\n",
    "grid1 = [[\"@\", \"@\", \"@\", \"@\", \"@\", \"@\"],\n",
    "         [\"@\", \"@\", \"@\", \"@\", \"T\", \"@\"],\n",
    "         [\"@\", \"#\", \"$\", \"#\", \"#\", \"@\"],\n",
    "         [\"@\", \"#\", \"@\", \"@\", \"#\", \"@\"],\n",
    "         [\"@\", \"R\", \"#\", \"#\", \"#\", \"@\"],\n",
    "         [\"@\", \"T\", \"@\", \"@\", \"@\", \"@\"]]\n",
    "answer1 = 3\n",
    "result1 = solve(grid1)\n",
    "assert result1 == answer1, f\"Test case 1: expected {answer1}, got {result1}\"\n",
    "print('Passed test case 1...')"
   ],
   "metadata": {
    "collapsed": false,
    "ExecuteTime": {
     "end_time": "2023-10-18T11:57:42.178666900Z",
     "start_time": "2023-10-18T11:57:42.165349100Z"
    }
   },
   "id": "a256f113c791711"
  },
  {
   "cell_type": "code",
   "execution_count": 13,
   "outputs": [
    {
     "name": "stdout",
     "output_type": "stream",
     "text": [
      "1\n",
      "Invalid input: the item is blocked\n",
      "Passed test case 2...\n"
     ]
    }
   ],
   "source": [
    "# test case 2\n",
    "grid2 = [[\"@\", \"T\", \"@\", \"@\", \"@\", \"@\"],\n",
    "         [\"@\", \"#\", \"@\", \"@\", \"@\", \"@\"],\n",
    "         [\"@\", \"#\", \"#\", \"#\", \"$\", \"@\"],\n",
    "         [\"@\", \"#\", \"@\", \"@\", \"@\", \"@\"],\n",
    "         [\"@\", \"R\", \"#\", \"#\", \"T\", \"@\"],\n",
    "         [\"@\", \"@\", \"@\", \"@\", \"@\", \"@\"]]\n",
    "answer2 = -1\n",
    "result2 = solve(grid2)\n",
    "assert result2 == answer2, f\"Test case 2: expected {answer2}, got {result2}\"\n",
    "print('Passed test case 2...')"
   ],
   "metadata": {
    "collapsed": false,
    "ExecuteTime": {
     "end_time": "2023-10-18T11:57:44.108036100Z",
     "start_time": "2023-10-18T11:57:44.096892600Z"
    }
   },
   "id": "b8b5c9ed07be57a3"
  },
  {
   "cell_type": "code",
   "execution_count": 20,
   "outputs": [
    {
     "name": "stdout",
     "output_type": "stream",
     "text": [
      "2\n",
      "Invalid input: not a valid grid, contain more than one item\n",
      "Passed test case 3...\n"
     ]
    }
   ],
   "source": [
    "# test case 3\n",
    "grid3 = [[\"@\", \"T\", \"@\", \"@\", \"@\", \"@\"],\n",
    "         [\"@\", \"#\", \"@\", \"@\", \"@\", \"@\"],\n",
    "         [\"@\", \"#\", \"#\", \"#\", \"$\", \"@\"],\n",
    "         [\"@\", \"#\", \"@\", \"@\", \"$\", \"@\"],\n",
    "         [\"@\", \"R\", \"#\", \"#\", \"T\", \"@\"],\n",
    "         [\"@\", \"@\", \"@\", \"@\", \"@\", \"@\"]]\n",
    "answer3 = -2\n",
    "result3 = solve(grid3)\n",
    "assert result3 == answer3, f\"Test case 3: expected {answer3}, got {result3}\"\n",
    "print('Passed test case 3...')"
   ],
   "metadata": {
    "collapsed": false,
    "ExecuteTime": {
     "end_time": "2023-10-18T11:59:49.505890800Z",
     "start_time": "2023-10-18T11:59:49.494620500Z"
    }
   },
   "id": "c3c1510ab604549d"
  }
 ],
 "metadata": {
  "kernelspec": {
   "display_name": "Python 3",
   "language": "python",
   "name": "python3"
  },
  "language_info": {
   "codemirror_mode": {
    "name": "ipython",
    "version": 2
   },
   "file_extension": ".py",
   "mimetype": "text/x-python",
   "name": "python",
   "nbconvert_exporter": "python",
   "pygments_lexer": "ipython2",
   "version": "2.7.6"
  }
 },
 "nbformat": 4,
 "nbformat_minor": 5
}
