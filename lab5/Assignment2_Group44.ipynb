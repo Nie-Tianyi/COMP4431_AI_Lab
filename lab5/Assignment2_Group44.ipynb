{
 "cells": [
  {
   "cell_type": "code",
   "execution_count": null,
   "outputs": [],
   "source": [
    "# Assignment 2 for Group44"
   ],
   "metadata": {
    "collapsed": false
   },
   "id": "3e6b7aaebb83ab83"
  },
  {
   "cell_type": "code",
   "execution_count": 12,
   "outputs": [],
   "source": [
    "\"\"\"\n",
    "In a warehouse, the robot is used for material handling. Your task is to help the robot to place the \n",
    "item on one of the available shelves. Here, the warehouse layout is represented by an m×n grid of \n",
    "characters, where the grid includes \"R\", \"#\", \"@\", \"$\", \"T\", and :\n",
    "• \"R\" stands for the robot. \n",
    "• \"$\" denotes the item that needs to be moved. There’s only one item on the grid.\n",
    "• \"#\" denotes an open space, which both the robot and the item can move onto.\n",
    "• \"@\" denotes an obstacle. Neither the robot nor the item can move onto it.\n",
    "• \"T\" denotes an empty shelf where the item can be placed. If there are multiple empty shelves, the robot can \n",
    "place the item on any of them. Besides, the robot can move through the empty shelf \"T\".\n",
    "Available actions of the robot are as follows:\n",
    "• “Move”: The robot can move up, down, left or right on the grid to reach adjacent open spaces (\"#\").\n",
    "• “Push”: The robot can push the item by standing next to it and moving in the direction of the item. The robot \n",
    "cannot move through the item.\n",
    "You should return the minimum number of pushes required for the robot to move the item to an \n",
    "empty shelf. If it's impossible to place the item on any shelf, return -1.\n",
    "• Hint 1: Consider calculating the minimum pushes required to reach different target shelves separately.\n",
    "• Hint 2: Consider utilizing A* search and heuristically use the Manhattan distance between the item and the \n",
    "target shelf to guide the search.\n",
    "\"\"\"\n",
    "from typing import List\n",
    "import heapq\n",
    "\n",
    "\n",
    "def solve(grid: List[List[str]]) -> int:\n",
    "    \"\"\"Your solution to the problem goes in this function.\n",
    "    :param:\n",
    "        grid (List[List[str]]): The warehouse layout, e.g., [[\"@\", \"@\", \"@\"], [\"@\", \"R\", \"$\"], [\"@\", \"@\", \"T\"]]\n",
    "    :return:\n",
    "        int: the minimum number of pushes required for the robot to move the item to an empty shelf.\n",
    "        return -1 if no solution\n",
    "        return -2 if invalid input\n",
    "        return the minimum number of pushes required for the robot to move the item to an empty shelf\n",
    "    \"\"\"\n",
    "    # if the input is not 2d array of strings, return -2\n",
    "    if not isinstance(grid, list) or not all(isinstance(row, list) for row in grid) or not all(\n",
    "            isinstance(item, str) for row in grid for item in row):\n",
    "        print('Invalid input: not a 2d array of strings')\n",
    "        return -2\n",
    "    # if the input is not a valid grid, the length is not equal to width, return -2\n",
    "    if not all(len(row) == len(grid[0]) for row in grid):\n",
    "        print('Invalid input: not a valid grid, length is not equal to width')\n",
    "        return -2\n",
    "    # if the input is not a valid grid, contain charactors other than @#$RT return -2\n",
    "    if not all(item in ['@', '#', '$', 'R', 'T'] for row in grid for item in row):\n",
    "        print('Invalid input: not a valid grid, contain charactors other than @#$RT')\n",
    "        return -2\n",
    "    # if the input is not a valid grid, contain more than one robot return -2\n",
    "    if sum(row.count('R') for row in grid) != 1:\n",
    "        print('Invalid input: not a valid grid, contain more than one robot')\n",
    "        return -2\n",
    "    # if there are more than on item, return -2\n",
    "    if sum(row.count('$') for row in grid) != 1:\n",
    "        print('Invalid input: not a valid grid, contain more than one item')\n",
    "        return -2\n",
    "    # if there are no target shelf, return -2\n",
    "    if sum(row.count('T') for row in grid) == 0:\n",
    "        print('Invalid input: not a valid grid, contain no target shelf')\n",
    "        return -2\n",
    "\n",
    "    # Find the robot, item, and shelves\n",
    "    robot = item = shelves = None\n",
    "    for i in range(len(grid)):\n",
    "        for j in range(len(grid[0])):\n",
    "            if grid[i][j] == 'R':\n",
    "                robot = (i, j)\n",
    "            elif grid[i][j] == '$':\n",
    "                item = (i, j)\n",
    "            elif grid[i][j] == 'T':\n",
    "                if shelves is None:\n",
    "                    shelves = []\n",
    "                shelves.append((i, j))\n",
    "\n",
    "    # if the x and y of the item is both blocked, return -1\n",
    "    if block_x(grid, item[0], item[1]) and block_y(grid, item[0], item[1]):\n",
    "        print('Invalid input: the item is blocked')\n",
    "        return -1\n",
    "\n",
    "    # if the distance between the item and the target shelf is 1, return 1\n",
    "    if any(heuristic(item, shelf) == 1 for shelf in shelves):\n",
    "        return 1\n",
    "    \n",
    "    min_pushes = float('inf')\n",
    "    for shelf in shelves:\n",
    "        _, cost_robot_to_item = astar(grid, robot, item)\n",
    "        _, cost_item_to_shelf = astar(grid, item, shelf)\n",
    "        pushes = cost_robot_to_item.get(item, float('inf')) + cost_item_to_shelf.get(shelf, float('inf'))\n",
    "        min_pushes = min(min_pushes, pushes)\n",
    "\n",
    "    return min_pushes if min_pushes != float('inf') else -1\n",
    "\n",
    "\n",
    "def block_x(grid, x, y):\n",
    "    if grid[x - 1][y] == '@' or grid[x + 1][y] == '@' or x + 1 >= len(grid) or x - 1 < 0:\n",
    "        return True\n",
    "    return False\n",
    "\n",
    "\n",
    "def block_y(grid, x, y):\n",
    "    if grid[x][y - 1] == '@' or grid[x][y + 1] == '@' or y + 1 >= len(grid[0]) or y - 1 < 0:\n",
    "        return True\n",
    "    return False\n",
    "\n",
    "\n",
    "def heuristic(a, b):\n",
    "    return abs(b[0] - a[0]) + abs(b[1] - a[1])\n",
    "\n",
    "\n",
    "def astar(grid, start, goal):\n",
    "    frontier = []\n",
    "    heapq.heappush(frontier, (0, start))\n",
    "    came_from = {start: None}\n",
    "    cost_so_far = {start: 0}\n",
    "\n",
    "    while frontier:\n",
    "        _, current = heapq.heappop(frontier)\n",
    "\n",
    "        if current == goal:\n",
    "            break\n",
    "\n",
    "        for dx, dy in [(-1, 0), (1, 0), (0, -1), (0, 1)]:\n",
    "            next = (current[0] + dx, current[1] + dy)\n",
    "            if 0 <= next[0] < len(grid) and 0 <= next[1] < len(grid[0]) and grid[next[0]][next[1]] != '@':\n",
    "                new_cost = cost_so_far[current] + 1\n",
    "                if next not in cost_so_far or new_cost < cost_so_far[next]:\n",
    "                    cost_so_far[next] = new_cost\n",
    "                    priority = new_cost + heuristic(goal, next)\n",
    "                    heapq.heappush(frontier, (priority, next))\n",
    "                    came_from[next] = current\n",
    "\n",
    "    return came_from, cost_so_far\n"
   ],
   "metadata": {
    "collapsed": false,
    "ExecuteTime": {
     "end_time": "2023-10-14T10:46:46.182986600Z",
     "start_time": "2023-10-14T10:46:46.158700100Z"
    }
   },
   "id": "63077a7f5f05cc8e"
  },
  {
   "cell_type": "code",
   "execution_count": 10,
   "outputs": [
    {
     "ename": "AssertionError",
     "evalue": "Test case 1: expected 3, got 6",
     "output_type": "error",
     "traceback": [
      "\u001B[1;31m---------------------------------------------------------------------------\u001B[0m",
      "\u001B[1;31mAssertionError\u001B[0m                            Traceback (most recent call last)",
      "Cell \u001B[1;32mIn[10], line 10\u001B[0m\n\u001B[0;32m      8\u001B[0m answer1 \u001B[38;5;241m=\u001B[39m \u001B[38;5;241m3\u001B[39m\n\u001B[0;32m      9\u001B[0m result1 \u001B[38;5;241m=\u001B[39m solve(grid1)\n\u001B[1;32m---> 10\u001B[0m \u001B[38;5;28;01massert\u001B[39;00m result1 \u001B[38;5;241m==\u001B[39m answer1, \u001B[38;5;124mf\u001B[39m\u001B[38;5;124m\"\u001B[39m\u001B[38;5;124mTest case 1: expected \u001B[39m\u001B[38;5;132;01m{\u001B[39;00manswer1\u001B[38;5;132;01m}\u001B[39;00m\u001B[38;5;124m, got \u001B[39m\u001B[38;5;132;01m{\u001B[39;00mresult1\u001B[38;5;132;01m}\u001B[39;00m\u001B[38;5;124m\"\u001B[39m\n\u001B[0;32m     11\u001B[0m \u001B[38;5;28mprint\u001B[39m(\u001B[38;5;124m'\u001B[39m\u001B[38;5;124mPassed test case 1...\u001B[39m\u001B[38;5;124m'\u001B[39m)\n",
      "\u001B[1;31mAssertionError\u001B[0m: Test case 1: expected 3, got 6"
     ]
    }
   ],
   "source": [
    "# test case 1\n",
    "grid1 = [[\"@\", \"@\", \"@\", \"@\", \"@\", \"@\"],\n",
    "         [\"@\", \"@\", \"@\", \"@\", \"T\", \"@\"],\n",
    "         [\"@\", \"#\", \"$\", \"#\", \"#\", \"@\"],\n",
    "         [\"@\", \"#\", \"@\", \"@\", \"#\", \"@\"],\n",
    "         [\"@\", \"R\", \"#\", \"#\", \"#\", \"@\"],\n",
    "         [\"@\", \"T\", \"@\", \"@\", \"@\", \"@\"]]\n",
    "answer1 = 3\n",
    "result1 = solve(grid1)\n",
    "assert result1 == answer1, f\"Test case 1: expected {answer1}, got {result1}\"\n",
    "print('Passed test case 1...')"
   ],
   "metadata": {
    "collapsed": false,
    "ExecuteTime": {
     "end_time": "2023-10-14T09:57:20.233336600Z",
     "start_time": "2023-10-14T09:57:20.223117800Z"
    }
   },
   "id": "a256f113c791711"
  },
  {
   "cell_type": "code",
   "execution_count": 11,
   "outputs": [
    {
     "name": "stdout",
     "output_type": "stream",
     "text": [
      "Invalid input: the item is blocked\n",
      "Passed test case 2...\n"
     ]
    }
   ],
   "source": [
    "# test case 2\n",
    "grid2 = [[\"@\", \"T\", \"@\", \"@\", \"@\", \"@\"],\n",
    "         [\"@\", \"#\", \"@\", \"@\", \"@\", \"@\"],\n",
    "         [\"@\", \"#\", \"#\", \"#\", \"$\", \"@\"],\n",
    "         [\"@\", \"#\", \"@\", \"@\", \"@\", \"@\"],\n",
    "         [\"@\", \"R\", \"#\", \"#\", \"T\", \"@\"],\n",
    "         [\"@\", \"@\", \"@\", \"@\", \"@\", \"@\"]]\n",
    "answer2 = -1\n",
    "result2 = solve(grid2)\n",
    "assert result2 == answer2, f\"Test case 2: expected {answer2}, got {result2}\"\n",
    "print('Passed test case 2...')"
   ],
   "metadata": {
    "collapsed": false,
    "ExecuteTime": {
     "end_time": "2023-10-14T09:57:22.914939Z",
     "start_time": "2023-10-14T09:57:22.904915400Z"
    }
   },
   "id": "b8b5c9ed07be57a3"
  }
 ],
 "metadata": {
  "kernelspec": {
   "display_name": "Python 3",
   "language": "python",
   "name": "python3"
  },
  "language_info": {
   "codemirror_mode": {
    "name": "ipython",
    "version": 2
   },
   "file_extension": ".py",
   "mimetype": "text/x-python",
   "name": "python",
   "nbconvert_exporter": "python",
   "pygments_lexer": "ipython2",
   "version": "2.7.6"
  }
 },
 "nbformat": 4,
 "nbformat_minor": 5
}
