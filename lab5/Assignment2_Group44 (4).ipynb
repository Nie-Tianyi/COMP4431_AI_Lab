{
 "cells": [
  {
   "cell_type": "markdown",
   "id": "e677d3dc47165e6d",
   "metadata": {},
   "source": [
    "# Assignment 2 for Group44"
   ]
  },
  {
   "cell_type": "code",
   "execution_count": 1,
   "outputs": [],
   "source": [
    "from typing import List, Tuple\n",
    "import heapq\n",
    "from collections import deque\n",
    "\n",
    "def heuristic(a: Tuple[int, int], b: Tuple[int, int]) -> int:\n",
    "    return abs(a[0] - b[0]) + abs(a[1] - b[1])\n",
    "\n",
    "def get_directions() -> List[Tuple[int, int]]:\n",
    "    return [(0, 1), (0, -1), (1, 0), (-1, 0)]\n",
    "\n",
    "def neighbors(grid: List[List[str]], node: Tuple[int, int]) -> List[Tuple[int, int]]:\n",
    "    directions = get_directions()\n",
    "    neighbors = []\n",
    "    for dx, dy in directions:\n",
    "        nx, ny = node[0] + dx, node[1] + dy\n",
    "        if 0 <= nx < len(grid) and 0 <= ny < len(grid[0]) and grid[nx][ny] != \"@\" and grid[nx][ny] != \"$\":\n",
    "            neighbors.append((nx, ny))\n",
    "    return neighbors\n",
    "\n",
    "def bfs(grid: List[List[str]], start: Tuple[int, int], end: Tuple[int, int]) -> List[Tuple[int, int]]:\n",
    "    queue = deque([start])\n",
    "    visited = {start}\n",
    "    came_from = {start: None}\n",
    "    while queue:\n",
    "        node = queue.popleft()\n",
    "        if node == end:\n",
    "            path = []\n",
    "            while node is not None:\n",
    "                path.append(node)\n",
    "                node = came_from[node]\n",
    "            return path[::-1]\n",
    "        for neighbor in neighbors(grid, node):\n",
    "            if neighbor not in visited:\n",
    "                visited.add(neighbor)\n",
    "                queue.append(neighbor)\n",
    "                came_from[neighbor] = node\n",
    "    return []\n",
    "\n",
    "def solve(grid: List[List[str]]) -> int:\n",
    "    start, item = None, None\n",
    "    targets = []\n",
    "    for i in range(len(grid)):\n",
    "        for j in range(len(grid[0])):\n",
    "            if grid[i][j] == \"R\":\n",
    "                start = (i, j)\n",
    "            elif grid[i][j] == \"$\":\n",
    "                item = (i, j)\n",
    "            elif grid[i][j] == \"T\":\n",
    "                target = (i, j)\n",
    "                targets.append(target)\n",
    "    \n",
    "    # Invalid grid\n",
    "    if not start or len(target)==0 or not item:\n",
    "        return -2\n",
    "\n",
    "    # Find all possible positions from where the robot can push the item towards the target\n",
    "    possible_positions = []\n",
    "    for dx, dy in get_directions():\n",
    "        nx, ny = item[0] + dx, item[1] + dy\n",
    "        opposite = item[0] - dx, item[1] - dy\n",
    "        if 0 <= nx < len(grid) and 0 <= ny < len(grid[0]) and 0 <= opposite[0] < len(grid) and 0 <= opposite[1] < len(grid[0]) and grid[opposite[0]][opposite[1]] != \"@\":\n",
    "            bfs_path = bfs(grid, start, (nx, ny))\n",
    "            if bfs_path:\n",
    "                possible_positions.append((opposite, bfs_path))\n",
    "\n",
    "    # A* search from item to target\n",
    "    min_distance_lists = []\n",
    "    for target in targets:\n",
    "        min_distance = float('inf')\n",
    "        path_to_target = None\n",
    "        print(f\"Target {target}:\")\n",
    "        \n",
    "        for start, bfs_path in possible_positions:\n",
    "            print(\"Path from robot to item: \", bfs_path)\n",
    "            queue = [(heuristic(start, target), 0, start, None)]\n",
    "            visited = {start: 0}\n",
    "            came_from = {start: None}\n",
    "            while queue:\n",
    "                _, g, node, _ = heapq.heappop(queue)\n",
    "                if node == target:\n",
    "                    if g < min_distance:\n",
    "                        min_distance = g\n",
    "                        path_to_target = []\n",
    "                        while node is not None:\n",
    "                            path_to_target.append(node)\n",
    "                            node = came_from[node]\n",
    "                    break\n",
    "                for neighbor in neighbors(grid, node):\n",
    "                    new_cost = g + 1\n",
    "                    if neighbor not in visited or new_cost < visited[neighbor]:\n",
    "                        visited[neighbor] = new_cost\n",
    "                        f = new_cost + heuristic(neighbor, target)\n",
    "                        heapq.heappush(queue, (f, new_cost, neighbor, node))\n",
    "                        came_from[neighbor] = node\n",
    "\n",
    "        if path_to_target is None:\n",
    "            min_distance_lists.append(-1)\n",
    "            print(\"Path from item to target: None\")\n",
    "            print(f\"Minimum: -1\")\n",
    "        else:\n",
    "            min_distance_lists.append(len(path_to_target[::-1]))\n",
    "            print(\"Path from item to target: \", path_to_target[::-1])\n",
    "            print(f\"Minimum: {len(path_to_target[::-1])}\")\n",
    "\n",
    "    print(f\"Overall minimum: {min(min_distance_lists)}\")\n",
    "    return min(min_distance_lists)\n"
   ],
   "metadata": {
    "collapsed": false,
    "ExecuteTime": {
     "end_time": "2023-10-18T14:01:39.727940300Z",
     "start_time": "2023-10-18T14:01:39.713073600Z"
    }
   },
   "id": "1b1b60ad121c86be"
  },
  {
   "cell_type": "code",
   "execution_count": 2,
   "id": "a256f113c791711",
   "metadata": {
    "ExecuteTime": {
     "end_time": "2023-10-18T14:01:39.728940600Z",
     "start_time": "2023-10-18T14:01:39.717430100Z"
    }
   },
   "outputs": [
    {
     "name": "stdout",
     "output_type": "stream",
     "text": [
      "Target (1, 4):\n",
      "Path from robot to item:  [(4, 1), (4, 2), (4, 3), (4, 4), (3, 4), (2, 4), (2, 3)]\n",
      "Path from robot to item:  [(4, 1), (3, 1), (2, 1)]\n",
      "Path from item to target:  [(2, 3), (2, 4), (1, 4)]\n",
      "Minimum: 3\n",
      "Target (5, 1):\n",
      "Path from robot to item:  [(4, 1), (4, 2), (4, 3), (4, 4), (3, 4), (2, 4), (2, 3)]\n",
      "Path from robot to item:  [(4, 1), (3, 1), (2, 1)]\n",
      "Path from item to target:  [(2, 1), (3, 1), (4, 1), (5, 1)]\n",
      "Minimum: 4\n",
      "Overall minimum: 3\n",
      "Passed test case 1...\n"
     ]
    }
   ],
   "source": [
    "# test case 1\n",
    "grid1 = [[\"@\", \"@\", \"@\", \"@\", \"@\", \"@\"],\n",
    "         [\"@\", \"@\", \"@\", \"@\", \"T\", \"@\"],\n",
    "         [\"@\", \"#\", \"$\", \"#\", \"#\", \"@\"],\n",
    "         [\"@\", \"#\", \"@\", \"@\", \"#\", \"@\"],\n",
    "         [\"@\", \"R\", \"#\", \"#\", \"#\", \"@\"],\n",
    "         [\"@\", \"T\", \"@\", \"@\", \"@\", \"@\"]]\n",
    "answer1 = 3\n",
    "result1 = solve(grid1)\n",
    "assert result1 == answer1, f\"Test case 1: expected {answer1}, got {result1}\"\n",
    "print('Passed test case 1...')"
   ]
  },
  {
   "cell_type": "code",
   "execution_count": 3,
   "id": "b8b5c9ed07be57a3",
   "metadata": {
    "ExecuteTime": {
     "end_time": "2023-10-18T14:01:41.262216200Z",
     "start_time": "2023-10-18T14:01:41.223944600Z"
    }
   },
   "outputs": [
    {
     "name": "stdout",
     "output_type": "stream",
     "text": [
      "Target (0, 1):\n",
      "Path from item to target: None\n",
      "Minimum: -1\n",
      "Target (4, 4):\n",
      "Path from item to target: None\n",
      "Minimum: -1\n",
      "Overall minimum: -1\n",
      "Passed test case 2...\n"
     ]
    }
   ],
   "source": [
    "# test case 2\n",
    "grid2 = [[\"@\", \"T\", \"@\", \"@\", \"@\", \"@\"],\n",
    "         [\"@\", \"#\", \"@\", \"@\", \"@\", \"@\"],\n",
    "         [\"@\", \"#\", \"#\", \"#\", \"$\", \"@\"],\n",
    "         [\"@\", \"#\", \"@\", \"@\", \"@\", \"@\"],\n",
    "         [\"@\", \"R\", \"#\", \"#\", \"T\", \"@\"],\n",
    "         [\"@\", \"@\", \"@\", \"@\", \"@\", \"@\"]]\n",
    "answer2 = -1\n",
    "result2 = solve(grid2)\n",
    "assert result2 == answer2, f\"Test case 2: expected {answer2}, got {result2}\"\n",
    "print('Passed test case 2...')"
   ]
  },
  {
   "cell_type": "code",
   "execution_count": 4,
   "id": "0e61f41a",
   "metadata": {
    "ExecuteTime": {
     "end_time": "2023-10-18T14:01:42.460176900Z",
     "start_time": "2023-10-18T14:01:42.444472200Z"
    }
   },
   "outputs": [
    {
     "name": "stdout",
     "output_type": "stream",
     "text": [
      "Target (0, 1):\n",
      "Path from item to target: None\n",
      "Minimum: -1\n",
      "Target (4, 4):\n",
      "Path from item to target: None\n",
      "Minimum: -1\n",
      "Overall minimum: -1\n",
      "Passed test case 3...\n"
     ]
    }
   ],
   "source": [
    "# test case 3: blocked by edges\n",
    "grid3 = [[\"@\", \"T\", \"@\", \"@\", \"@\", \"@\"],\n",
    "         [\"@\", \"#\", \"@\", \"@\", \"@\", \"#\"],\n",
    "         [\"@\", \"#\", \"#\", \"#\", \"#\", \"$\"],\n",
    "         [\"@\", \"#\", \"@\", \"@\", \"@\", \"#\"],\n",
    "         [\"@\", \"R\", \"#\", \"#\", \"T\", \"@\"],\n",
    "         [\"@\", \"@\", \"@\", \"@\", \"@\", \"@\"]]\n",
    "answer2 = -1\n",
    "result2 = solve(grid3)\n",
    "assert result2 == answer2, f\"Test case 3: expected {answer2}, got {result2}\"\n",
    "print('Passed test case 3...')"
   ]
  },
  {
   "cell_type": "code",
   "execution_count": 5,
   "id": "9b6f1a96",
   "metadata": {
    "ExecuteTime": {
     "end_time": "2023-10-18T14:01:43.788917700Z",
     "start_time": "2023-10-18T14:01:43.773544600Z"
    }
   },
   "outputs": [
    {
     "name": "stdout",
     "output_type": "stream",
     "text": [
      "Target (0, 1):\n",
      "Path from item to target: None\n",
      "Minimum: -1\n",
      "Target (4, 4):\n",
      "Path from item to target: None\n",
      "Minimum: -1\n",
      "Overall minimum: -1\n",
      "Passed test case 4...\n"
     ]
    }
   ],
   "source": [
    "# test case 4: blocked by edges\n",
    "grid3 = [[\"$\", \"T\", \"@\", \"@\", \"@\", \"@\"],\n",
    "         [\"#\", \"#\", \"@\", \"@\", \"@\", \"#\"],\n",
    "         [\"@\", \"#\", \"#\", \"#\", \"#\", \"#\"],\n",
    "         [\"@\", \"#\", \"@\", \"@\", \"@\", \"#\"],\n",
    "         [\"@\", \"R\", \"#\", \"#\", \"T\", \"@\"],\n",
    "         [\"@\", \"@\", \"@\", \"@\", \"@\", \"@\"]]\n",
    "answer2 = -1\n",
    "result2 = solve(grid3)\n",
    "assert result2 == answer2, f\"Test case 4: expected {answer2}, got {result2}\"\n",
    "print('Passed test case 4...')"
   ]
  },
  {
   "cell_type": "code",
   "execution_count": 6,
   "id": "0a81c5ef",
   "metadata": {
    "ExecuteTime": {
     "end_time": "2023-10-18T14:01:44.973089900Z",
     "start_time": "2023-10-18T14:01:44.957274500Z"
    }
   },
   "outputs": [
    {
     "name": "stdout",
     "output_type": "stream",
     "text": [
      "Target (0, 1):\n",
      "Path from item to target: None\n",
      "Minimum: -1\n",
      "Target (4, 4):\n",
      "Path from item to target: None\n",
      "Minimum: -1\n",
      "Overall minimum: -1\n",
      "Passed test case 5...\n"
     ]
    }
   ],
   "source": [
    "# test case 5: robot blocked by obstacles\n",
    "grid3 = [[\"#\", \"T\", \"@\", \"@\", \"@\", \"@\"],\n",
    "         [\"#\", \"$\", \"@\", \"@\", \"@\", \"#\"],\n",
    "         [\"@\", \"#\", \"#\", \"#\", \"#\", \"#\"],\n",
    "         [\"@\", \"@\", \"@\", \"@\", \"@\", \"#\"],\n",
    "         [\"@\", \"R\", \"#\", \"#\", \"T\", \"@\"],\n",
    "         [\"@\", \"@\", \"@\", \"@\", \"@\", \"@\"]]\n",
    "answer2 = -1\n",
    "result2 = solve(grid3)\n",
    "assert result2 == answer2, f\"Test case 5: expected {answer2}, got {result2}\"\n",
    "print('Passed test case 5...')"
   ]
  },
  {
   "cell_type": "code",
   "execution_count": 7,
   "id": "414674f0",
   "metadata": {
    "ExecuteTime": {
     "end_time": "2023-10-18T14:01:46.165823500Z",
     "start_time": "2023-10-18T14:01:46.150237500Z"
    }
   },
   "outputs": [
    {
     "name": "stdout",
     "output_type": "stream",
     "text": [
      "Target (0, 1):\n",
      "Path from item to target: None\n",
      "Minimum: -1\n",
      "Target (4, 4):\n",
      "Path from item to target: None\n",
      "Minimum: -1\n",
      "Overall minimum: -1\n",
      "Passed test case 6...\n"
     ]
    }
   ],
   "source": [
    "# test case 6: robot blocked by obstacles\n",
    "grid3 = [[\"#\", \"T\", \"@\", \"@\", \"@\", \"@\"],\n",
    "         [\"#\", \"$\", \"@\", \"@\", \"@\", \"#\"],\n",
    "         [\"@\", \"#\", \"#\", \"#\", \"#\", \"#\"],\n",
    "         [\"@\", \"@\", \"@\", \"@\", \"@\", \"#\"],\n",
    "         [\"@\", \"R\", \"#\", \"#\", \"T\", \"@\"],\n",
    "         [\"@\", \"#\", \"@\", \"@\", \"@\", \"@\"]]\n",
    "answer2 = -1\n",
    "result2 = solve(grid3)\n",
    "assert result2 == answer2, f\"Test case 6: expected {answer2}, got {result2}\"\n",
    "print('Passed test case 6...')"
   ]
  },
  {
   "cell_type": "code",
   "execution_count": null,
   "outputs": [],
   "source": [
    "# test case 7: robot blocked by obstacles\n",
    "grid3 = [[\"#\", \"T\", \"@\", \"@\", \"@\", \"@\"],\n",
    "         [\"#\", \"$\", \"@\", \"@\", \"@\", \"#\"],\n",
    "         [\"@\", \"#\", \"#\", \"#\", \"#\", \"#\"],\n",
    "         [\"@\", \"@\", \"@\", \"@\", \"@\", \"#\"],\n",
    "         [\"@\", \"R\", \"#\", \"#\", \"T\", \"@\"],\n",
    "         [\"@\", \"#\", \"@\", \"@\", \"@\", \"@\"]]\n",
    "answer2 = -1\n",
    "result2 = solve(grid3)\n",
    "assert result2 == answer2, f\"Test case 6: expected {answer2}, got {result2}\"\n",
    "print('Passed test case 6...')"
   ],
   "metadata": {
    "collapsed": false
   },
   "id": "630e659d8587f739"
  }
 ],
 "metadata": {
  "kernelspec": {
   "display_name": "Python 3 (ipykernel)",
   "language": "python",
   "name": "python3"
  },
  "language_info": {
   "codemirror_mode": {
    "name": "ipython",
    "version": 3
   },
   "file_extension": ".py",
   "mimetype": "text/x-python",
   "name": "python",
   "nbconvert_exporter": "python",
   "pygments_lexer": "ipython3",
   "version": "3.11.4"
  }
 },
 "nbformat": 4,
 "nbformat_minor": 5
}
