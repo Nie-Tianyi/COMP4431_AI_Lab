{
 "cells": [
  {
   "cell_type": "markdown",
   "source": [
    "# Assignment 2 for Group44"
   ],
   "metadata": {
    "collapsed": false
   },
   "id": "e677d3dc47165e6d"
  },
  {
   "cell_type": "code",
   "execution_count": 50,
   "outputs": [],
   "source": [
    "from typing import List, Tuple\n",
    "import heapq\n",
    "\n",
    "def manhattan_distance(p1: Tuple[int, int], p2: Tuple[int, int]) -> int:\n",
    "    return abs(p1[0] - p2[0]) + abs(p1[1] - p2[1])\n",
    "\n",
    "def neighbors(grid: List[List[str]], r: int, c: int) -> List[Tuple[int, int]]:\n",
    "    \"\"\"Return available neighbors of cell (r, c)\"\"\"\n",
    "    directions = [(0, 1), (1, 0), (0, -1), (-1, 0)]\n",
    "    result = []\n",
    "    for dr, dc in directions:\n",
    "        nr, nc = r + dr, c + dc\n",
    "        if 0 <= nr < len(grid) and 0 <= nc < len(grid[0]) and grid[nr][nc] not in ['@', 'T']:\n",
    "            result.append((nr, nc))\n",
    "    return result\n",
    "\n",
    "def a_star_search(grid: List[List[str]], start: Tuple[int, int], goal: Tuple[int, int], pushing: bool) -> Tuple[int, Tuple[int, int]]:\n",
    "    \"\"\"Return shortest path from start to goal. If pushing=True, consider pushing $\"\"\"\n",
    "    open_list = [(manhattan_distance(start, goal), 0, start)]\n",
    "    visited = set()\n",
    "\n",
    "    while open_list:\n",
    "        _, cost, current = heapq.heappop(open_list)\n",
    "        if current == goal:\n",
    "            return cost\n",
    "        if current in visited:\n",
    "            continue\n",
    "        visited.add(current)\n",
    "\n",
    "        for neighbor in neighbors(grid, current[0], current[1]):\n",
    "            if pushing and grid[neighbor[0]][neighbor[1]] == '$':\n",
    "                # Determine the direction of push\n",
    "                dr, dc = neighbor[0] - current[0], neighbor[1] - current[1]\n",
    "                new_r, new_c = neighbor[0] + dr, neighbor[1] + dc\n",
    "                if 0 <= new_r < len(grid) and 0 <= new_c < len(grid[0]) and grid[new_r][new_c] == '#':\n",
    "                    grid[neighbor[0]][neighbor[1]] = '#'  # Empty the spot where the item was\n",
    "                    grid[new_r][new_c] = '$'  # Place the item in the new position\n",
    "                    heapq.heappush(open_list, (manhattan_distance((new_r, new_c), goal) + cost + 1, cost + 1, (new_r, new_c)))\n",
    "            else:\n",
    "                heapq.heappush(open_list, (manhattan_distance(neighbor, goal) + cost + 1, cost + 1, neighbor))\n",
    "    return float('inf'),None\n",
    "\n",
    "\n",
    "\n",
    "def solve(grid: List[List[str]]) -> int:\n",
    "    robot_position = None\n",
    "    item_position = None\n",
    "    shelf_positions = []\n",
    "    for r in range(len(grid)):\n",
    "        for c in range(len(grid[0])):\n",
    "            if grid[r][c] == 'R':\n",
    "                robot_position = (r, c)\n",
    "            elif grid[r][c] == '$':\n",
    "                item_position = (r, c)\n",
    "            elif grid[r][c] == 'T':\n",
    "                shelf_positions.append((r, c))\n",
    "\n",
    "    min_pushes = float('inf')\n",
    "    for shelf_position in shelf_positions:\n",
    "        # Check robot reaching the item\n",
    "        to_item = a_star_search(grid, robot_position, item_position, False)\n",
    "        # Check robot pushing the item to the shelf\n",
    "        to_shelf = a_star_search(grid, item_position, shelf_position, True)\n",
    "        min_pushes = min(min_pushes, to_item + to_shelf)\n",
    "\n",
    "    if min_pushes == float('inf'):\n",
    "        return -1\n",
    "    return min_pushes\n",
    "\n"
   ],
   "metadata": {
    "collapsed": false,
    "ExecuteTime": {
     "end_time": "2023-10-18T13:18:58.572692200Z",
     "start_time": "2023-10-18T13:18:58.549132900Z"
    }
   },
   "id": "63077a7f5f05cc8e"
  },
  {
   "cell_type": "code",
   "execution_count": 49,
   "outputs": [
    {
     "ename": "AssertionError",
     "evalue": "Test case 1: expected 3, got -1",
     "output_type": "error",
     "traceback": [
      "\u001B[1;31m---------------------------------------------------------------------------\u001B[0m",
      "\u001B[1;31mAssertionError\u001B[0m                            Traceback (most recent call last)",
      "Cell \u001B[1;32mIn[49], line 10\u001B[0m\n\u001B[0;32m      8\u001B[0m answer1 \u001B[38;5;241m=\u001B[39m \u001B[38;5;241m3\u001B[39m\n\u001B[0;32m      9\u001B[0m result1 \u001B[38;5;241m=\u001B[39m solve(grid1)\n\u001B[1;32m---> 10\u001B[0m \u001B[38;5;28;01massert\u001B[39;00m result1 \u001B[38;5;241m==\u001B[39m answer1, \u001B[38;5;124mf\u001B[39m\u001B[38;5;124m\"\u001B[39m\u001B[38;5;124mTest case 1: expected \u001B[39m\u001B[38;5;132;01m{\u001B[39;00manswer1\u001B[38;5;132;01m}\u001B[39;00m\u001B[38;5;124m, got \u001B[39m\u001B[38;5;132;01m{\u001B[39;00mresult1\u001B[38;5;132;01m}\u001B[39;00m\u001B[38;5;124m\"\u001B[39m\n\u001B[0;32m     11\u001B[0m \u001B[38;5;28mprint\u001B[39m(\u001B[38;5;124m'\u001B[39m\u001B[38;5;124mPassed test case 1...\u001B[39m\u001B[38;5;124m'\u001B[39m)\n",
      "\u001B[1;31mAssertionError\u001B[0m: Test case 1: expected 3, got -1"
     ]
    }
   ],
   "source": [
    "# test case 1\n",
    "grid1 = [[\"@\", \"@\", \"@\", \"@\", \"@\", \"@\"],\n",
    "         [\"@\", \"@\", \"@\", \"@\", \"T\", \"@\"],\n",
    "         [\"@\", \"#\", \"$\", \"#\", \"#\", \"@\"],\n",
    "         [\"@\", \"#\", \"@\", \"@\", \"#\", \"@\"],\n",
    "         [\"@\", \"R\", \"#\", \"#\", \"#\", \"@\"],\n",
    "         [\"@\", \"T\", \"@\", \"@\", \"@\", \"@\"]]\n",
    "answer1 = 3\n",
    "result1 = solve(grid1)\n",
    "assert result1 == answer1, f\"Test case 1: expected {answer1}, got {result1}\"\n",
    "print('Passed test case 1...')"
   ],
   "metadata": {
    "collapsed": false,
    "ExecuteTime": {
     "end_time": "2023-10-18T13:15:49.211626900Z",
     "start_time": "2023-10-18T13:15:49.203771600Z"
    }
   },
   "id": "a256f113c791711"
  },
  {
   "cell_type": "code",
   "execution_count": 46,
   "outputs": [
    {
     "name": "stdout",
     "output_type": "stream",
     "text": [
      "Passed test case 2...\n"
     ]
    }
   ],
   "source": [
    "# test case 2\n",
    "grid2 = [[\"@\", \"T\", \"@\", \"@\", \"@\", \"@\"],\n",
    "         [\"@\", \"#\", \"@\", \"@\", \"@\", \"@\"],\n",
    "         [\"@\", \"#\", \"#\", \"#\", \"$\", \"@\"],\n",
    "         [\"@\", \"#\", \"@\", \"@\", \"@\", \"@\"],\n",
    "         [\"@\", \"R\", \"#\", \"#\", \"T\", \"@\"],\n",
    "         [\"@\", \"@\", \"@\", \"@\", \"@\", \"@\"]]\n",
    "answer2 = -1\n",
    "result2 = solve(grid2)\n",
    "assert result2 == answer2, f\"Test case 2: expected {answer2}, got {result2}\"\n",
    "print('Passed test case 2...')"
   ],
   "metadata": {
    "collapsed": false,
    "ExecuteTime": {
     "end_time": "2023-10-18T13:15:30.585688Z",
     "start_time": "2023-10-18T13:15:30.580433Z"
    }
   },
   "id": "b8b5c9ed07be57a3"
  },
  {
   "cell_type": "code",
   "execution_count": 47,
   "outputs": [
    {
     "name": "stdout",
     "output_type": "stream",
     "text": [
      "Passed test case 3...\n"
     ]
    }
   ],
   "source": [
    "# test case 3\n",
    "grid3 = [[\"@\", \"T\", \"@\", \"@\", \"@\", \"@\"],\n",
    "         [\"@\", \"#\", \"@\", \"@\", \"@\", \"@\"],\n",
    "         [\"@\", \"#\", \"#\", \"#\", \"#\", \"@\"],\n",
    "         [\"@\", \"#\", \"@\", \"@\", \"$\", \"@\"],\n",
    "         [\"@\", \"R\", \"#\", \"#\", \"T\", \"@\"],\n",
    "         [\"@\", \"@\", \"@\", \"@\", \"@\", \"@\"]]\n",
    "answer3 = -1\n",
    "result3 = solve(grid3)\n",
    "assert result3 == answer3, f\"Test case 3: expected {answer3}, got {result3}\"\n",
    "print('Passed test case 3...')"
   ],
   "metadata": {
    "collapsed": false,
    "ExecuteTime": {
     "end_time": "2023-10-18T13:15:31.927192700Z",
     "start_time": "2023-10-18T13:15:31.919816500Z"
    }
   },
   "id": "c3c1510ab604549d"
  }
 ],
 "metadata": {
  "kernelspec": {
   "display_name": "Python 3",
   "language": "python",
   "name": "python3"
  },
  "language_info": {
   "codemirror_mode": {
    "name": "ipython",
    "version": 2
   },
   "file_extension": ".py",
   "mimetype": "text/x-python",
   "name": "python",
   "nbconvert_exporter": "python",
   "pygments_lexer": "ipython2",
   "version": "2.7.6"
  }
 },
 "nbformat": 4,
 "nbformat_minor": 5
}
