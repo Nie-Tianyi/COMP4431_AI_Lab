{
 "cells": [
  {
   "cell_type": "markdown",
   "id": "8d899330",
   "metadata": {},
   "source": [
    "# Part 1: Pytorch Tutorial\n",
    "\n",
    "Modifed from the official tutorial: https://pytorch.org/tutorials/beginner/basics/intro.html"
   ]
  },
  {
   "cell_type": "code",
   "execution_count": null,
   "id": "5a3c9d3b",
   "metadata": {},
   "outputs": [],
   "source": [
    "# Install the packages:\n",
    "!pip install torch torchvision"
   ]
  },
  {
   "cell_type": "markdown",
   "id": "09a2f83c",
   "metadata": {},
   "source": [
    "## 1. Tensors\n",
    "\n",
    "Tensors are a specialized data structure that are very similar to arrays and matrices.\n",
    "In PyTorch, we use tensors to encode the inputs and outputs of a model, as well as the model’s parameters.\n",
    "\n",
    "Tensors are similar to [NumPy’s](https://numpy.org/) ndarrays, except that tensors can run on GPUs or other hardware accelerators. \n",
    "\n",
    "Tensors are also optimized for automatic differentiation (we'll see more about that later in the **Autograd\n",
    "section**)."
   ]
  },
  {
   "cell_type": "code",
   "execution_count": 2,
   "id": "4c6caf01",
   "metadata": {
    "ExecuteTime": {
     "end_time": "2023-11-11T18:39:40.435055100Z",
     "start_time": "2023-11-11T18:39:39.225472100Z"
    }
   },
   "outputs": [],
   "source": [
    "import torch\n",
    "import numpy as np"
   ]
  },
  {
   "cell_type": "markdown",
   "id": "43cafc47",
   "metadata": {},
   "source": [
    "### 1.1 Initializing a Tensor\n",
    "\n",
    "Tensors can be initialized in various ways. Take a look at the following examples:\n",
    "\n",
    "**Directly from data**\n",
    "\n",
    "Tensors can be created directly from data. The data type is automatically inferred.\n",
    "\n"
   ]
  },
  {
   "cell_type": "code",
   "execution_count": 3,
   "id": "d5549325",
   "metadata": {
    "ExecuteTime": {
     "end_time": "2023-11-11T18:39:41.020620400Z",
     "start_time": "2023-11-11T18:39:41.001135400Z"
    }
   },
   "outputs": [
    {
     "name": "stdout",
     "output_type": "stream",
     "text": [
      "tensor([[1, 2],\n",
      "        [3, 4]])\n"
     ]
    }
   ],
   "source": [
    "data = [[1, 2],[3, 4]]\n",
    "x_data = torch.tensor(data)\n",
    "print(x_data)"
   ]
  },
  {
   "cell_type": "markdown",
   "id": "00fb8b06",
   "metadata": {},
   "source": [
    "**From a NumPy array**\n",
    "\n",
    "Tensors can be created from NumPy arrays (and vice versa).\n",
    "\n"
   ]
  },
  {
   "cell_type": "code",
   "execution_count": 4,
   "id": "09edbd91",
   "metadata": {
    "ExecuteTime": {
     "end_time": "2023-11-11T18:39:42.807925200Z",
     "start_time": "2023-11-11T18:39:42.788204100Z"
    }
   },
   "outputs": [
    {
     "name": "stdout",
     "output_type": "stream",
     "text": [
      "tensor([[1, 2],\n",
      "        [3, 4]], dtype=torch.int32)\n"
     ]
    }
   ],
   "source": [
    "np_array = np.array(data)\n",
    "x_np = torch.from_numpy(np_array)\n",
    "print(x_np)"
   ]
  },
  {
   "cell_type": "markdown",
   "id": "2219886c",
   "metadata": {},
   "source": [
    "**From another tensor:**\n",
    "\n",
    "The new tensor retains the properties (shape, datatype) of the argument tensor, unless explicitly overridden.\n",
    "\n"
   ]
  },
  {
   "cell_type": "code",
   "execution_count": 5,
   "id": "4b19b2bb",
   "metadata": {
    "ExecuteTime": {
     "end_time": "2023-11-11T18:39:44.322492Z",
     "start_time": "2023-11-11T18:39:44.287111200Z"
    }
   },
   "outputs": [
    {
     "name": "stdout",
     "output_type": "stream",
     "text": [
      "Ones Tensor: \n",
      " tensor([[1, 1],\n",
      "        [1, 1]]) \n",
      "\n",
      "Random Tensor: \n",
      " tensor([[0.7284, 0.8611],\n",
      "        [0.3077, 0.3591]]) \n"
     ]
    }
   ],
   "source": [
    "x_ones = torch.ones_like(x_data) # retains the properties of x_data\n",
    "print(f\"Ones Tensor: \\n {x_ones} \\n\")\n",
    "\n",
    "x_rand = torch.rand_like(x_data, dtype=torch.float) # overrides the datatype of x_data\n",
    "print(f\"Random Tensor: \\n {x_rand} \\n\")"
   ]
  },
  {
   "cell_type": "markdown",
   "id": "435f0616",
   "metadata": {},
   "source": [
    "**With random or constant values:**\n",
    "\n",
    "``shape`` is a tuple of tensor dimensions. In the functions below, it determines the dimensionality of the output tensor.\n",
    "\n"
   ]
  },
  {
   "cell_type": "code",
   "execution_count": 6,
   "id": "0ec4198d",
   "metadata": {
    "ExecuteTime": {
     "end_time": "2023-11-11T18:39:46.033242400Z",
     "start_time": "2023-11-11T18:39:46.012463800Z"
    }
   },
   "outputs": [
    {
     "name": "stdout",
     "output_type": "stream",
     "text": [
      "Random Tensor: \n",
      " tensor([[0.6223, 0.1529, 0.2736],\n",
      "        [0.7432, 0.0438, 0.4213]]) \n",
      "\n",
      "Ones Tensor: \n",
      " tensor([[1., 1., 1.],\n",
      "        [1., 1., 1.]]) \n",
      "\n",
      "Zeros Tensor: \n",
      " tensor([[0., 0., 0.],\n",
      "        [0., 0., 0.]])\n"
     ]
    }
   ],
   "source": [
    "shape = (2,3,)\n",
    "rand_tensor = torch.rand(shape)\n",
    "ones_tensor = torch.ones(shape)\n",
    "zeros_tensor = torch.zeros(shape)\n",
    "\n",
    "print(f\"Random Tensor: \\n {rand_tensor} \\n\")\n",
    "print(f\"Ones Tensor: \\n {ones_tensor} \\n\")\n",
    "print(f\"Zeros Tensor: \\n {zeros_tensor}\")"
   ]
  },
  {
   "cell_type": "markdown",
   "id": "8a8157bc",
   "metadata": {},
   "source": [
    "### 1.2 Attributes of a Tensor\n",
    "\n",
    "Tensor attributes describe their shape, datatype, and the device on which they are stored.\n",
    "\n"
   ]
  },
  {
   "cell_type": "code",
   "execution_count": 7,
   "id": "372a6ce3",
   "metadata": {
    "ExecuteTime": {
     "end_time": "2023-11-11T18:39:48.086729600Z",
     "start_time": "2023-11-11T18:39:48.067605700Z"
    }
   },
   "outputs": [
    {
     "name": "stdout",
     "output_type": "stream",
     "text": [
      "Shape of tensor: torch.Size([3, 4])\n",
      "Datatype of tensor: torch.float32\n",
      "Device tensor is stored on: cpu\n"
     ]
    }
   ],
   "source": [
    "tensor = torch.rand(3,4)\n",
    "\n",
    "print(f\"Shape of tensor: {tensor.shape}\")\n",
    "print(f\"Datatype of tensor: {tensor.dtype}\")\n",
    "print(f\"Device tensor is stored on: {tensor.device}\")"
   ]
  },
  {
   "cell_type": "markdown",
   "id": "bf1fa7b9",
   "metadata": {},
   "source": [
    "### 1.3 Operations on Tensors\n",
    "\n",
    "Over 100 tensor operations, including arithmetic, linear algebra, matrix manipulation (transposing,\n",
    "indexing, slicing), sampling and more are\n",
    "comprehensively described [here](https://pytorch.org/docs/stable/torch.html).\n",
    "\n",
    "Each of these operations can be run on the GPU (at typically higher speeds than on a\n",
    "CPU). If you’re using Colab, allocate a GPU by going to Runtime > Change runtime type > GPU.\n",
    "\n",
    "By default, tensors are created on the CPU. We need to explicitly move tensors to the GPU using\n",
    "``.to`` method (after checking for GPU availability). Keep in mind that copying large tensors\n",
    "across devices can be expensive in terms of time and memory!\n",
    "\n"
   ]
  },
  {
   "cell_type": "code",
   "execution_count": 8,
   "id": "58bb3a81",
   "metadata": {
    "ExecuteTime": {
     "end_time": "2023-11-11T18:39:50.290209900Z",
     "start_time": "2023-11-11T18:39:50.204949200Z"
    }
   },
   "outputs": [],
   "source": [
    "# We move our tensor to the GPU if available\n",
    "if torch.cuda.is_available():\n",
    "    tensor = tensor.to(\"cuda\")"
   ]
  },
  {
   "cell_type": "markdown",
   "id": "1cb79be4",
   "metadata": {},
   "source": [
    "Try out some of the operations from the list.\n",
    "If you're familiar with the NumPy API, you'll find the Tensor API a breeze to use.\n",
    "\n",
    "\n"
   ]
  },
  {
   "cell_type": "markdown",
   "id": "18f3936a",
   "metadata": {},
   "source": [
    "**Standard numpy-like indexing and slicing:**\n",
    "\n"
   ]
  },
  {
   "cell_type": "code",
   "execution_count": 9,
   "id": "7724b03f",
   "metadata": {
    "ExecuteTime": {
     "end_time": "2023-11-11T18:39:52.387461800Z",
     "start_time": "2023-11-11T18:39:52.369173200Z"
    }
   },
   "outputs": [
    {
     "name": "stdout",
     "output_type": "stream",
     "text": [
      "First row: tensor([1., 1., 1., 1.])\n",
      "First column: tensor([1., 1., 1., 1.])\n",
      "Last column: tensor([1., 1., 1., 1.])\n",
      "tensor([[1., 0., 1., 1.],\n",
      "        [1., 0., 1., 1.],\n",
      "        [1., 0., 1., 1.],\n",
      "        [1., 0., 1., 1.]])\n"
     ]
    }
   ],
   "source": [
    "tensor = torch.ones(4, 4)\n",
    "print(f\"First row: {tensor[0]}\")\n",
    "print(f\"First column: {tensor[:, 0]}\")\n",
    "print(f\"Last column: {tensor[..., -1]}\")\n",
    "tensor[:,1] = 0\n",
    "print(tensor)"
   ]
  },
  {
   "cell_type": "markdown",
   "id": "73bf34b5",
   "metadata": {},
   "source": [
    "**Joining tensors** \n",
    "\n",
    "You can use ``torch.cat`` to concatenate a sequence of tensors along a given dimension.\n",
    "See also [torch.stack](https://pytorch.org/docs/stable/generated/torch.stack.html),\n",
    "another tensor joining operator that is subtly different from ``torch.cat``.\n",
    "\n"
   ]
  },
  {
   "cell_type": "code",
   "execution_count": 10,
   "id": "1446cc64",
   "metadata": {
    "ExecuteTime": {
     "end_time": "2023-11-11T18:39:57.831253300Z",
     "start_time": "2023-11-11T18:39:57.810758Z"
    }
   },
   "outputs": [
    {
     "name": "stdout",
     "output_type": "stream",
     "text": [
      "tensor([[1., 0., 1., 1., 1., 0., 1., 1., 1., 0., 1., 1.],\n",
      "        [1., 0., 1., 1., 1., 0., 1., 1., 1., 0., 1., 1.],\n",
      "        [1., 0., 1., 1., 1., 0., 1., 1., 1., 0., 1., 1.],\n",
      "        [1., 0., 1., 1., 1., 0., 1., 1., 1., 0., 1., 1.]])\n"
     ]
    }
   ],
   "source": [
    "t1 = torch.cat([tensor, tensor, tensor], dim=1)\n",
    "print(t1)"
   ]
  },
  {
   "cell_type": "markdown",
   "id": "fdf10707",
   "metadata": {},
   "source": [
    "**Arithmetic operations**\n",
    "\n"
   ]
  },
  {
   "cell_type": "code",
   "execution_count": 13,
   "id": "152f06b283960987",
   "metadata": {
    "ExecuteTime": {
     "end_time": "2023-11-11T18:41:49.331920900Z",
     "start_time": "2023-11-11T18:41:49.302614800Z"
    }
   },
   "outputs": [
    {
     "data": {
      "text/plain": "tensor([[3., 3., 3., 3.],\n        [3., 3., 3., 3.],\n        [3., 3., 3., 3.],\n        [3., 3., 3., 3.]])"
     },
     "execution_count": 13,
     "metadata": {},
     "output_type": "execute_result"
    }
   ],
   "source": [
    "# This computes the matrix multiplication between two tensors. y1, y2, y3 will have the same value\n",
    "# ``tensor.T`` returns the transpose of a tensor\n",
    "y1 = tensor @ tensor.T\n",
    "\n",
    "y2 = tensor.matmul(tensor.T)\n",
    "\n",
    "y3 = torch.rand_like(y1)\n",
    "torch.matmul(tensor, tensor.T, out=y3)\n",
    "\n",
    "y3"
   ]
  },
  {
   "cell_type": "code",
   "execution_count": 14,
   "outputs": [
    {
     "data": {
      "text/plain": "tensor([[1., 0., 1., 1.],\n        [1., 0., 1., 1.],\n        [1., 0., 1., 1.],\n        [1., 0., 1., 1.]])"
     },
     "execution_count": 14,
     "metadata": {},
     "output_type": "execute_result"
    }
   ],
   "source": [
    "# This computes the element-wise product. z1, z2, z3 will have the same value\n",
    "z1 = tensor * tensor\n",
    "\n",
    "z2 = tensor.mul(tensor)\n",
    "\n",
    "z3 = torch.rand_like(tensor)\n",
    "torch.mul(tensor, tensor, out=z3)\n",
    "\n",
    "z3"
   ],
   "metadata": {
    "collapsed": false,
    "ExecuteTime": {
     "end_time": "2023-11-11T18:41:55.469447Z",
     "start_time": "2023-11-11T18:41:55.449542200Z"
    }
   },
   "id": "87863a4f"
  },
  {
   "cell_type": "markdown",
   "id": "f0f10deb",
   "metadata": {},
   "source": [
    "**Tensor to Numerical value** \n",
    "\n",
    "If you have a one-element tensor, for example by aggregating all\n",
    "values of a tensor into one value, you can convert it to a Python\n",
    "numerical value using ``item()``:\n",
    "\n"
   ]
  },
  {
   "cell_type": "code",
   "execution_count": 18,
   "id": "d067e5c3",
   "metadata": {
    "ExecuteTime": {
     "end_time": "2023-11-11T18:44:24.017251200Z",
     "start_time": "2023-11-11T18:44:24.002933Z"
    }
   },
   "outputs": [
    {
     "name": "stdout",
     "output_type": "stream",
     "text": [
      "92.0 <class 'float'>\n"
     ]
    }
   ],
   "source": [
    "agg = tensor.sum()\n",
    "agg_item = agg.item()\n",
    "print(agg_item, type(agg_item))"
   ]
  },
  {
   "cell_type": "markdown",
   "id": "35077eb6",
   "metadata": {},
   "source": [
    "**In-place operations**\n",
    "\n",
    "\n",
    "Operations that store the result into the operand are called in-place. They are denoted by a ``_`` suffix.\n",
    "For example: ``x.copy_(y)``, ``x.t_()``, will change ``x``.\n",
    "\n",
    "<div class=\"alert alert-info\"><h4>Note</h4><p>In-place operations save some memory, but can be problematic when computing derivatives because of an immediate loss of history. Hence, their use is discouraged.</p></div>"
   ]
  },
  {
   "cell_type": "code",
   "execution_count": 17,
   "id": "5254a3e3",
   "metadata": {
    "ExecuteTime": {
     "end_time": "2023-11-11T18:44:22.098649300Z",
     "start_time": "2023-11-11T18:44:22.078676700Z"
    }
   },
   "outputs": [
    {
     "name": "stdout",
     "output_type": "stream",
     "text": [
      "tensor([[1., 0., 1., 1.],\n",
      "        [1., 0., 1., 1.],\n",
      "        [1., 0., 1., 1.],\n",
      "        [1., 0., 1., 1.]]) \n",
      "\n",
      "tensor([[6., 5., 6., 6.],\n",
      "        [6., 5., 6., 6.],\n",
      "        [6., 5., 6., 6.],\n",
      "        [6., 5., 6., 6.]])\n"
     ]
    }
   ],
   "source": [
    "print(f\"{tensor} \\n\")\n",
    "tensor.add_(5)\n",
    "print(tensor)"
   ]
  },
  {
   "cell_type": "markdown",
   "id": "7b9327d5",
   "metadata": {},
   "source": [
    "\n",
    "### 1.4 Bridge with NumPy\n",
    "Tensors on the CPU and NumPy arrays can share their underlying memory\n",
    "locations, and changing one will change\tthe other.\n",
    "\n"
   ]
  },
  {
   "cell_type": "markdown",
   "id": "d202640c",
   "metadata": {},
   "source": [
    "### Tensor to NumPy array\n",
    "\n"
   ]
  },
  {
   "cell_type": "code",
   "execution_count": 16,
   "id": "bbed23e0",
   "metadata": {
    "ExecuteTime": {
     "end_time": "2023-11-11T18:44:19.220822200Z",
     "start_time": "2023-11-11T18:44:19.208228500Z"
    }
   },
   "outputs": [
    {
     "name": "stdout",
     "output_type": "stream",
     "text": [
      "t: tensor([1., 1., 1., 1., 1.])\n",
      "n: [1. 1. 1. 1. 1.]\n"
     ]
    }
   ],
   "source": [
    "t = torch.ones(5)\n",
    "print(f\"t: {t}\")\n",
    "n = t.numpy()\n",
    "print(f\"n: {n}\")"
   ]
  },
  {
   "cell_type": "markdown",
   "id": "1a752628",
   "metadata": {},
   "source": [
    "A change in the tensor reflects in the NumPy array.\n",
    "\n"
   ]
  },
  {
   "cell_type": "code",
   "execution_count": 14,
   "id": "e3d0bc8c",
   "metadata": {},
   "outputs": [
    {
     "name": "stdout",
     "output_type": "stream",
     "text": [
      "t: tensor([2., 2., 2., 2., 2.])\n",
      "n: [2. 2. 2. 2. 2.]\n"
     ]
    }
   ],
   "source": [
    "t.add_(1)\n",
    "print(f\"t: {t}\")\n",
    "print(f\"n: {n}\")"
   ]
  },
  {
   "cell_type": "markdown",
   "id": "5d03912a",
   "metadata": {},
   "source": [
    "### NumPy array to Tensor\n",
    "\n"
   ]
  },
  {
   "cell_type": "code",
   "execution_count": 19,
   "id": "5d62e7b5",
   "metadata": {
    "ExecuteTime": {
     "end_time": "2023-11-11T18:44:37.179298200Z",
     "start_time": "2023-11-11T18:44:37.155669100Z"
    }
   },
   "outputs": [],
   "source": [
    "n = np.ones(5)\n",
    "t = torch.from_numpy(n)"
   ]
  },
  {
   "cell_type": "markdown",
   "id": "1efdb8c2",
   "metadata": {},
   "source": [
    "Changes in the NumPy array reflects in the tensor.\n",
    "\n"
   ]
  },
  {
   "cell_type": "code",
   "execution_count": 16,
   "id": "54bfed06",
   "metadata": {},
   "outputs": [
    {
     "name": "stdout",
     "output_type": "stream",
     "text": [
      "t: tensor([2., 2., 2., 2., 2.], dtype=torch.float64)\n",
      "n: [2. 2. 2. 2. 2.]\n"
     ]
    }
   ],
   "source": [
    "np.add(n, 1, out=n)\n",
    "print(f\"t: {t}\")\n",
    "print(f\"n: {n}\")"
   ]
  },
  {
   "cell_type": "markdown",
   "id": "e7fd48d3",
   "metadata": {},
   "source": [
    "## 2. Datasets & DataLoaders"
   ]
  },
  {
   "cell_type": "markdown",
   "id": "a0e59697",
   "metadata": {},
   "source": [
    "Code for processing data samples can get messy and hard to maintain; we ideally want our dataset code\n",
    "to be decoupled from our model training code for better readability and modularity.\n",
    "PyTorch provides two data primitives: ``torch.utils.data.DataLoader`` and ``torch.utils.data.Dataset``\n",
    "that allow you to use pre-loaded datasets as well as your own data.\n",
    "``Dataset`` stores the samples and their corresponding labels, and ``DataLoader`` wraps an iterable around\n",
    "the ``Dataset`` to enable easy access to the samples.\n",
    "\n",
    "PyTorch domain libraries provide a number of pre-loaded datasets (such as FashionMNIST) that\n",
    "subclass ``torch.utils.data.Dataset`` and implement functions specific to the particular data.\n",
    "They can be used to prototype and benchmark your model. You can find them\n",
    "here: [Image Datasets](https://pytorch.org/vision/stable/datasets.html),\n",
    "[Text Datasets](https://pytorch.org/text/stable/datasets.html), and\n",
    "[Audio Datasets](https://pytorch.org/audio/stable/datasets.html)\n",
    "\n",
    "\n"
   ]
  },
  {
   "cell_type": "markdown",
   "id": "d2d77d1a",
   "metadata": {},
   "source": [
    "### 2.1 Loading a Dataset\n",
    "\n",
    "Here is an example of how to load the [Fashion-MNIST](https://research.zalando.com/project/fashion_mnist/fashion_mnist/) dataset from TorchVision.\n",
    "Fashion-MNIST is a dataset of Zalando’s article images consisting of 60,000 training examples and 10,000 test examples.\n",
    "Each example comprises a 28×28 grayscale image and an associated label from one of 10 classes.\n",
    "\n",
    "We load the [FashionMNIST Dataset](https://pytorch.org/vision/stable/datasets.html#fashion-mnist) with the following parameters:\n",
    " - ``root`` is the path where the train/test data is stored,\n",
    " - ``train`` specifies training or test dataset,\n",
    " - ``download=True`` downloads the data from the internet if it's not available at ``root``.\n",
    " - ``transform`` and ``target_transform`` specify the feature and label transformations"
   ]
  },
  {
   "cell_type": "code",
   "execution_count": 21,
   "id": "fef1f853",
   "metadata": {
    "ExecuteTime": {
     "end_time": "2023-11-11T18:47:41.123690700Z",
     "start_time": "2023-11-11T18:47:40.388209300Z"
    }
   },
   "outputs": [],
   "source": [
    "import torch\n",
    "from torch.utils.data import Dataset\n",
    "from torchvision import datasets\n",
    "from torchvision.transforms import ToTensor\n",
    "import matplotlib.pyplot as plt\n",
    "\n",
    "\n",
    "training_data = datasets.FashionMNIST(\n",
    "    root=\"data\",\n",
    "    train=True,\n",
    "    download=True,\n",
    "    transform=ToTensor()\n",
    ")\n",
    "\n",
    "test_data = datasets.FashionMNIST(\n",
    "    root=\"data\",\n",
    "    train=False,\n",
    "    download=True,\n",
    "    transform=ToTensor()\n",
    ")"
   ]
  },
  {
   "cell_type": "markdown",
   "id": "7e1c46f8",
   "metadata": {},
   "source": [
    "### 2.2 Iterating and Visualizing the Dataset\n",
    "\n",
    "We can index ``Datasets`` manually like a list: ``training_data[index]``.\n",
    "We use ``matplotlib`` to visualize some samples in our training data."
   ]
  },
  {
   "cell_type": "code",
   "execution_count": 22,
   "id": "684230e4",
   "metadata": {
    "ExecuteTime": {
     "end_time": "2023-11-11T18:47:42.737668400Z",
     "start_time": "2023-11-11T18:47:42.597087200Z"
    }
   },
   "outputs": [
    {
     "data": {
      "text/plain": "<Figure size 500x500 with 9 Axes>",
      "image/png": "[encoded data removed]"
     },
     "metadata": {},
     "output_type": "display_data"
    }
   ],
   "source": [
    "labels_map = {\n",
    "    0: \"T-Shirt\",\n",
    "    1: \"Trouser\",\n",
    "    2: \"Pullover\",\n",
    "    3: \"Dress\",\n",
    "    4: \"Coat\",\n",
    "    5: \"Sandal\",\n",
    "    6: \"Shirt\",\n",
    "    7: \"Sneaker\",\n",
    "    8: \"Bag\",\n",
    "    9: \"Ankle Boot\",\n",
    "}\n",
    "figure = plt.figure(figsize=(5, 5))\n",
    "cols, rows = 3, 3\n",
    "for i in range(1, cols * rows + 1):\n",
    "    sample_idx = torch.randint(len(training_data), size=(1,)).item()\n",
    "    img, label = training_data[sample_idx]\n",
    "    figure.add_subplot(rows, cols, i)\n",
    "    plt.title(labels_map[label])\n",
    "    plt.axis(\"off\")\n",
    "    plt.imshow(img.squeeze(), cmap=\"gray\")\n",
    "plt.show()"
   ]
  },
  {
   "cell_type": "markdown",
   "id": "4be8486b",
   "metadata": {},
   "source": [
    "### 2.3 DataLoader\n",
    "The ``Dataset`` retrieves our dataset's features and labels one sample at a time. While training a model, we typically want to\n",
    "pass samples in \"minibatches\", reshuffle the data at every epoch to reduce model overfitting, and use Python's ``multiprocessing`` to\n",
    "speed up data retrieval.\n",
    "\n",
    "``DataLoader`` is an iterable that abstracts this complexity for us in an easy API.\n",
    "\n"
   ]
  },
  {
   "cell_type": "code",
   "execution_count": 23,
   "id": "9bedc97f",
   "metadata": {
    "ExecuteTime": {
     "end_time": "2023-11-11T18:47:46.818078800Z",
     "start_time": "2023-11-11T18:47:46.802572600Z"
    }
   },
   "outputs": [],
   "source": [
    "from torch.utils.data import DataLoader\n",
    "\n",
    "train_dataloader = DataLoader(training_data, batch_size=64, shuffle=True)\n",
    "test_dataloader = DataLoader(test_data, batch_size=64, shuffle=True)"
   ]
  },
  {
   "cell_type": "markdown",
   "id": "85f500b5",
   "metadata": {},
   "source": [
    "We have loaded that dataset into the ``DataLoader`` and can iterate through the dataset as needed.\n",
    "Each iteration below returns a batch of ``train_features`` and ``train_labels`` (containing ``batch_size=64`` features and labels respectively).\n",
    "Because we specified ``shuffle=True``, after we iterate over all batches the data is shuffled (for finer-grained control over\n",
    "the data loading order, take a look at [Samplers](https://pytorch.org/docs/stable/data.html#data-loading-order-and-sampler))."
   ]
  },
  {
   "cell_type": "code",
   "execution_count": 27,
   "id": "83ca4dbe",
   "metadata": {
    "ExecuteTime": {
     "end_time": "2023-11-11T18:49:20.030018100Z",
     "start_time": "2023-11-11T18:49:19.955145800Z"
    }
   },
   "outputs": [
    {
     "name": "stdout",
     "output_type": "stream",
     "text": [
      "Feature batch shape: torch.Size([64, 1, 28, 28])\n",
      "Labels batch shape: torch.Size([64])\n"
     ]
    },
    {
     "data": {
      "text/plain": "<Figure size 250x250 with 1 Axes>",
      "image/png": "[encoded data removed]"
     },
     "metadata": {},
     "output_type": "display_data"
    },
    {
     "name": "stdout",
     "output_type": "stream",
     "text": [
      "Label: 2\n"
     ]
    }
   ],
   "source": [
    "# Display image and label.\n",
    "train_features, train_labels = next(iter(train_dataloader))\n",
    "print(f\"Feature batch shape: {train_features.size()}\")\n",
    "print(f\"Labels batch shape: {train_labels.size()}\")\n",
    "img = train_features[0].squeeze()\n",
    "label = train_labels[0]\n",
    "plt.figure(figsize=(2.5, 2.5))\n",
    "plt.imshow(img, cmap=\"grey\")\n",
    "plt.show()\n",
    "print(f\"Label: {label}\")"
   ]
  },
  {
   "cell_type": "markdown",
   "id": "697c54ef",
   "metadata": {},
   "source": [
    "## 3. Build the Neural Network\n",
    "\n",
    "Neural networks comprise of layers/modules that perform operations on data.\n",
    "The [torch.nn](https://pytorch.org/docs/stable/nn.html) namespace provides all the building blocks you need to\n",
    "build your own neural network. Every module in PyTorch subclasses the [nn.Module](https://pytorch.org/docs/stable/generated/torch.nn.Module.html).\n",
    "A neural network is a module itself that consists of other modules (layers). This nested structure allows for\n",
    "building and managing complex architectures easily."
   ]
  },
  {
   "cell_type": "code",
   "execution_count": 28,
   "id": "577406d1",
   "metadata": {
    "ExecuteTime": {
     "end_time": "2023-11-11T18:49:49.436758800Z",
     "start_time": "2023-11-11T18:49:49.413104300Z"
    }
   },
   "outputs": [],
   "source": [
    "import os\n",
    "import torch\n",
    "from torch import nn, optim\n",
    "from torch.utils.data import DataLoader\n",
    "from torchvision import datasets, transforms"
   ]
  },
  {
   "cell_type": "markdown",
   "id": "c0ae9f30",
   "metadata": {},
   "source": [
    "### 3.1 Get Device for Training\n",
    "We want to be able to train our model on a hardware accelerator like the GPU or MPS,\n",
    "if available. Let's check to see if [torch.cuda](https://pytorch.org/docs/stable/notes/cuda.html)\n",
    "or [torch.backends.mps](https://pytorch.org/docs/stable/notes/mps.html) are available, otherwise we use the CPU."
   ]
  },
  {
   "cell_type": "code",
   "execution_count": 29,
   "id": "20c6433c",
   "metadata": {
    "ExecuteTime": {
     "end_time": "2023-11-11T18:49:50.808154100Z",
     "start_time": "2023-11-11T18:49:50.784366900Z"
    }
   },
   "outputs": [
    {
     "name": "stdout",
     "output_type": "stream",
     "text": [
      "Using cuda device\n"
     ]
    }
   ],
   "source": [
    "device = (\n",
    "    \"cuda\"\n",
    "    if torch.cuda.is_available()\n",
    "    else \"mps\"\n",
    "    if torch.backends.mps.is_available()\n",
    "    else \"cpu\"\n",
    ")\n",
    "print(f\"Using {device} device\")"
   ]
  },
  {
   "cell_type": "markdown",
   "id": "8f5366c5",
   "metadata": {},
   "source": [
    "### 3.2 Define the Model\n",
    "We define our neural network by subclassing ``nn.Module``, and\n",
    "initialize the neural network layers in ``__init__``. Every ``nn.Module`` subclass implements\n",
    "the operations on input data in the ``forward`` method."
   ]
  },
  {
   "cell_type": "code",
   "execution_count": 30,
   "id": "916dd94c",
   "metadata": {
    "ExecuteTime": {
     "end_time": "2023-11-11T18:49:55.584363600Z",
     "start_time": "2023-11-11T18:49:55.569653800Z"
    }
   },
   "outputs": [],
   "source": [
    "class NeuralNetwork(nn.Module):\n",
    "    def __init__(self):\n",
    "        super().__init__()\n",
    "        self.flatten = nn.Flatten()\n",
    "        self.linear_relu_stack = nn.Sequential(\n",
    "            nn.Linear(28*28, 512),\n",
    "            nn.ReLU(),\n",
    "            nn.Linear(512, 512),\n",
    "            nn.ReLU(),\n",
    "            nn.Linear(512, 10),\n",
    "        )\n",
    "\n",
    "    def forward(self, x):\n",
    "        x = self.flatten(x)\n",
    "        logits = self.linear_relu_stack(x)\n",
    "        return logits"
   ]
  },
  {
   "cell_type": "markdown",
   "id": "fc1e1dbe",
   "metadata": {},
   "source": [
    "We create an instance of ``NeuralNetwork``, and move it to the ``device``, and print\n",
    "its structure."
   ]
  },
  {
   "cell_type": "code",
   "execution_count": 32,
   "id": "ad766640",
   "metadata": {
    "ExecuteTime": {
     "end_time": "2023-11-11T18:54:22.146292700Z",
     "start_time": "2023-11-11T18:54:22.125542500Z"
    }
   },
   "outputs": [
    {
     "name": "stdout",
     "output_type": "stream",
     "text": [
      "NeuralNetwork(\n",
      "  (flatten): Flatten(start_dim=1, end_dim=-1)\n",
      "  (linear_relu_stack): Sequential(\n",
      "    (0): Linear(in_features=784, out_features=512, bias=True)\n",
      "    (1): ReLU()\n",
      "    (2): Linear(in_features=512, out_features=512, bias=True)\n",
      "    (3): ReLU()\n",
      "    (4): Linear(in_features=512, out_features=10, bias=True)\n",
      "  )\n",
      ")\n"
     ]
    }
   ],
   "source": [
    "model = NeuralNetwork().to(device)\n",
    "print(model)"
   ]
  },
  {
   "cell_type": "markdown",
   "id": "a96a7033",
   "metadata": {},
   "source": [
    "To use the model, we pass it the input data. This executes the model's ``forward``,\n",
    "along with some [background operations](https://github.com/pytorch/pytorch/blob/270111b7b611d174967ed204776985cefca9c144/torch/nn/modules/module.py#L866).\n",
    "Do not call ``model.forward()`` directly!\n",
    "\n",
    "Calling the model on the input returns a 2-dimensional tensor with dim=0 corresponding to each output of 10 raw predicted values for each class, and dim=1 corresponding to the individual values of each output.\n",
    "We get the prediction probabilities by passing it through an instance of the ``nn.Softmax`` module.\n",
    "\n"
   ]
  },
  {
   "cell_type": "code",
   "execution_count": 33,
   "id": "c2914a63",
   "metadata": {
    "ExecuteTime": {
     "end_time": "2023-11-11T18:54:24.900088100Z",
     "start_time": "2023-11-11T18:54:24.841937700Z"
    }
   },
   "outputs": [
    {
     "name": "stdout",
     "output_type": "stream",
     "text": [
      "Predicted class: tensor([8], device='cuda:0')\n"
     ]
    }
   ],
   "source": [
    "X = torch.rand(1, 28, 28, device=device)\n",
    "logits = model(X)\n",
    "pred_probab = nn.Softmax(dim=1)(logits)\n",
    "y_pred = pred_probab.argmax(1)\n",
    "print(f\"Predicted class: {y_pred}\")"
   ]
  },
  {
   "cell_type": "markdown",
   "id": "93815837",
   "metadata": {},
   "source": [
    "### 3.3 Model Layers\n",
    "\n",
    "Let's break down the layers in the model. To illustrate it, we\n",
    "will take a sample minibatch of 3 images of size 28x28 and see what happens to it as\n",
    "we pass it through the network.\n",
    "\n"
   ]
  },
  {
   "cell_type": "code",
   "execution_count": 34,
   "id": "b93cc158",
   "metadata": {
    "ExecuteTime": {
     "end_time": "2023-11-11T18:54:37.367421100Z",
     "start_time": "2023-11-11T18:54:37.347536400Z"
    }
   },
   "outputs": [
    {
     "name": "stdout",
     "output_type": "stream",
     "text": [
      "torch.Size([3, 28, 28])\n"
     ]
    }
   ],
   "source": [
    "input_image = torch.rand(3,28,28)\n",
    "print(input_image.size())"
   ]
  },
  {
   "cell_type": "markdown",
   "id": "60e2d854",
   "metadata": {},
   "source": [
    "### nn.Flatten\n",
    "We initialize the [nn.Flatten](https://pytorch.org/docs/stable/generated/torch.nn.Flatten.html)\n",
    "layer to convert each 2D 28x28 image into a contiguous array of 784 pixel values (\n",
    "the minibatch dimension (at dim=0) is maintained).\n",
    "\n"
   ]
  },
  {
   "cell_type": "code",
   "execution_count": 35,
   "id": "cc6d1ef7",
   "metadata": {
    "ExecuteTime": {
     "end_time": "2023-11-11T18:54:40.071691200Z",
     "start_time": "2023-11-11T18:54:40.057035100Z"
    }
   },
   "outputs": [
    {
     "name": "stdout",
     "output_type": "stream",
     "text": [
      "torch.Size([3, 784])\n"
     ]
    }
   ],
   "source": [
    "flatten = nn.Flatten()\n",
    "flat_image = flatten(input_image)\n",
    "print(flat_image.size())"
   ]
  },
  {
   "cell_type": "markdown",
   "id": "6d989a6d",
   "metadata": {},
   "source": [
    "### nn.Linear\n",
    "The [linear layer](https://pytorch.org/docs/stable/generated/torch.nn.Linear.html)\n",
    "is a module that applies a linear transformation on the input using its stored weights and biases.\n",
    "\n",
    "\n"
   ]
  },
  {
   "cell_type": "code",
   "execution_count": 36,
   "id": "525e6ab5",
   "metadata": {
    "ExecuteTime": {
     "end_time": "2023-11-11T18:54:42.494855Z",
     "start_time": "2023-11-11T18:54:42.467436200Z"
    }
   },
   "outputs": [
    {
     "name": "stdout",
     "output_type": "stream",
     "text": [
      "torch.Size([3, 20])\n"
     ]
    }
   ],
   "source": [
    "layer1 = nn.Linear(in_features=784, out_features=20)\n",
    "hidden1 = layer1(flat_image)\n",
    "print(hidden1.size())"
   ]
  },
  {
   "cell_type": "markdown",
   "id": "f1862739",
   "metadata": {},
   "source": [
    "### nn.ReLU\n",
    "Non-linear activations are what create the complex mappings between the model's inputs and outputs.\n",
    "They are applied after linear transformations to introduce *nonlinearity*, helping neural networks\n",
    "learn a wide variety of phenomena.\n",
    "\n",
    "In this model, we use [nn.ReLU](https://pytorch.org/docs/stable/generated/torch.nn.ReLU.html) between our\n",
    "linear layers, but there's other activations to introduce non-linearity in your model.\n",
    "\n"
   ]
  },
  {
   "cell_type": "code",
   "execution_count": 37,
   "id": "f67fd357",
   "metadata": {
    "ExecuteTime": {
     "end_time": "2023-11-11T18:55:22.246298100Z",
     "start_time": "2023-11-11T18:55:22.225914700Z"
    }
   },
   "outputs": [
    {
     "name": "stdout",
     "output_type": "stream",
     "text": [
      "Before ReLU: tensor([[ 0.3486,  0.3143,  0.4752,  0.2239, -0.3579, -0.0044,  0.1958, -0.0472,\n",
      "         -0.1745, -0.0357,  0.4050, -0.6057,  0.2287, -0.2568,  0.2097,  0.7570,\n",
      "          0.4486, -0.0344, -0.1840, -0.1442],\n",
      "        [ 0.0659,  0.4882,  0.4838,  0.5490, -0.5255,  0.5314, -0.2983, -0.2924,\n",
      "         -0.0275,  0.2360, -0.3357, -0.3960, -0.1659, -0.4229,  0.1855,  0.7961,\n",
      "          0.3848, -0.1403, -0.0472, -0.0035],\n",
      "        [-0.1609,  0.8697,  0.5573,  0.6484, -0.1698,  0.2103, -0.0971, -0.5096,\n",
      "          0.2671, -0.2550,  0.0251, -0.5238,  0.2735, -0.1673,  0.0925,  0.7170,\n",
      "          0.0510,  0.0529, -0.2946, -0.1282]], grad_fn=<AddmmBackward0>)\n",
      "\n",
      "\n",
      "After ReLU: tensor([[0.3486, 0.3143, 0.4752, 0.2239, 0.0000, 0.0000, 0.1958, 0.0000, 0.0000,\n",
      "         0.0000, 0.4050, 0.0000, 0.2287, 0.0000, 0.2097, 0.7570, 0.4486, 0.0000,\n",
      "         0.0000, 0.0000],\n",
      "        [0.0659, 0.4882, 0.4838, 0.5490, 0.0000, 0.5314, 0.0000, 0.0000, 0.0000,\n",
      "         0.2360, 0.0000, 0.0000, 0.0000, 0.0000, 0.1855, 0.7961, 0.3848, 0.0000,\n",
      "         0.0000, 0.0000],\n",
      "        [0.0000, 0.8697, 0.5573, 0.6484, 0.0000, 0.2103, 0.0000, 0.0000, 0.2671,\n",
      "         0.0000, 0.0251, 0.0000, 0.2735, 0.0000, 0.0925, 0.7170, 0.0510, 0.0529,\n",
      "         0.0000, 0.0000]], grad_fn=<ReluBackward0>)\n"
     ]
    }
   ],
   "source": [
    "print(f\"Before ReLU: {hidden1}\\n\\n\")\n",
    "hidden1 = nn.ReLU()(hidden1)\n",
    "print(f\"After ReLU: {hidden1}\")"
   ]
  },
  {
   "cell_type": "markdown",
   "id": "879d22bf",
   "metadata": {},
   "source": [
    "### nn.Sequential\n",
    "[nn.Sequential](https://pytorch.org/docs/stable/generated/torch.nn.Sequential.html) is an ordered\n",
    "container of modules. The data is passed through all the modules in the same order as defined. You can use\n",
    "sequential containers to put together a quick network like ``seq_modules``.\n",
    "\n"
   ]
  },
  {
   "cell_type": "code",
   "execution_count": 38,
   "id": "8019b021",
   "metadata": {
    "ExecuteTime": {
     "end_time": "2023-11-11T18:55:26.808932500Z",
     "start_time": "2023-11-11T18:55:26.785031900Z"
    }
   },
   "outputs": [],
   "source": [
    "seq_modules = nn.Sequential(\n",
    "    flatten,\n",
    "    layer1,\n",
    "    nn.ReLU(),\n",
    "    nn.Linear(20, 10)\n",
    ")\n",
    "input_image = torch.rand(3,28,28)\n",
    "logits = seq_modules(input_image)"
   ]
  },
  {
   "cell_type": "markdown",
   "id": "685fe1d9",
   "metadata": {},
   "source": [
    "### nn.Softmax\n",
    "The last linear layer of the neural network returns `logits` - raw values in [-\\infty, \\infty] - which are passed to the\n",
    "[nn.Softmax](https://pytorch.org/docs/stable/generated/torch.nn.Softmax.html) module. The logits are scaled to values\n",
    "[0, 1] representing the model's predicted probabilities for each class. ``dim`` parameter indicates the dimension along\n",
    "which the values must sum to 1.\n",
    "\n"
   ]
  },
  {
   "cell_type": "code",
   "execution_count": 39,
   "id": "e8173ea0",
   "metadata": {
    "scrolled": true,
    "ExecuteTime": {
     "end_time": "2023-11-11T18:56:02.036886800Z",
     "start_time": "2023-11-11T18:56:02.015522300Z"
    }
   },
   "outputs": [
    {
     "name": "stdout",
     "output_type": "stream",
     "text": [
      "tensor([[0.0812, 0.0968, 0.0905, 0.1099, 0.1298, 0.0748, 0.1007, 0.0926, 0.0900,\n",
      "         0.1337],\n",
      "        [0.0913, 0.0853, 0.1036, 0.1119, 0.1148, 0.0781, 0.1051, 0.0952, 0.0928,\n",
      "         0.1221],\n",
      "        [0.0860, 0.1050, 0.0944, 0.1003, 0.1304, 0.0705, 0.1014, 0.1077, 0.0862,\n",
      "         0.1183]], grad_fn=<SoftmaxBackward0>)\n"
     ]
    }
   ],
   "source": [
    "softmax = nn.Softmax(dim=1)\n",
    "pred_probab = softmax(logits)\n",
    "\n",
    "print(pred_probab)"
   ]
  },
  {
   "cell_type": "markdown",
   "id": "766f6c3b",
   "metadata": {},
   "source": [
    "## 4. Automatic Differentiation with ``torch.autograd``\n",
    "\n",
    "When training neural networks, the most frequently used algorithm is\n",
    "**back propagation**. In this algorithm, parameters (model weights) are\n",
    "adjusted according to the **gradient** of the loss function with respect\n",
    "to the given parameter.\n",
    "\n",
    "To compute those gradients, PyTorch has a built-in differentiation engine\n",
    "called ``torch.autograd``. It supports automatic computation of gradient for any\n",
    "computational graph.\n",
    "\n",
    "Consider the simplest one-layer neural network, with input ``x``,\n",
    "parameters ``w`` and ``b``, and some loss function. It can be defined in\n",
    "PyTorch in the following manner:\n"
   ]
  },
  {
   "cell_type": "code",
   "execution_count": 40,
   "id": "f7661d6f",
   "metadata": {
    "ExecuteTime": {
     "end_time": "2023-11-11T18:56:04.672119Z",
     "start_time": "2023-11-11T18:56:04.659314500Z"
    }
   },
   "outputs": [],
   "source": [
    "import torch\n",
    "\n",
    "x = torch.ones(5)  # input tensor\n",
    "y = torch.zeros(3)  # expected output\n",
    "w = torch.randn(5, 3, requires_grad=True)\n",
    "b = torch.randn(3, requires_grad=True)\n",
    "z = torch.matmul(x, w)+b\n",
    "loss = torch.nn.functional.binary_cross_entropy_with_logits(z, y)"
   ]
  },
  {
   "attachments": {
    "image.png": {
     "image/png": "[encoded data removed]"
    }
   },
   "cell_type": "markdown",
   "id": "d1cc1e05",
   "metadata": {},
   "source": [
    "### Tensors, Functions and Computational graph\n",
    "\n",
    "This code defines the following **computational graph**:\n",
    "\n",
    "![image.png](attachment:image.png)\n",
    "\n",
    "In this network, ``w`` and ``b`` are **parameters**, which we need to\n",
    "optimize. Thus, we need to be able to compute the gradients of loss\n",
    "function with respect to those variables. In order to do that, we set\n",
    "the ``requires_grad`` property of those tensors.\n",
    "\n"
   ]
  },
  {
   "cell_type": "markdown",
   "id": "0590ecea",
   "metadata": {},
   "source": [
    "<div class=\"alert alert-info\"><h4>Note</h4><p>You can set the value of ``requires_grad`` when creating a\n",
    "          tensor, or later by using ``x.requires_grad_(True)`` method.</p></div>\n",
    "\n"
   ]
  },
  {
   "cell_type": "markdown",
   "id": "4a1651de",
   "metadata": {},
   "source": [
    "A function that we apply to tensors to construct computational graph is\n",
    "in fact an object of class ``Function``. This object knows how to\n",
    "compute the function in the *forward* direction, and also how to compute\n",
    "its derivative during the *backward propagation* step. A reference to\n",
    "the backward propagation function is stored in ``grad_fn`` property of a\n",
    "tensor. You can find more information of ``Function`` [in the\n",
    "documentation](https://pytorch.org/docs/stable/autograd.html#function)_.\n",
    "\n",
    "\n"
   ]
  },
  {
   "cell_type": "code",
   "execution_count": 45,
   "id": "0cdc9c27",
   "metadata": {
    "ExecuteTime": {
     "end_time": "2023-11-11T18:56:23.131670200Z",
     "start_time": "2023-11-11T18:56:23.112919500Z"
    }
   },
   "outputs": [
    {
     "name": "stdout",
     "output_type": "stream",
     "text": [
      "Gradient function for z = <AddBackward0 object at 0x00000207C7043550>\n",
      "Gradient function for loss = <BinaryCrossEntropyWithLogitsBackward0 object at 0x00000207C6E9C3D0>\n"
     ]
    }
   ],
   "source": [
    "print(f\"Gradient function for z = {z.grad_fn}\")\n",
    "print(f\"Gradient function for loss = {loss.grad_fn}\")"
   ]
  },
  {
   "cell_type": "markdown",
   "id": "4f68fd0d",
   "metadata": {},
   "source": [
    "### Computing Gradients\n",
    "\n",
    "To optimize weights of parameters in the neural network, we need to\n",
    "compute the derivatives of our loss function with respect to parameters,\n",
    "namely, we need $\\frac{\\partial loss}{\\partial w}$ and\n",
    "$\\frac{\\partial loss}{\\partial b}$ under some fixed values of\n",
    "``x`` and ``y``. To compute those derivatives, we call\n",
    "``loss.backward()``, and then retrieve the values from ``w.grad`` and\n",
    "``b.grad``:\n",
    "\n",
    "\n"
   ]
  },
  {
   "cell_type": "code",
   "execution_count": 1,
   "id": "e03469ab",
   "metadata": {
    "ExecuteTime": {
     "end_time": "2023-11-12T16:42:43.903566Z",
     "start_time": "2023-11-12T16:42:43.674109100Z"
    }
   },
   "outputs": [
    {
     "ename": "NameError",
     "evalue": "name 'loss' is not defined",
     "output_type": "error",
     "traceback": [
      "\u001B[1;31m---------------------------------------------------------------------------\u001B[0m",
      "\u001B[1;31mNameError\u001B[0m                                 Traceback (most recent call last)",
      "Cell \u001B[1;32mIn[1], line 1\u001B[0m\n\u001B[1;32m----> 1\u001B[0m \u001B[43mloss\u001B[49m\u001B[38;5;241m.\u001B[39mbackward()\n\u001B[0;32m      2\u001B[0m \u001B[38;5;28mprint\u001B[39m(w\u001B[38;5;241m.\u001B[39mgrad)\n\u001B[0;32m      3\u001B[0m \u001B[38;5;28mprint\u001B[39m(b\u001B[38;5;241m.\u001B[39mgrad)\n",
      "\u001B[1;31mNameError\u001B[0m: name 'loss' is not defined"
     ]
    }
   ],
   "source": [
    "loss.backward()\n",
    "print(w.grad)\n",
    "print(b.grad)"
   ]
  },
  {
   "cell_type": "markdown",
   "id": "8e02ca3c",
   "metadata": {},
   "source": [
    "<div class=\"alert alert-info\"><h4>Note</h4><p>- We can only obtain the ``grad`` properties for the leaf\n",
    "    nodes of the computational graph, which have ``requires_grad`` property\n",
    "    set to ``True``. For all other nodes in our graph, gradients will not be\n",
    "    available.\n",
    "  - We can only perform gradient calculations using\n",
    "    ``backward`` once on a given graph, for performance reasons. If we need\n",
    "    to do several ``backward`` calls on the same graph, we need to pass\n",
    "    ``retain_graph=True`` to the ``backward`` call.</p></div>\n",
    "\n",
    "\n"
   ]
  },
  {
   "cell_type": "markdown",
   "id": "5e3081ff",
   "metadata": {},
   "source": [
    "## 5. Optimizing Model Parameters\n",
    "\n",
    "Now that we have a model and data it's time to train, validate and test our model by optimizing its parameters on\n",
    "our data. Training a model is an iterative process; in each iteration the model makes a guess about the output, calculates\n",
    "the error in its guess (*loss*), collects the derivatives of the error with respect to its parameters (as we saw in\n",
    "the [previous section](autograd_tutorial.html)), and **optimizes** these parameters using gradient descent. For a more\n",
    "detailed walkthrough of this process, check out this video on [backpropagation from 3Blue1Brown](https://www.youtube.com/watch?v=tIeHLnjs5U8)_.\n",
    "\n",
    "### 5.1 Prerequisite Code\n",
    "We load the code from the previous sections on [Datasets & DataLoaders](data_tutorial.html)\n",
    "and [Build Model](buildmodel_tutorial.html)."
   ]
  },
  {
   "cell_type": "code",
   "execution_count": 47,
   "id": "49016868",
   "metadata": {
    "ExecuteTime": {
     "end_time": "2023-11-11T18:56:27.661110700Z",
     "start_time": "2023-11-11T18:56:27.617288800Z"
    }
   },
   "outputs": [],
   "source": [
    "import torch\n",
    "from torch import nn\n",
    "from torch.utils.data import DataLoader\n",
    "from torchvision import datasets\n",
    "from torchvision.transforms import ToTensor\n",
    "\n",
    "training_data = datasets.FashionMNIST(\n",
    "    root=\"data\",\n",
    "    train=True,\n",
    "    download=True,\n",
    "    transform=ToTensor()\n",
    ")\n",
    "\n",
    "test_data = datasets.FashionMNIST(\n",
    "    root=\"data\",\n",
    "    train=False,\n",
    "    download=True,\n",
    "    transform=ToTensor()\n",
    ")\n",
    "\n",
    "train_dataloader = DataLoader(training_data, batch_size=64)\n",
    "test_dataloader = DataLoader(test_data, batch_size=64)\n",
    "\n",
    "class NeuralNetwork(nn.Module):\n",
    "    def __init__(self):\n",
    "        super().__init__()\n",
    "        self.flatten = nn.Flatten()\n",
    "        self.linear_relu_stack = nn.Sequential(\n",
    "            nn.Linear(28*28, 512),\n",
    "            nn.ReLU(),\n",
    "            nn.Linear(512, 512),\n",
    "            nn.ReLU(),\n",
    "            nn.Linear(512, 10),\n",
    "        )\n",
    "\n",
    "    def forward(self, x):\n",
    "        x = self.flatten(x)\n",
    "        logits = self.linear_relu_stack(x)\n",
    "        return logits\n",
    "\n",
    "model = NeuralNetwork()"
   ]
  },
  {
   "cell_type": "markdown",
   "id": "98f7652c",
   "metadata": {},
   "source": [
    "### 5.2 Hyperparameters\n",
    "\n",
    "Hyperparameters are adjustable parameters that let you control the model optimization process.\n",
    "Different hyperparameter values can impact model training and convergence rates\n",
    "([read more](https://pytorch.org/tutorials/beginner/hyperparameter_tuning_tutorial.html)_ about hyperparameter tuning)\n",
    "\n",
    "We define the following hyperparameters for training:\n",
    " - **Number of Epochs** - the number times to iterate over the dataset\n",
    " - **Batch Size** - the number of data samples propagated through the network before the parameters are updated\n",
    " - **Learning Rate** - how much to update models parameters at each batch/epoch. Smaller values yield slow learning speed, while large values may result in unpredictable behavior during training.\n",
    "\n",
    "\n"
   ]
  },
  {
   "cell_type": "code",
   "execution_count": 48,
   "id": "08698c9b",
   "metadata": {
    "ExecuteTime": {
     "end_time": "2023-11-11T18:56:32.900210900Z",
     "start_time": "2023-11-11T18:56:32.884705300Z"
    }
   },
   "outputs": [],
   "source": [
    "learning_rate = 1e-3\n",
    "batch_size = 64\n",
    "epochs = 5"
   ]
  },
  {
   "cell_type": "markdown",
   "id": "3a19caa0",
   "metadata": {},
   "source": [
    "### 5.3 Optimization Loop\n",
    "\n",
    "Once we set our hyperparameters, we can then train and optimize our model with an optimization loop. Each\n",
    "iteration of the optimization loop is called an **epoch**.\n",
    "\n",
    "Each epoch consists of two main parts:\n",
    " - **The Train Loop** - iterate over the training dataset and try to converge to optimal parameters.\n",
    " - **The Validation/Test Loop** - iterate over the test dataset to check if model performance is improving.\n",
    "\n",
    "Let's briefly familiarize ourselves with some of the concepts used in the training loop. Jump ahead to\n",
    "see the `full-impl-label` of the optimization loop.\n",
    "\n",
    "### 5.4 Loss Function\n",
    "\n",
    "When presented with some training data, our untrained network is likely not to give the correct\n",
    "answer. **Loss function** measures the degree of dissimilarity of obtained result to the target value,\n",
    "and it is the loss function that we want to minimize during training. To calculate the loss we make a\n",
    "prediction using the inputs of our given data sample and compare it against the true data label value.\n",
    "\n",
    "Common loss functions include [nn.MSELoss](https://pytorch.org/docs/stable/generated/torch.nn.MSELoss.html#torch.nn.MSELoss) (Mean Square Error) for regression tasks, and\n",
    "[nn.NLLLoss](https://pytorch.org/docs/stable/generated/torch.nn.NLLLoss.html#torch.nn.NLLLoss) (Negative Log Likelihood) for classification.\n",
    "[nn.CrossEntropyLoss](https://pytorch.org/docs/stable/generated/torch.nn.CrossEntropyLoss.html#torch.nn.CrossEntropyLoss) combines ``nn.LogSoftmax`` and ``nn.NLLLoss``.\n",
    "\n",
    "We pass our model's output logits to ``nn.CrossEntropyLoss``, which will normalize the logits and compute the prediction error.\n",
    "\n"
   ]
  },
  {
   "cell_type": "code",
   "execution_count": 49,
   "id": "99874922",
   "metadata": {
    "ExecuteTime": {
     "end_time": "2023-11-11T18:56:35.405631Z",
     "start_time": "2023-11-11T18:56:35.393121200Z"
    }
   },
   "outputs": [],
   "source": [
    "# Initialize the loss function\n",
    "loss_fn = nn.CrossEntropyLoss()"
   ]
  },
  {
   "cell_type": "markdown",
   "id": "0faf4a07",
   "metadata": {},
   "source": [
    "### 5.5 Optimizer\n",
    "\n",
    "Optimization is the process of adjusting model parameters to reduce model error in each training step. **Optimization algorithms** define how this process is performed (in this example we use Stochastic Gradient Descent).\n",
    "All optimization logic is encapsulated in  the ``optimizer`` object. Here, we use the SGD optimizer; additionally, there are many [different optimizers](https://pytorch.org/docs/stable/optim.html)\n",
    "available in PyTorch such as ADAM and RMSProp, that work better for different kinds of models and data.\n",
    "\n",
    "We initialize the optimizer by registering the model's parameters that need to be trained, and passing in the learning rate hyperparameter.\n",
    "\n"
   ]
  },
  {
   "cell_type": "code",
   "execution_count": 50,
   "id": "b4a662fe",
   "metadata": {
    "ExecuteTime": {
     "end_time": "2023-11-11T18:56:38.861086300Z",
     "start_time": "2023-11-11T18:56:38.845358300Z"
    }
   },
   "outputs": [],
   "source": [
    "optimizer = torch.optim.SGD(model.parameters(), lr=learning_rate)"
   ]
  },
  {
   "cell_type": "markdown",
   "id": "58fda917",
   "metadata": {},
   "source": [
    "Inside the training loop, optimization happens in three steps:\n",
    " * Call ``optimizer.zero_grad()`` to reset the gradients of model parameters. Gradients by default add up; to prevent double-counting, we explicitly zero them at each iteration.\n",
    " * Backpropagate the prediction loss with a call to ``loss.backward()``. PyTorch deposits the gradients of the loss w.r.t. each parameter.\n",
    " * Once we have our gradients, we call ``optimizer.step()`` to adjust the parameters by the gradients collected in the backward pass.\n",
    "\n"
   ]
  },
  {
   "cell_type": "markdown",
   "id": "ef4c3d87",
   "metadata": {},
   "source": [
    "\n",
    "### Full Implementation\n",
    "We define ``train_loop`` that loops over our optimization code, and ``test_loop`` that\n",
    "evaluates the model's performance against our test data.\n",
    "\n"
   ]
  },
  {
   "cell_type": "code",
   "execution_count": 51,
   "id": "b10616cf",
   "metadata": {
    "ExecuteTime": {
     "end_time": "2023-11-11T18:56:40.944612800Z",
     "start_time": "2023-11-11T18:56:40.930554600Z"
    }
   },
   "outputs": [],
   "source": [
    "def train_loop(dataloader, model, loss_fn, optimizer):\n",
    "    size = len(dataloader.dataset)\n",
    "    # Set the model to training mode - important for batch normalization and dropout layers\n",
    "    # Unnecessary in this situation but added for best practices\n",
    "    model.train()\n",
    "    for batch, (X, y) in enumerate(dataloader):\n",
    "        # Compute prediction and loss\n",
    "        pred = model(X)\n",
    "        loss = loss_fn(pred, y)\n",
    "\n",
    "        # Backpropagation\n",
    "        loss.backward()\n",
    "        optimizer.step()\n",
    "        optimizer.zero_grad()\n",
    "\n",
    "        if batch % 100 == 0:\n",
    "            loss, current = loss.item(), (batch + 1) * len(X)\n",
    "            print(f\"loss: {loss:>7f}  [{current:>5d}/{size:>5d}]\")\n",
    "\n",
    "\n",
    "def test_loop(dataloader, model, loss_fn):\n",
    "    # Set the model to evaluation mode - important for batch normalization and dropout layers\n",
    "    # Unnecessary in this situation but added for best practices\n",
    "    model.eval()\n",
    "    size = len(dataloader.dataset)\n",
    "    num_batches = len(dataloader)\n",
    "    test_loss, correct = 0, 0\n",
    "\n",
    "    # Evaluating the model with torch.no_grad() ensures that no gradients are computed during test mode\n",
    "    # also serves to reduce unnecessary gradient computations and memory usage for tensors with requires_grad=True\n",
    "    with torch.no_grad():\n",
    "        for X, y in dataloader:\n",
    "            pred = model(X)\n",
    "            test_loss += loss_fn(pred, y).item()\n",
    "            correct += (pred.argmax(1) == y).type(torch.float).sum().item()\n",
    "\n",
    "    test_loss /= num_batches\n",
    "    correct /= size\n",
    "    print(f\"Test Error: \\n Accuracy: {(100*correct):>0.1f}%, Avg loss: {test_loss:>8f} \\n\")"
   ]
  },
  {
   "cell_type": "markdown",
   "id": "4e239e7d",
   "metadata": {},
   "source": [
    "We initialize the loss function and optimizer, and pass it to ``train_loop`` and ``test_loop``.\n",
    "Feel free to increase the number of epochs to track the model's improving performance.\n",
    "\n"
   ]
  },
  {
   "cell_type": "code",
   "execution_count": 52,
   "id": "d582a95c",
   "metadata": {
    "scrolled": false,
    "ExecuteTime": {
     "end_time": "2023-11-11T18:57:25.402072600Z",
     "start_time": "2023-11-11T18:56:43.509746700Z"
    }
   },
   "outputs": [
    {
     "name": "stdout",
     "output_type": "stream",
     "text": [
      "Epoch 1\n",
      "-------------------------------\n",
      "loss: 2.294116  [   64/60000]\n",
      "loss: 2.278400  [ 6464/60000]\n",
      "loss: 2.263747  [12864/60000]\n",
      "loss: 2.265650  [19264/60000]\n",
      "loss: 2.252224  [25664/60000]\n",
      "loss: 2.213036  [32064/60000]\n",
      "loss: 2.226003  [38464/60000]\n",
      "loss: 2.198802  [44864/60000]\n",
      "loss: 2.187539  [51264/60000]\n",
      "loss: 2.162157  [57664/60000]\n",
      "Test Error: \n",
      " Accuracy: 37.9%, Avg loss: 2.149978 \n",
      "\n",
      "Epoch 2\n",
      "-------------------------------\n",
      "loss: 2.158343  [   64/60000]\n",
      "loss: 2.143317  [ 6464/60000]\n",
      "loss: 2.090207  [12864/60000]\n",
      "loss: 2.114979  [19264/60000]\n",
      "loss: 2.068841  [25664/60000]\n",
      "loss: 1.995074  [32064/60000]\n",
      "loss: 2.028314  [38464/60000]\n",
      "loss: 1.961780  [44864/60000]\n",
      "loss: 1.959842  [51264/60000]\n",
      "loss: 1.891128  [57664/60000]\n",
      "Test Error: \n",
      " Accuracy: 58.5%, Avg loss: 1.882654 \n",
      "\n",
      "Epoch 3\n",
      "-------------------------------\n",
      "loss: 1.916867  [   64/60000]\n",
      "loss: 1.878416  [ 6464/60000]\n",
      "loss: 1.766337  [12864/60000]\n",
      "loss: 1.817165  [19264/60000]\n",
      "loss: 1.703338  [25664/60000]\n",
      "loss: 1.649631  [32064/60000]\n",
      "loss: 1.673103  [38464/60000]\n",
      "loss: 1.591156  [44864/60000]\n",
      "loss: 1.607526  [51264/60000]\n",
      "loss: 1.505295  [57664/60000]\n",
      "Test Error: \n",
      " Accuracy: 62.3%, Avg loss: 1.514529 \n",
      "\n",
      "Epoch 4\n",
      "-------------------------------\n",
      "loss: 1.581957  [   64/60000]\n",
      "loss: 1.541734  [ 6464/60000]\n",
      "loss: 1.394274  [12864/60000]\n",
      "loss: 1.474230  [19264/60000]\n",
      "loss: 1.352028  [25664/60000]\n",
      "loss: 1.342706  [32064/60000]\n",
      "loss: 1.354576  [38464/60000]\n",
      "loss: 1.299050  [44864/60000]\n",
      "loss: 1.322444  [51264/60000]\n",
      "loss: 1.227872  [57664/60000]\n",
      "Test Error: \n",
      " Accuracy: 64.2%, Avg loss: 1.246523 \n",
      "\n",
      "Epoch 5\n",
      "-------------------------------\n",
      "loss: 1.322369  [   64/60000]\n",
      "loss: 1.303353  [ 6464/60000]\n",
      "loss: 1.136896  [12864/60000]\n",
      "loss: 1.252461  [19264/60000]\n",
      "loss: 1.127757  [25664/60000]\n",
      "loss: 1.141113  [32064/60000]\n",
      "loss: 1.160078  [38464/60000]\n",
      "loss: 1.116885  [44864/60000]\n",
      "loss: 1.144214  [51264/60000]\n",
      "loss: 1.067457  [57664/60000]\n",
      "Test Error: \n",
      " Accuracy: 65.4%, Avg loss: 1.081606 \n",
      "\n",
      "Epoch 6\n",
      "-------------------------------\n",
      "loss: 1.147671  [   64/60000]\n",
      "loss: 1.152359  [ 6464/60000]\n",
      "loss: 0.967776  [12864/60000]\n",
      "loss: 1.116290  [19264/60000]\n",
      "loss: 0.991608  [25664/60000]\n",
      "loss: 1.005879  [32064/60000]\n",
      "loss: 1.040145  [38464/60000]\n",
      "loss: 1.000884  [44864/60000]\n",
      "loss: 1.028383  [51264/60000]\n",
      "loss: 0.967218  [57664/60000]\n",
      "Test Error: \n",
      " Accuracy: 66.5%, Avg loss: 0.975674 \n",
      "\n",
      "Epoch 7\n",
      "-------------------------------\n",
      "loss: 1.026325  [   64/60000]\n",
      "loss: 1.053807  [ 6464/60000]\n",
      "loss: 0.852095  [12864/60000]\n",
      "loss: 1.025628  [19264/60000]\n",
      "loss: 0.906670  [25664/60000]\n",
      "loss: 0.911072  [32064/60000]\n",
      "loss: 0.961095  [38464/60000]\n",
      "loss: 0.925228  [44864/60000]\n",
      "loss: 0.949133  [51264/60000]\n",
      "loss: 0.899937  [57664/60000]\n",
      "Test Error: \n",
      " Accuracy: 67.9%, Avg loss: 0.903705 \n",
      "\n",
      "Epoch 8\n",
      "-------------------------------\n",
      "loss: 0.937567  [   64/60000]\n",
      "loss: 0.985008  [ 6464/60000]\n",
      "loss: 0.769682  [12864/60000]\n",
      "loss: 0.961762  [19264/60000]\n",
      "loss: 0.850098  [25664/60000]\n",
      "loss: 0.842446  [32064/60000]\n",
      "loss: 0.904996  [38464/60000]\n",
      "loss: 0.873930  [44864/60000]\n",
      "loss: 0.892623  [51264/60000]\n",
      "loss: 0.851386  [57664/60000]\n",
      "Test Error: \n",
      " Accuracy: 68.8%, Avg loss: 0.851935 \n",
      "\n",
      "Epoch 9\n",
      "-------------------------------\n",
      "loss: 0.869390  [   64/60000]\n",
      "loss: 0.933345  [ 6464/60000]\n",
      "loss: 0.708381  [12864/60000]\n",
      "loss: 0.914185  [19264/60000]\n",
      "loss: 0.809413  [25664/60000]\n",
      "loss: 0.791163  [32064/60000]\n",
      "loss: 0.862330  [38464/60000]\n",
      "loss: 0.837950  [44864/60000]\n",
      "loss: 0.850663  [51264/60000]\n",
      "loss: 0.813867  [57664/60000]\n",
      "Test Error: \n",
      " Accuracy: 70.3%, Avg loss: 0.812725 \n",
      "\n",
      "Epoch 10\n",
      "-------------------------------\n",
      "loss: 0.815148  [   64/60000]\n",
      "loss: 0.892112  [ 6464/60000]\n",
      "loss: 0.661228  [12864/60000]\n",
      "loss: 0.877205  [19264/60000]\n",
      "loss: 0.778316  [25664/60000]\n",
      "loss: 0.751982  [32064/60000]\n",
      "loss: 0.827683  [38464/60000]\n",
      "loss: 0.811367  [44864/60000]\n",
      "loss: 0.818062  [51264/60000]\n",
      "loss: 0.783594  [57664/60000]\n",
      "Test Error: \n",
      " Accuracy: 71.9%, Avg loss: 0.781582 \n",
      "\n",
      "Done!\n"
     ]
    }
   ],
   "source": [
    "loss_fn = nn.CrossEntropyLoss()\n",
    "optimizer = torch.optim.SGD(model.parameters(), lr=learning_rate)\n",
    "\n",
    "epochs = 10\n",
    "for t in range(epochs):\n",
    "    print(f\"Epoch {t+1}\\n-------------------------------\")\n",
    "    train_loop(train_dataloader, model, loss_fn, optimizer)\n",
    "    test_loop(test_dataloader, model, loss_fn)\n",
    "print(\"Done!\")"
   ]
  },
  {
   "cell_type": "markdown",
   "id": "551c72dc",
   "metadata": {},
   "source": [
    "# Part 2. A qucik start with the Moon Data\n",
    "\n",
    "In this part, we build a neural network with the Moon Data."
   ]
  },
  {
   "cell_type": "code",
   "execution_count": 53,
   "id": "c897fe26",
   "metadata": {
    "ExecuteTime": {
     "end_time": "2023-11-11T18:57:34.182847400Z",
     "start_time": "2023-11-11T18:57:33.829217200Z"
    }
   },
   "outputs": [
    {
     "data": {
      "text/plain": "<Figure size 500x500 with 1 Axes>",
      "image/png": "[encoded data removed]"
     },
     "metadata": {},
     "output_type": "display_data"
    }
   ],
   "source": [
    "from sklearn.datasets import make_moons\n",
    "from sklearn.model_selection import train_test_split\n",
    "\n",
    "np.random.seed(0)\n",
    "torch.manual_seed(0)\n",
    "X, Y = make_moons(500, noise=0.2)\n",
    "\n",
    "# Split into test and training data\n",
    "X_train, X_test, Y_train, Y_test = train_test_split(X, Y,\n",
    "    test_size=0.25, random_state=73)       \n",
    "    \n",
    "#plot the data\n",
    "plt.figure(figsize=(5,5))\n",
    "plt.scatter(X_train[:,0], X_train[:,1], c=Y_train)\n",
    "plt.title('Moon Data')\n",
    "plt.show()"
   ]
  },
  {
   "cell_type": "markdown",
   "id": "76ab42db",
   "metadata": {},
   "source": [
    "### Get Device for Training\n",
    "We want to be able to train our model on a hardware accelerator like the GPU or MPS,\n",
    "if available. Let's check to see if [torch.cuda](https://pytorch.org/docs/stable/notes/cuda.html)\n",
    "or [torch.backends.mps](https://pytorch.org/docs/stable/notes/mps.html) are available, otherwise we use the CPU."
   ]
  },
  {
   "cell_type": "code",
   "execution_count": 54,
   "id": "c7f175d5",
   "metadata": {
    "ExecuteTime": {
     "end_time": "2023-11-11T18:57:37.109193800Z",
     "start_time": "2023-11-11T18:57:37.082093100Z"
    }
   },
   "outputs": [
    {
     "name": "stdout",
     "output_type": "stream",
     "text": [
      "Using cuda device\n"
     ]
    }
   ],
   "source": [
    "device = (\n",
    "    \"cuda\"\n",
    "    if torch.cuda.is_available()\n",
    "    else \"mps\"\n",
    "    if torch.backends.mps.is_available()\n",
    "    else \"cpu\"\n",
    ")\n",
    "print(f\"Using {device} device\")"
   ]
  },
  {
   "cell_type": "markdown",
   "id": "48032475",
   "metadata": {},
   "source": [
    "### Define the model"
   ]
  },
  {
   "cell_type": "code",
   "execution_count": 55,
   "id": "6f3b88f3",
   "metadata": {
    "ExecuteTime": {
     "end_time": "2023-11-11T18:57:38.610013400Z",
     "start_time": "2023-11-11T18:57:38.596138800Z"
    }
   },
   "outputs": [],
   "source": [
    "import torch\n",
    "from torch import nn, optim\n",
    "from sklearn.metrics import accuracy_score\n",
    "import matplotlib.pyplot as plt\n",
    "\n",
    "# Convert data to tensors\n",
    "X_train = torch.FloatTensor(X_train)\n",
    "X_test = torch.FloatTensor(X_test)\n",
    "Y_train = torch.LongTensor(Y_train)\n",
    "Y_test = torch.LongTensor(Y_test)\n",
    "\n",
    "# Define the model\n",
    "class Net(nn.Module):\n",
    "    def __init__(self):\n",
    "        super(Net, self).__init__()\n",
    "        self.fc1 = nn.Linear(2, 50)\n",
    "        self.fc2 = nn.Linear(50, 2)\n",
    "\n",
    "    def forward(self, x):\n",
    "        x = torch.relu(self.fc1(x))\n",
    "        x = self.fc2(x)\n",
    "        return x"
   ]
  },
  {
   "cell_type": "markdown",
   "id": "9f35d460",
   "metadata": {},
   "source": [
    "### Train the model"
   ]
  },
  {
   "cell_type": "code",
   "execution_count": 58,
   "id": "39fb1fca",
   "metadata": {
    "ExecuteTime": {
     "end_time": "2023-11-11T18:57:55.069434300Z",
     "start_time": "2023-11-11T18:57:53.149537300Z"
    }
   },
   "outputs": [
    {
     "name": "stdout",
     "output_type": "stream",
     "text": [
      "Epoch: 0, Loss: 0.705367922782898, Accuracy: 0.88\n",
      "Epoch: 100, Loss: 0.08316408842802048, Accuracy: 0.928\n",
      "Epoch: 200, Loss: 0.056494999676942825, Accuracy: 0.944\n",
      "Epoch: 300, Loss: 0.05024513602256775, Accuracy: 0.944\n",
      "Epoch: 400, Loss: 0.0480816513299942, Accuracy: 0.944\n",
      "Epoch: 500, Loss: 0.04683295264840126, Accuracy: 0.936\n",
      "Epoch: 600, Loss: 0.04600544273853302, Accuracy: 0.936\n",
      "Epoch: 700, Loss: 0.0451601967215538, Accuracy: 0.936\n",
      "Epoch: 800, Loss: 0.04450656473636627, Accuracy: 0.936\n",
      "Epoch: 900, Loss: 0.04381217807531357, Accuracy: 0.936\n"
     ]
    },
    {
     "data": {
      "text/plain": "<Figure size 1000x500 with 2 Axes>",
      "image/png": "[encoded data removed]"
     },
     "metadata": {},
     "output_type": "display_data"
    }
   ],
   "source": [
    "# Convert data to tensors\n",
    "X_train = torch.FloatTensor(X_train)\n",
    "X_test = torch.FloatTensor(X_test)\n",
    "Y_train = torch.LongTensor(Y_train)\n",
    "Y_test = torch.LongTensor(Y_test)\n",
    "\n",
    "# Define the model\n",
    "class Net(nn.Module):\n",
    "    def __init__(self):\n",
    "        super(Net, self).__init__()\n",
    "        self.fc1 = nn.Linear(2, 50)  # First fully connected layer, 2 input neurons (features), 50 output neurons\n",
    "        self.fc2 = nn.Linear(50, 2)  # Second fully connected layer, 50 input neurons, 2 output neurons (classes)\n",
    "\n",
    "    def forward(self, x):\n",
    "        x = torch.relu(self.fc1(x))  # Apply ReLU activation function after first layer\n",
    "        x = self.fc2(x)  # Output layer\n",
    "        return x\n",
    "\n",
    "# Initialize the model and define loss and optimizer\n",
    "model = Net().to(device)  # Initialize the model and move it to GPU if available\n",
    "criterion = nn.CrossEntropyLoss()  # Define the loss function (Cross Entropy Loss)\n",
    "optimizer = optim.Adam(model.parameters(), lr=0.01)  # Define the optimizer (Adam)\n",
    "\n",
    "# For storing losses and accuracies for each epoch\n",
    "losses = []\n",
    "accuracies = []\n",
    "\n",
    "# Training loop\n",
    "for epoch in range(1000):  # Loop over the dataset multiple times\n",
    "    model.train()  # Set model to training mode\n",
    "    optimizer.zero_grad()  # Zero the parameter gradients\n",
    "    out = model(X_train.to(device))  # Forward pass: Compute predicted y by passing x to the model\n",
    "    loss = criterion(out, Y_train.to(device))  # Compute loss: Calculate the error (CrossEntropyLoss)\n",
    "    losses.append(loss.item())  # Store the loss for this epoch\n",
    "    loss.backward()  # Backward pass: Compute gradient of the loss with respect to model parameters\n",
    "    optimizer.step()  # Perform a single optimization step (parameter update)\n",
    "\n",
    "    model.eval()  # Set model to evaluation mode for testing\n",
    "    test_out = model(X_test.to(device))  # Forward pass on the test data\n",
    "    preds = torch.argmax(test_out, axis=1)  # Get predictions from the maximum value\n",
    "    accuracy = accuracy_score(Y_test.cpu(), preds.cpu())  # Calculate the accuracy for this epoch\n",
    "    accuracies.append(accuracy)  # Store the accuracy for this epoch\n",
    "\n",
    "    if epoch % 100 == 0:  \n",
    "        print(f\"Epoch: {epoch}, Loss: {loss.item()}, Accuracy: {accuracy}\")  # Print loss & accuracy for every 100th epoch\n",
    "\n",
    "# Plotting loss and accuracy\n",
    "plt.figure(figsize=(10,5))\n",
    "plt.subplot(1, 2, 1)\n",
    "plt.plot(losses)   # Plot training loss over epochs\n",
    "plt.title('Training Loss')\n",
    "plt.subplot(1, 2, 2)\n",
    "plt.plot(accuracies)   # Plot test accuracy over epochs\n",
    "plt.title('Test Accuracy')\n",
    "plt.show()"
   ]
  },
  {
   "cell_type": "code",
   "execution_count": 59,
   "id": "a63b457b",
   "metadata": {
    "scrolled": false,
    "ExecuteTime": {
     "end_time": "2023-11-11T18:57:58.757526800Z",
     "start_time": "2023-11-11T18:57:58.586083700Z"
    }
   },
   "outputs": [
    {
     "data": {
      "text/plain": "<Figure size 640x480 with 1 Axes>",
      "image/png": "[encoded data removed]"
     },
     "metadata": {},
     "output_type": "display_data"
    }
   ],
   "source": [
    "import numpy as np\n",
    "\n",
    "# Create a grid of points to classify\n",
    "x_min, x_max = X[:, 0].min() - 1, X[:, 0].max() + 1\n",
    "y_min, y_max = X[:, 1].min() - 1, X[:, 1].max() + 1\n",
    "xx, yy = np.meshgrid(np.arange(x_min, x_max, 0.01),\n",
    "                     np.arange(y_min, y_max, 0.01))\n",
    "\n",
    "# Put the model in evaluation mode\n",
    "model.eval()\n",
    "\n",
    "# Predicting on all the points in grid\n",
    "grid_points = torch.Tensor(np.c_[xx.ravel(), yy.ravel()]).to(device)\n",
    "preds = model(grid_points)\n",
    "_, predictions_grid = torch.max(preds.data, 1)\n",
    "\n",
    "predictions_grid = predictions_grid.cpu().numpy().reshape(xx.shape)\n",
    "\n",
    "# Plotting the grid of x, y points colored by predictions\n",
    "plt.contourf(xx, yy, predictions_grid, alpha=0.7)\n",
    "plt.scatter(X_test[:, 0], X_test[:, 1], c=Y_test, edgecolors='k')\n",
    "plt.title('ANN decision boundary')\n",
    "plt.show()\n"
   ]
  },
  {
   "cell_type": "markdown",
   "id": "ea871a4b",
   "metadata": {},
   "source": [
    "# Part 3. Exersise 2: MNIST"
   ]
  },
  {
   "cell_type": "markdown",
   "id": "d785d5c8",
   "metadata": {},
   "source": [
    "Remember the MNIST dataset? Now let's apply an ANN model on the MNIST dataset. \n",
    "\n",
    "- Define the network architecture, the loss function and optimizer.\n",
    "- Train the model and record the train loss, test loss and test accuracy.\n",
    "- Try to achieve at least 90% accuracy.\n",
    "\n",
    "The code to load the data:"
   ]
  },
  {
   "cell_type": "code",
   "execution_count": 60,
   "id": "048c6254",
   "metadata": {
    "ExecuteTime": {
     "end_time": "2023-11-11T18:58:02.304086700Z",
     "start_time": "2023-11-11T18:58:02.115052900Z"
    }
   },
   "outputs": [
    {
     "ename": "FileNotFoundError",
     "evalue": "[Errno 2] No such file or directory: 'MNIST/train-images-idx3-ubyte.gz'",
     "output_type": "error",
     "traceback": [
      "\u001B[1;31m---------------------------------------------------------------------------\u001B[0m",
      "\u001B[1;31mFileNotFoundError\u001B[0m                         Traceback (most recent call last)",
      "Cell \u001B[1;32mIn[60], line 17\u001B[0m\n\u001B[0;32m     14\u001B[0m     \u001B[38;5;28;01mreturn\u001B[39;00m labels\n\u001B[0;32m     16\u001B[0m \u001B[38;5;66;03m# Load training data and labels\u001B[39;00m\n\u001B[1;32m---> 17\u001B[0m train_data \u001B[38;5;241m=\u001B[39m \u001B[43mload_mnist_images\u001B[49m\u001B[43m(\u001B[49m\u001B[38;5;124;43m'\u001B[39;49m\u001B[38;5;124;43mMNIST/train-images-idx3-ubyte.gz\u001B[39;49m\u001B[38;5;124;43m'\u001B[39;49m\u001B[43m)\u001B[49m\n\u001B[0;32m     18\u001B[0m train_labels \u001B[38;5;241m=\u001B[39m load_mnist_labels(\u001B[38;5;124m'\u001B[39m\u001B[38;5;124mMNIST/train-labels-idx1-ubyte.gz\u001B[39m\u001B[38;5;124m'\u001B[39m)\n\u001B[0;32m     20\u001B[0m \u001B[38;5;66;03m# Load testing data and labels\u001B[39;00m\n",
      "Cell \u001B[1;32mIn[60], line 6\u001B[0m, in \u001B[0;36mload_mnist_images\u001B[1;34m(filename)\u001B[0m\n\u001B[0;32m      5\u001B[0m \u001B[38;5;28;01mdef\u001B[39;00m \u001B[38;5;21mload_mnist_images\u001B[39m(filename):\n\u001B[1;32m----> 6\u001B[0m     \u001B[38;5;28;01mwith\u001B[39;00m \u001B[43mgzip\u001B[49m\u001B[38;5;241;43m.\u001B[39;49m\u001B[43mopen\u001B[49m\u001B[43m(\u001B[49m\u001B[43mfilename\u001B[49m\u001B[43m,\u001B[49m\u001B[43m \u001B[49m\u001B[38;5;124;43m'\u001B[39;49m\u001B[38;5;124;43mrb\u001B[39;49m\u001B[38;5;124;43m'\u001B[39;49m\u001B[43m)\u001B[49m \u001B[38;5;28;01mas\u001B[39;00m f:\n\u001B[0;32m      7\u001B[0m         data \u001B[38;5;241m=\u001B[39m np\u001B[38;5;241m.\u001B[39mfrombuffer(f\u001B[38;5;241m.\u001B[39mread(), np\u001B[38;5;241m.\u001B[39muint8, offset\u001B[38;5;241m=\u001B[39m\u001B[38;5;241m16\u001B[39m)\n\u001B[0;32m      8\u001B[0m     data \u001B[38;5;241m=\u001B[39m data\u001B[38;5;241m.\u001B[39mreshape(\u001B[38;5;241m-\u001B[39m\u001B[38;5;241m1\u001B[39m, \u001B[38;5;241m28\u001B[39m, \u001B[38;5;241m28\u001B[39m)\n",
      "File \u001B[1;32m~\\AppData\\Local\\Programs\\Python\\Python311\\Lib\\gzip.py:58\u001B[0m, in \u001B[0;36mopen\u001B[1;34m(filename, mode, compresslevel, encoding, errors, newline)\u001B[0m\n\u001B[0;32m     56\u001B[0m gz_mode \u001B[38;5;241m=\u001B[39m mode\u001B[38;5;241m.\u001B[39mreplace(\u001B[38;5;124m\"\u001B[39m\u001B[38;5;124mt\u001B[39m\u001B[38;5;124m\"\u001B[39m, \u001B[38;5;124m\"\u001B[39m\u001B[38;5;124m\"\u001B[39m)\n\u001B[0;32m     57\u001B[0m \u001B[38;5;28;01mif\u001B[39;00m \u001B[38;5;28misinstance\u001B[39m(filename, (\u001B[38;5;28mstr\u001B[39m, \u001B[38;5;28mbytes\u001B[39m, os\u001B[38;5;241m.\u001B[39mPathLike)):\n\u001B[1;32m---> 58\u001B[0m     binary_file \u001B[38;5;241m=\u001B[39m \u001B[43mGzipFile\u001B[49m\u001B[43m(\u001B[49m\u001B[43mfilename\u001B[49m\u001B[43m,\u001B[49m\u001B[43m \u001B[49m\u001B[43mgz_mode\u001B[49m\u001B[43m,\u001B[49m\u001B[43m \u001B[49m\u001B[43mcompresslevel\u001B[49m\u001B[43m)\u001B[49m\n\u001B[0;32m     59\u001B[0m \u001B[38;5;28;01melif\u001B[39;00m \u001B[38;5;28mhasattr\u001B[39m(filename, \u001B[38;5;124m\"\u001B[39m\u001B[38;5;124mread\u001B[39m\u001B[38;5;124m\"\u001B[39m) \u001B[38;5;129;01mor\u001B[39;00m \u001B[38;5;28mhasattr\u001B[39m(filename, \u001B[38;5;124m\"\u001B[39m\u001B[38;5;124mwrite\u001B[39m\u001B[38;5;124m\"\u001B[39m):\n\u001B[0;32m     60\u001B[0m     binary_file \u001B[38;5;241m=\u001B[39m GzipFile(\u001B[38;5;28;01mNone\u001B[39;00m, gz_mode, compresslevel, filename)\n",
      "File \u001B[1;32m~\\AppData\\Local\\Programs\\Python\\Python311\\Lib\\gzip.py:174\u001B[0m, in \u001B[0;36mGzipFile.__init__\u001B[1;34m(self, filename, mode, compresslevel, fileobj, mtime)\u001B[0m\n\u001B[0;32m    172\u001B[0m     mode \u001B[38;5;241m+\u001B[39m\u001B[38;5;241m=\u001B[39m \u001B[38;5;124m'\u001B[39m\u001B[38;5;124mb\u001B[39m\u001B[38;5;124m'\u001B[39m\n\u001B[0;32m    173\u001B[0m \u001B[38;5;28;01mif\u001B[39;00m fileobj \u001B[38;5;129;01mis\u001B[39;00m \u001B[38;5;28;01mNone\u001B[39;00m:\n\u001B[1;32m--> 174\u001B[0m     fileobj \u001B[38;5;241m=\u001B[39m \u001B[38;5;28mself\u001B[39m\u001B[38;5;241m.\u001B[39mmyfileobj \u001B[38;5;241m=\u001B[39m \u001B[43mbuiltins\u001B[49m\u001B[38;5;241;43m.\u001B[39;49m\u001B[43mopen\u001B[49m\u001B[43m(\u001B[49m\u001B[43mfilename\u001B[49m\u001B[43m,\u001B[49m\u001B[43m \u001B[49m\u001B[43mmode\u001B[49m\u001B[43m \u001B[49m\u001B[38;5;129;43;01mor\u001B[39;49;00m\u001B[43m \u001B[49m\u001B[38;5;124;43m'\u001B[39;49m\u001B[38;5;124;43mrb\u001B[39;49m\u001B[38;5;124;43m'\u001B[39;49m\u001B[43m)\u001B[49m\n\u001B[0;32m    175\u001B[0m \u001B[38;5;28;01mif\u001B[39;00m filename \u001B[38;5;129;01mis\u001B[39;00m \u001B[38;5;28;01mNone\u001B[39;00m:\n\u001B[0;32m    176\u001B[0m     filename \u001B[38;5;241m=\u001B[39m \u001B[38;5;28mgetattr\u001B[39m(fileobj, \u001B[38;5;124m'\u001B[39m\u001B[38;5;124mname\u001B[39m\u001B[38;5;124m'\u001B[39m, \u001B[38;5;124m'\u001B[39m\u001B[38;5;124m'\u001B[39m)\n",
      "\u001B[1;31mFileNotFoundError\u001B[0m: [Errno 2] No such file or directory: 'MNIST/train-images-idx3-ubyte.gz'"
     ]
    }
   ],
   "source": [
    "import matplotlib.pyplot as plt\n",
    "import gzip\n",
    "import numpy as np\n",
    "\n",
    "def load_mnist_images(filename):\n",
    "    with gzip.open(filename, 'rb') as f:\n",
    "        data = np.frombuffer(f.read(), np.uint8, offset=16)\n",
    "    data = data.reshape(-1, 28, 28)\n",
    "    return data\n",
    "\n",
    "def load_mnist_labels(filename):\n",
    "    with gzip.open(filename, 'rb') as f:\n",
    "        labels = np.frombuffer(f.read(), np.uint8, offset=8)\n",
    "    return labels\n",
    "\n",
    "# Load training data and labels\n",
    "train_data = load_mnist_images('MNIST/train-images-idx3-ubyte.gz')\n",
    "train_labels = load_mnist_labels('MNIST/train-labels-idx1-ubyte.gz')\n",
    "\n",
    "# Load testing data and labels\n",
    "test_data = load_mnist_images('MNIST/t10k-images-idx3-ubyte.gz')\n",
    "test_labels = load_mnist_labels('MNIST/t10k-labels-idx1-ubyte.gz')\n",
    "\n",
    "# Initialize a list to store the indices of each class\n",
    "class_indices = [[] for _ in range(10)]\n",
    "\n",
    "# Iterate through the labels and store the indices of each class\n",
    "for i, label in enumerate(test_labels):\n",
    "    class_indices[label].append(i)\n",
    "\n",
    "# Plot 10 examples from each class\n",
    "fig, axs = plt.subplots(10, 10, figsize=(5, 5))\n",
    "for i in range(10):\n",
    "    for j in range(10):\n",
    "        index = class_indices[i][j]\n",
    "        axs[i, j].imshow(test_data[index], cmap='gray')\n",
    "        axs[i, j].axis('off')\n",
    "plt.show()"
   ]
  },
  {
   "cell_type": "markdown",
   "id": "79438959",
   "metadata": {},
   "source": [
    "Your answers here:"
   ]
  },
  {
   "cell_type": "code",
   "execution_count": null,
   "id": "570a06c7",
   "metadata": {},
   "outputs": [],
   "source": []
  },
  {
   "cell_type": "markdown",
   "id": "fa23aa64",
   "metadata": {},
   "source": [
    "Example code:"
   ]
  },
  {
   "cell_type": "code",
   "execution_count": 61,
   "id": "b97695eb",
   "metadata": {
    "ExecuteTime": {
     "end_time": "2023-11-11T18:58:15.590865Z",
     "start_time": "2023-11-11T18:58:15.547366500Z"
    }
   },
   "outputs": [
    {
     "ename": "NameError",
     "evalue": "name 'train_data' is not defined",
     "output_type": "error",
     "traceback": [
      "\u001B[1;31m---------------------------------------------------------------------------\u001B[0m",
      "\u001B[1;31mNameError\u001B[0m                                 Traceback (most recent call last)",
      "Cell \u001B[1;32mIn[61], line 9\u001B[0m\n\u001B[0;32m      6\u001B[0m torch\u001B[38;5;241m.\u001B[39mmanual_seed(\u001B[38;5;241m0\u001B[39m)\n\u001B[0;32m      8\u001B[0m \u001B[38;5;66;03m# Convert the numpy arrays into PyTorch tensors\u001B[39;00m\n\u001B[1;32m----> 9\u001B[0m train_data_tensor \u001B[38;5;241m=\u001B[39m torch\u001B[38;5;241m.\u001B[39mTensor(\u001B[43mtrain_data\u001B[49m)\n\u001B[0;32m     10\u001B[0m train_labels_tensor \u001B[38;5;241m=\u001B[39m torch\u001B[38;5;241m.\u001B[39mTensor(train_labels)\n\u001B[0;32m     11\u001B[0m test_data_tensor \u001B[38;5;241m=\u001B[39m torch\u001B[38;5;241m.\u001B[39mTensor(test_data)\n",
      "\u001B[1;31mNameError\u001B[0m: name 'train_data' is not defined"
     ]
    }
   ],
   "source": [
    "import torch\n",
    "from torch import nn, optim\n",
    "from torch.utils.data import TensorDataset, DataLoader\n",
    "\n",
    "# Set the random seed\n",
    "torch.manual_seed(0)\n",
    "\n",
    "# Convert the numpy arrays into PyTorch tensors\n",
    "train_data_tensor = torch.Tensor(train_data)\n",
    "train_labels_tensor = torch.Tensor(train_labels)\n",
    "test_data_tensor = torch.Tensor(test_data)\n",
    "test_labels_tensor = torch.Tensor(test_labels)\n",
    "\n",
    "# Create dataloaders\n",
    "train_dataset = TensorDataset(train_data_tensor, train_labels_tensor)\n",
    "test_dataset = TensorDataset(test_data_tensor, test_labels_tensor)\n",
    "train_loader = DataLoader(train_dataset, batch_size=64, shuffle=True)\n",
    "test_loader = DataLoader(test_dataset, batch_size=64, shuffle=True)\n",
    "\n",
    "# Define the network architecture\n",
    "model = nn.Sequential(\n",
    "    nn.Flatten(),\n",
    "    nn.Linear(28*28, 128),\n",
    "    nn.ReLU(),\n",
    "    nn.Linear(128, 64),\n",
    "    nn.ReLU(),\n",
    "    nn.Linear(64, 10),\n",
    "    nn.LogSoftmax(dim=1)\n",
    ")\n",
    "\n",
    "# Define the loss function and optimizer\n",
    "criterion = nn.NLLLoss()\n",
    "optimizer = optim.Adam(model.parameters(), lr=0.003)\n",
    "\n",
    "\n",
    "epochs = 5\n",
    "for e in range(epochs):\n",
    "    # Training\n",
    "    running_loss = 0\n",
    "    model.train()\n",
    "    for images, labels in train_loader:\n",
    "        optimizer.zero_grad()\n",
    "        output = model(images)\n",
    "        loss = criterion(output, labels.long())\n",
    "        loss.backward()\n",
    "        optimizer.step()\n",
    "        running_loss += loss.item()\n",
    "    # Testing\n",
    "    test_loss = 0\n",
    "    accuracy = 0\n",
    "    with torch.no_grad():\n",
    "        model.eval()\n",
    "        for images, labels in test_loader:\n",
    "            log_ps = model(images)\n",
    "            test_loss += criterion(log_ps, labels.long())\n",
    "            ps = torch.exp(log_ps)\n",
    "            top_p, top_class = ps.topk(1, dim=1)\n",
    "            equals = top_class == labels.view(*top_class.shape).long()\n",
    "            accuracy += torch.mean(equals.type(torch.FloatTensor))\n",
    "    print(f\"Epoch {e+1}/{epochs} - Training loss: {running_loss/len(train_loader)} - Test loss: {test_loss/len(test_loader)} - Test accuracy: {accuracy/len(test_loader)}\")"
   ]
  },
  {
   "cell_type": "markdown",
   "id": "e89ff1c2",
   "metadata": {},
   "source": [
    "# The template for Assignment 6"
   ]
  },
  {
   "cell_type": "code",
   "execution_count": 63,
   "id": "ffe1a9e9",
   "metadata": {
    "ExecuteTime": {
     "end_time": "2023-11-11T18:59:49.123979700Z",
     "start_time": "2023-11-11T18:59:49.088931100Z"
    }
   },
   "outputs": [
    {
     "name": "stdout",
     "output_type": "stream",
     "text": [
      "Shape of X_public: (20000, 23)\n",
      "Shape of y_public: (20000,)\n",
      "Shape of X_private: (5000, 23)\n"
     ]
    }
   ],
   "source": [
    "import os\n",
    "import pandas as pd\n",
    "\n",
    "def read_data_from_csv(path):\n",
    "    \"\"\"Load datasets from CSV files.\n",
    "    Args:\n",
    "        path (str): Path to the CSV file.\n",
    "    Returns:\n",
    "        X (np.ndarray): Features of samples.\n",
    "        y (np.ndarray): Labels of samples, only provided in the public datasets.\n",
    "    \"\"\"\n",
    "    assert os.path.exists(path), f'File not found: {path}!'\n",
    "    assert os.path.splitext(path)[\n",
    "        -1] == '.csv', f'Unsupported file type {os.path.splitext(path)[-1]}!'\n",
    "\n",
    "    data = pd.read_csv(path)\n",
    "    column_list = data.columns.values.tolist()\n",
    "\n",
    "    if 'Label' in column_list:\n",
    "        # for the public dataset, label column is provided.\n",
    "        column_list.remove('Label')\n",
    "        X = data[column_list].values\n",
    "        y = data['Label'].astype('int').values\n",
    "        return X, y\n",
    "    else:\n",
    "        # for the private dataset, label column is not provided.\n",
    "        X = data[column_list].values\n",
    "        return X\n",
    "\n",
    "X_public, y_public = read_data_from_csv('assignment_6_public.csv')\n",
    "print('Shape of X_public:', X_public.shape)  # n_sample, m_feature (20000, 23)\n",
    "print('Shape of y_public:', y_public.shape)  # n_sample (20000,)\n",
    "\n",
    "'''\n",
    "CODE HERE!\n",
    "'''\n",
    "\n",
    "X_private = read_data_from_csv('assignment_6_private.csv')\n",
    "print('Shape of X_private:', X_private.shape)  # k_sample, m_feature (5000, 23)\n",
    "\n",
    "import numpy as np\n",
    "\n",
    "# remove and make your own predictions.\n",
    "preds = np.full(len(X_private), -1,\n",
    "                dtype=int)\n",
    "'''\n",
    "CODE HERE!\n",
    "e.g.,\n",
    "preds = np.full(len(X_private), -1, dtype=int)\n",
    "'''\n",
    "\n",
    "submission = pd.DataFrame({'Label': preds})\n",
    "submission.to_csv('assignment_6.csv', index=True, index_label='Id')"
   ]
  }
 ],
 "metadata": {
  "kernelspec": {
   "display_name": "Python 3 (ipykernel)",
   "language": "python",
   "name": "python3"
  },
  "language_info": {
   "codemirror_mode": {
    "name": "ipython",
    "version": 3
   },
   "file_extension": ".py",
   "mimetype": "text/x-python",
   "name": "python",
   "nbconvert_exporter": "python",
   "pygments_lexer": "ipython3",
   "version": "3.11.5"
  }
 },
 "nbformat": 4,
 "nbformat_minor": 5
}
